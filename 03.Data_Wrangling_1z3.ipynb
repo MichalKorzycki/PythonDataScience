{
 "cells": [
  {
   "cell_type": "markdown",
   "metadata": {},
   "source": [
    "# Warsztaty Python w Data Science"
   ]
  },
  {
   "cell_type": "markdown",
   "metadata": {},
   "source": [
    "## Data Wrangling z Biblioteką Pandas - wprowadzenie \n",
    "### Część 1 z 3"
   ]
  },
  {
   "cell_type": "markdown",
   "metadata": {},
   "source": [
    "***"
   ]
  },
  {
   "cell_type": "markdown",
   "metadata": {},
   "source": [
    "# https://github.com/MichalKorzycki/PythonDataScience"
   ]
  },
  {
   "cell_type": "markdown",
   "metadata": {},
   "source": [
    "***"
   ]
  },
  {
   "cell_type": "markdown",
   "metadata": {},
   "source": [
    "## 3. Data Wrangling 1\n",
    "- Data wrangling, munging, tidying\n",
    "- Biblioteka Pandas – wprowadzenie\n",
    "- Wybieranie wierszy\n",
    "- Formatowanie"
   ]
  },
  {
   "cell_type": "markdown",
   "metadata": {},
   "source": [
    "---\n",
    "## Zadanie 1 \n",
    "\n",
    "Posortować `dluga_lista` po wartości bezwględnej elementów listy interpretowanych jako wartość całkowita "
   ]
  },
  {
   "cell_type": "code",
   "execution_count": 3,
   "metadata": {},
   "outputs": [
    {
     "data": {
      "text/plain": [
       "\"['0', '1', '2', '3', '4', '5', '6', '7', '8', '9', '10', '11', '12', '13', '14', '15', '16', '17', '18', '19', '20', '-1', '-2', '-3', '-4', '-5', '-6', '-7', '-8', '-9', '-10', '-11', '-12', '-13', '-14', '-15', '-16', '-17', '-18', '-19', '-20']\""
      ]
     },
     "execution_count": 3,
     "metadata": {},
     "output_type": "execute_result"
    }
   ],
   "source": [
    "dluga_lista = [ str(i) for i in range(21)] + [ str(i) for i in range(-1, -21, -1)]\n",
    "str(dluga_lista)"
   ]
  },
  {
   "cell_type": "code",
   "execution_count": 4,
   "metadata": {},
   "outputs": [
    {
     "data": {
      "text/plain": [
       "1"
      ]
     },
     "execution_count": 4,
     "metadata": {},
     "output_type": "execute_result"
    }
   ],
   "source": [
    "abs(-1)"
   ]
  },
  {
   "cell_type": "code",
   "execution_count": 5,
   "metadata": {},
   "outputs": [
    {
     "ename": "TypeError",
     "evalue": "bad operand type for abs(): 'str'",
     "output_type": "error",
     "traceback": [
      "\u001b[1;31m---------------------------------------------------------------------------\u001b[0m",
      "\u001b[1;31mTypeError\u001b[0m                                 Traceback (most recent call last)",
      "\u001b[1;32m<ipython-input-5-676b127b15ab>\u001b[0m in \u001b[0;36m<module>\u001b[1;34m\u001b[0m\n\u001b[1;32m----> 1\u001b[1;33m \u001b[0mabs\u001b[0m\u001b[1;33m(\u001b[0m\u001b[1;34m'-1'\u001b[0m\u001b[1;33m)\u001b[0m\u001b[1;33m\u001b[0m\u001b[1;33m\u001b[0m\u001b[0m\n\u001b[0m",
      "\u001b[1;31mTypeError\u001b[0m: bad operand type for abs(): 'str'"
     ]
    }
   ],
   "source": [
    "abs('-1')"
   ]
  },
  {
   "cell_type": "code",
   "execution_count": 6,
   "metadata": {},
   "outputs": [],
   "source": [
    "def bezwzgledna(x):\n",
    "    x = float(x)\n",
    "    return x if x > 0 else -x"
   ]
  },
  {
   "cell_type": "code",
   "execution_count": 7,
   "metadata": {},
   "outputs": [
    {
     "data": {
      "text/plain": [
       "1.0"
      ]
     },
     "execution_count": 7,
     "metadata": {},
     "output_type": "execute_result"
    }
   ],
   "source": [
    "bezwzgledna('-1')"
   ]
  },
  {
   "cell_type": "code",
   "execution_count": 8,
   "metadata": {},
   "outputs": [
    {
     "data": {
      "text/plain": [
       "\"['0', '1', '-1', '2', '-2', '3', '-3', '4', '-4', '5', '-5', '6', '-6', '7', '-7', '8', '-8', '9', '-9', '10', '-10', '11', '-11', '12', '-12', '13', '-13', '14', '-14', '15', '-15', '16', '-16', '17', '-17', '18', '-18', '19', '-19', '20', '-20']\""
      ]
     },
     "execution_count": 8,
     "metadata": {},
     "output_type": "execute_result"
    }
   ],
   "source": [
    "dluga_lista.sort(key=bezwzgledna)\n",
    "str(dluga_lista)"
   ]
  },
  {
   "cell_type": "code",
   "execution_count": 9,
   "metadata": {},
   "outputs": [
    {
     "data": {
      "text/plain": [
       "\"['-1', '-2', '-3', '-4', '-5', '-6', '-7', '-8', '-9', '-10', '-11', '-12', '-13', '-14', '-15', '-16', '-17', '-18', '-19', '-20', '0', '1', '2', '3', '4', '5', '6', '7', '8', '9', '10', '11', '12', '13', '14', '15', '16', '17', '18', '19', '20']\""
      ]
     },
     "execution_count": 9,
     "metadata": {},
     "output_type": "execute_result"
    }
   ],
   "source": [
    "dluga_lista =  [ str(i) for i in range(-1, -21, -1)] + [ str(i) for i in range(21)]\n",
    "str(dluga_lista)"
   ]
  },
  {
   "cell_type": "code",
   "execution_count": 10,
   "metadata": {},
   "outputs": [
    {
     "data": {
      "text/plain": [
       "\"['0', '-1', '1', '-2', '2', '-3', '3', '-4', '4', '-5', '5', '-6', '6', '-7', '7', '-8', '8', '-9', '9', '-10', '10', '-11', '11', '-12', '12', '-13', '13', '-14', '14', '-15', '15', '-16', '16', '-17', '17', '-18', '18', '-19', '19', '-20', '20']\""
      ]
     },
     "execution_count": 10,
     "metadata": {},
     "output_type": "execute_result"
    }
   ],
   "source": [
    "dluga_lista.sort(key=bezwzgledna)\n",
    "str(dluga_lista)"
   ]
  },
  {
   "cell_type": "markdown",
   "metadata": {},
   "source": [
    "## Zadanie 2"
   ]
  },
  {
   "cell_type": "markdown",
   "metadata": {},
   "source": [
    "Wygenerować listę liczb z zakresu `1-1000` które nie są podzielne przez żadną cyfrę od `2` do `9`."
   ]
  },
  {
   "cell_type": "code",
   "execution_count": 11,
   "metadata": {},
   "outputs": [
    {
     "data": {
      "text/plain": [
       "[(1, []),\n",
       " (2, [2]),\n",
       " (3, [3]),\n",
       " (4, [2, 4]),\n",
       " (5, [5]),\n",
       " (6, [2, 3, 6]),\n",
       " (7, [7]),\n",
       " (8, [2, 4, 8]),\n",
       " (9, [3, 9]),\n",
       " (10, [2, 5]),\n",
       " (11, []),\n",
       " (12, [2, 3, 4, 6]),\n",
       " (13, []),\n",
       " (14, [2, 7]),\n",
       " (15, [3, 5]),\n",
       " (16, [2, 4, 8]),\n",
       " (17, []),\n",
       " (18, [2, 3, 6, 9]),\n",
       " (19, []),\n",
       " (20, [2, 4, 5])]"
      ]
     },
     "execution_count": 11,
     "metadata": {},
     "output_type": "execute_result"
    }
   ],
   "source": [
    "[ (num,[div for div in range(2,10) if num%div == 0])  for num in range(1,21)]"
   ]
  },
  {
   "cell_type": "markdown",
   "metadata": {},
   "source": [
    "``` python\n",
    "[num for num in range(1,1001) if not [div for div in range(2,10) if num%div == 0]]\n",
    "```"
   ]
  },
  {
   "cell_type": "code",
   "execution_count": 12,
   "metadata": {},
   "outputs": [
    {
     "data": {
      "text/plain": [
       "'[1, 11, 13, 17, 19, 23, 29, 31, 37, 41, 43, 47, 53, 59, 61, 67, 71, 73, 79, 83, 89]'"
      ]
     },
     "execution_count": 12,
     "metadata": {},
     "output_type": "execute_result"
    }
   ],
   "source": [
    "str([num for num in range(1,1001) if not [div for div in range(2,10) if num%div == 0]][:21])"
   ]
  },
  {
   "cell_type": "code",
   "execution_count": 13,
   "metadata": {},
   "outputs": [
    {
     "data": {
      "text/plain": [
       "'[911, 913, 919, 923, 929, 937, 941, 943, 947, 949, 953, 961, 967, 971, 977, 979, 983, 989, 991, 997]'"
      ]
     },
     "execution_count": 13,
     "metadata": {},
     "output_type": "execute_result"
    }
   ],
   "source": [
    "str([num for num in range(1,1001) if not [div for div in range(2,10) if num%div == 0]][-20:])"
   ]
  },
  {
   "cell_type": "markdown",
   "metadata": {},
   "source": [
    "## Zadanie 3"
   ]
  },
  {
   "cell_type": "markdown",
   "metadata": {},
   "source": [
    "Stworz funkcję która usunie \"wyplaszczy\" zagnieżdzone listy\n",
    "\n",
    "l = [4, 1, [ 2, [7] ], 3]\n",
    "\n",
    "wyplaszcz(l)\n",
    "\n",
    "l\n",
    "\n",
    "[4, 1, 2, 7, 3]"
   ]
  },
  {
   "cell_type": "code",
   "execution_count": 14,
   "metadata": {},
   "outputs": [],
   "source": [
    "def wyplaszcz(lista):\n",
    "    ret = []\n",
    "    for x in lista:\n",
    "        if type(x)==type([]):\n",
    "            for y in wyplaszcz(x):\n",
    "                ret.append(y)\n",
    "        else:\n",
    "            ret.append(x)\n",
    "    return ret"
   ]
  },
  {
   "cell_type": "code",
   "execution_count": 15,
   "metadata": {},
   "outputs": [
    {
     "data": {
      "text/plain": [
       "[4, 1, 2, 7, 3]"
      ]
     },
     "execution_count": 15,
     "metadata": {},
     "output_type": "execute_result"
    }
   ],
   "source": [
    "l = [4, 1, [ 2, [7] ], 3]\n",
    "l = wyplaszcz(l)\n",
    "l"
   ]
  },
  {
   "cell_type": "code",
   "execution_count": 16,
   "metadata": {},
   "outputs": [],
   "source": [
    "def wyplaszcz(lista):\n",
    "    kopia = list(lista)\n",
    "    for i in range(len(lista)-1,-1,-1):\n",
    "        del lista[i]\n",
    "    for x in kopia:\n",
    "        if type(x)==type([]):\n",
    "            for y in wyplaszcz(x):\n",
    "                lista.append(y)\n",
    "        else:\n",
    "            lista.append(x)\n",
    "    return lista"
   ]
  },
  {
   "cell_type": "code",
   "execution_count": 17,
   "metadata": {},
   "outputs": [
    {
     "data": {
      "text/plain": [
       "[4, 1, 2, 7, 3]"
      ]
     },
     "execution_count": 17,
     "metadata": {},
     "output_type": "execute_result"
    }
   ],
   "source": [
    "l = [4, 1, [ 2, [7] ], 3]\n",
    "wyplaszcz(l)\n",
    "l"
   ]
  },
  {
   "cell_type": "markdown",
   "metadata": {},
   "source": [
    "***"
   ]
  },
  {
   "cell_type": "markdown",
   "metadata": {},
   "source": [
    "![](img/road.jpg)"
   ]
  },
  {
   "cell_type": "markdown",
   "metadata": {},
   "source": [
    "## Data Wrangling, Munging, Tidying "
   ]
  },
  {
   "cell_type": "markdown",
   "metadata": {},
   "source": [
    "### Data Wrangling\n",
    "- __Discovering__ (eksploracja danych)\n",
    "- __Structuring__ (przygotowanie danych do konkretnego zadania)\n",
    "- __Cleaning__ (ujednolicenie danych, usuwanie danych niepotrzebnych itd.)\n",
    "- Enriching (łączenie danych)\n",
    "- Validating (sprawdzenie poprawności merytorycznej)\n",
    "- Publishing (publikacja wyników)\n",
    "\n",
    "źródło: https://www.onlinewhitepapers.com/information-technology/six-core-data-wrangling-activities/"
   ]
  },
  {
   "cell_type": "markdown",
   "metadata": {},
   "source": [
    "## Tidy Data"
   ]
  },
  {
   "cell_type": "markdown",
   "metadata": {},
   "source": [
    "Wickham, Hadley - _\"Tidy Data\"_\n",
    "https://www.jstatsoft.org/index.php/jss/article/view/v059i10/v59i10.pdf"
   ]
  },
  {
   "cell_type": "markdown",
   "metadata": {},
   "source": [
    "- __Each variable you measure should be in one column.__\n",
    "- __Each different observation of that variable should be in a different row.__\n",
    "- There should be one table for each \"kind\" of variable.\n",
    "- If you have multiple tables, they should include a column in the table that allows them to be linked."
   ]
  },
  {
   "cell_type": "markdown",
   "metadata": {},
   "source": [
    "## Pandas"
   ]
  },
  {
   "cell_type": "markdown",
   "metadata": {},
   "source": [
    "https://pandas.pydata.org/Pandas_Cheat_Sheet.pdf"
   ]
  },
  {
   "cell_type": "code",
   "execution_count": 18,
   "metadata": {},
   "outputs": [],
   "source": [
    "import pandas"
   ]
  },
  {
   "cell_type": "code",
   "execution_count": 19,
   "metadata": {},
   "outputs": [],
   "source": [
    "data = {'year': [2010, 2011, 2012, 2011, 2012, 2010, 2011, 2012],\n",
    "        'team': ['Bears', 'Bears', 'Bears', 'Packers', 'Packers', 'Lions',\n",
    "                 'Lions', 'Lions'],\n",
    "        'wins': [11, 8, 10, 15, 11, 6, 10, 4],\n",
    "        'losses': [5, 8, 6, 1, 5, 10, 6, 12]}"
   ]
  },
  {
   "cell_type": "code",
   "execution_count": 20,
   "metadata": {},
   "outputs": [
    {
     "name": "stdout",
     "output_type": "stream",
     "text": [
      "   year     team  wins  losses\n",
      "0  2010    Bears    11       5\n",
      "1  2011    Bears     8       8\n",
      "2  2012    Bears    10       6\n",
      "3  2011  Packers    15       1\n",
      "4  2012  Packers    11       5\n",
      "5  2010    Lions     6      10\n",
      "6  2011    Lions    10       6\n",
      "7  2012    Lions     4      12\n"
     ]
    }
   ],
   "source": [
    "import pandas \n",
    "\n",
    "football = pandas.DataFrame(data)\n",
    "print (football)"
   ]
  },
  {
   "cell_type": "code",
   "execution_count": 21,
   "metadata": {},
   "outputs": [
    {
     "data": {
      "text/html": [
       "<div>\n",
       "<style scoped>\n",
       "    .dataframe tbody tr th:only-of-type {\n",
       "        vertical-align: middle;\n",
       "    }\n",
       "\n",
       "    .dataframe tbody tr th {\n",
       "        vertical-align: top;\n",
       "    }\n",
       "\n",
       "    .dataframe thead th {\n",
       "        text-align: right;\n",
       "    }\n",
       "</style>\n",
       "<table border=\"1\" class=\"dataframe\">\n",
       "  <thead>\n",
       "    <tr style=\"text-align: right;\">\n",
       "      <th></th>\n",
       "      <th>year</th>\n",
       "      <th>team</th>\n",
       "      <th>wins</th>\n",
       "      <th>losses</th>\n",
       "    </tr>\n",
       "  </thead>\n",
       "  <tbody>\n",
       "    <tr>\n",
       "      <th>0</th>\n",
       "      <td>2010</td>\n",
       "      <td>Bears</td>\n",
       "      <td>11</td>\n",
       "      <td>5</td>\n",
       "    </tr>\n",
       "    <tr>\n",
       "      <th>1</th>\n",
       "      <td>2011</td>\n",
       "      <td>Bears</td>\n",
       "      <td>8</td>\n",
       "      <td>8</td>\n",
       "    </tr>\n",
       "    <tr>\n",
       "      <th>2</th>\n",
       "      <td>2012</td>\n",
       "      <td>Bears</td>\n",
       "      <td>10</td>\n",
       "      <td>6</td>\n",
       "    </tr>\n",
       "    <tr>\n",
       "      <th>3</th>\n",
       "      <td>2011</td>\n",
       "      <td>Packers</td>\n",
       "      <td>15</td>\n",
       "      <td>1</td>\n",
       "    </tr>\n",
       "    <tr>\n",
       "      <th>4</th>\n",
       "      <td>2012</td>\n",
       "      <td>Packers</td>\n",
       "      <td>11</td>\n",
       "      <td>5</td>\n",
       "    </tr>\n",
       "    <tr>\n",
       "      <th>5</th>\n",
       "      <td>2010</td>\n",
       "      <td>Lions</td>\n",
       "      <td>6</td>\n",
       "      <td>10</td>\n",
       "    </tr>\n",
       "    <tr>\n",
       "      <th>6</th>\n",
       "      <td>2011</td>\n",
       "      <td>Lions</td>\n",
       "      <td>10</td>\n",
       "      <td>6</td>\n",
       "    </tr>\n",
       "    <tr>\n",
       "      <th>7</th>\n",
       "      <td>2012</td>\n",
       "      <td>Lions</td>\n",
       "      <td>4</td>\n",
       "      <td>12</td>\n",
       "    </tr>\n",
       "  </tbody>\n",
       "</table>\n",
       "</div>"
      ],
      "text/plain": [
       "   year     team  wins  losses\n",
       "0  2010    Bears    11       5\n",
       "1  2011    Bears     8       8\n",
       "2  2012    Bears    10       6\n",
       "3  2011  Packers    15       1\n",
       "4  2012  Packers    11       5\n",
       "5  2010    Lions     6      10\n",
       "6  2011    Lions    10       6\n",
       "7  2012    Lions     4      12"
      ]
     },
     "execution_count": 21,
     "metadata": {},
     "output_type": "execute_result"
    }
   ],
   "source": [
    "football"
   ]
  },
  {
   "cell_type": "code",
   "execution_count": 22,
   "metadata": {},
   "outputs": [
    {
     "data": {
      "text/html": [
       "<div>\n",
       "<style scoped>\n",
       "    .dataframe tbody tr th:only-of-type {\n",
       "        vertical-align: middle;\n",
       "    }\n",
       "\n",
       "    .dataframe tbody tr th {\n",
       "        vertical-align: top;\n",
       "    }\n",
       "\n",
       "    .dataframe thead th {\n",
       "        text-align: right;\n",
       "    }\n",
       "</style>\n",
       "<table border=\"1\" class=\"dataframe\">\n",
       "  <thead>\n",
       "    <tr style=\"text-align: right;\">\n",
       "      <th></th>\n",
       "      <th>year</th>\n",
       "      <th>wins</th>\n",
       "      <th>losses</th>\n",
       "    </tr>\n",
       "  </thead>\n",
       "  <tbody>\n",
       "    <tr>\n",
       "      <th>count</th>\n",
       "      <td>8.000000</td>\n",
       "      <td>8.000000</td>\n",
       "      <td>8.000000</td>\n",
       "    </tr>\n",
       "    <tr>\n",
       "      <th>mean</th>\n",
       "      <td>2011.125000</td>\n",
       "      <td>9.375000</td>\n",
       "      <td>6.625000</td>\n",
       "    </tr>\n",
       "    <tr>\n",
       "      <th>std</th>\n",
       "      <td>0.834523</td>\n",
       "      <td>3.377975</td>\n",
       "      <td>3.377975</td>\n",
       "    </tr>\n",
       "    <tr>\n",
       "      <th>min</th>\n",
       "      <td>2010.000000</td>\n",
       "      <td>4.000000</td>\n",
       "      <td>1.000000</td>\n",
       "    </tr>\n",
       "    <tr>\n",
       "      <th>25%</th>\n",
       "      <td>2010.750000</td>\n",
       "      <td>7.500000</td>\n",
       "      <td>5.000000</td>\n",
       "    </tr>\n",
       "    <tr>\n",
       "      <th>50%</th>\n",
       "      <td>2011.000000</td>\n",
       "      <td>10.000000</td>\n",
       "      <td>6.000000</td>\n",
       "    </tr>\n",
       "    <tr>\n",
       "      <th>75%</th>\n",
       "      <td>2012.000000</td>\n",
       "      <td>11.000000</td>\n",
       "      <td>8.500000</td>\n",
       "    </tr>\n",
       "    <tr>\n",
       "      <th>max</th>\n",
       "      <td>2012.000000</td>\n",
       "      <td>15.000000</td>\n",
       "      <td>12.000000</td>\n",
       "    </tr>\n",
       "  </tbody>\n",
       "</table>\n",
       "</div>"
      ],
      "text/plain": [
       "              year       wins     losses\n",
       "count     8.000000   8.000000   8.000000\n",
       "mean   2011.125000   9.375000   6.625000\n",
       "std       0.834523   3.377975   3.377975\n",
       "min    2010.000000   4.000000   1.000000\n",
       "25%    2010.750000   7.500000   5.000000\n",
       "50%    2011.000000  10.000000   6.000000\n",
       "75%    2012.000000  11.000000   8.500000\n",
       "max    2012.000000  15.000000  12.000000"
      ]
     },
     "execution_count": 22,
     "metadata": {},
     "output_type": "execute_result"
    }
   ],
   "source": [
    "football.describe()"
   ]
  },
  {
   "cell_type": "code",
   "execution_count": 23,
   "metadata": {},
   "outputs": [
    {
     "data": {
      "text/plain": [
       "year       int64\n",
       "team      object\n",
       "wins       int64\n",
       "losses     int64\n",
       "dtype: object"
      ]
     },
     "execution_count": 23,
     "metadata": {},
     "output_type": "execute_result"
    }
   ],
   "source": [
    "football.dtypes"
   ]
  },
  {
   "cell_type": "code",
   "execution_count": 24,
   "metadata": {},
   "outputs": [
    {
     "data": {
      "text/html": [
       "<div>\n",
       "<style scoped>\n",
       "    .dataframe tbody tr th:only-of-type {\n",
       "        vertical-align: middle;\n",
       "    }\n",
       "\n",
       "    .dataframe tbody tr th {\n",
       "        vertical-align: top;\n",
       "    }\n",
       "\n",
       "    .dataframe thead th {\n",
       "        text-align: right;\n",
       "    }\n",
       "</style>\n",
       "<table border=\"1\" class=\"dataframe\">\n",
       "  <thead>\n",
       "    <tr style=\"text-align: right;\">\n",
       "      <th></th>\n",
       "      <th>year</th>\n",
       "      <th>team</th>\n",
       "      <th>wins</th>\n",
       "      <th>losses</th>\n",
       "    </tr>\n",
       "  </thead>\n",
       "  <tbody>\n",
       "    <tr>\n",
       "      <th>0</th>\n",
       "      <td>2010</td>\n",
       "      <td>Bears</td>\n",
       "      <td>11</td>\n",
       "      <td>5</td>\n",
       "    </tr>\n",
       "    <tr>\n",
       "      <th>1</th>\n",
       "      <td>2011</td>\n",
       "      <td>Bears</td>\n",
       "      <td>8</td>\n",
       "      <td>8</td>\n",
       "    </tr>\n",
       "    <tr>\n",
       "      <th>2</th>\n",
       "      <td>2012</td>\n",
       "      <td>Bears</td>\n",
       "      <td>10</td>\n",
       "      <td>6</td>\n",
       "    </tr>\n",
       "    <tr>\n",
       "      <th>3</th>\n",
       "      <td>2011</td>\n",
       "      <td>Packers</td>\n",
       "      <td>15</td>\n",
       "      <td>1</td>\n",
       "    </tr>\n",
       "    <tr>\n",
       "      <th>4</th>\n",
       "      <td>2012</td>\n",
       "      <td>Packers</td>\n",
       "      <td>11</td>\n",
       "      <td>5</td>\n",
       "    </tr>\n",
       "  </tbody>\n",
       "</table>\n",
       "</div>"
      ],
      "text/plain": [
       "   year     team  wins  losses\n",
       "0  2010    Bears    11       5\n",
       "1  2011    Bears     8       8\n",
       "2  2012    Bears    10       6\n",
       "3  2011  Packers    15       1\n",
       "4  2012  Packers    11       5"
      ]
     },
     "execution_count": 24,
     "metadata": {},
     "output_type": "execute_result"
    }
   ],
   "source": [
    "football.head()"
   ]
  },
  {
   "cell_type": "code",
   "execution_count": 25,
   "metadata": {},
   "outputs": [
    {
     "data": {
      "text/html": [
       "<div>\n",
       "<style scoped>\n",
       "    .dataframe tbody tr th:only-of-type {\n",
       "        vertical-align: middle;\n",
       "    }\n",
       "\n",
       "    .dataframe tbody tr th {\n",
       "        vertical-align: top;\n",
       "    }\n",
       "\n",
       "    .dataframe thead th {\n",
       "        text-align: right;\n",
       "    }\n",
       "</style>\n",
       "<table border=\"1\" class=\"dataframe\">\n",
       "  <thead>\n",
       "    <tr style=\"text-align: right;\">\n",
       "      <th></th>\n",
       "      <th>year</th>\n",
       "      <th>team</th>\n",
       "      <th>wins</th>\n",
       "      <th>losses</th>\n",
       "    </tr>\n",
       "  </thead>\n",
       "  <tbody>\n",
       "    <tr>\n",
       "      <th>3</th>\n",
       "      <td>2011</td>\n",
       "      <td>Packers</td>\n",
       "      <td>15</td>\n",
       "      <td>1</td>\n",
       "    </tr>\n",
       "    <tr>\n",
       "      <th>4</th>\n",
       "      <td>2012</td>\n",
       "      <td>Packers</td>\n",
       "      <td>11</td>\n",
       "      <td>5</td>\n",
       "    </tr>\n",
       "    <tr>\n",
       "      <th>5</th>\n",
       "      <td>2010</td>\n",
       "      <td>Lions</td>\n",
       "      <td>6</td>\n",
       "      <td>10</td>\n",
       "    </tr>\n",
       "    <tr>\n",
       "      <th>6</th>\n",
       "      <td>2011</td>\n",
       "      <td>Lions</td>\n",
       "      <td>10</td>\n",
       "      <td>6</td>\n",
       "    </tr>\n",
       "    <tr>\n",
       "      <th>7</th>\n",
       "      <td>2012</td>\n",
       "      <td>Lions</td>\n",
       "      <td>4</td>\n",
       "      <td>12</td>\n",
       "    </tr>\n",
       "  </tbody>\n",
       "</table>\n",
       "</div>"
      ],
      "text/plain": [
       "   year     team  wins  losses\n",
       "3  2011  Packers    15       1\n",
       "4  2012  Packers    11       5\n",
       "5  2010    Lions     6      10\n",
       "6  2011    Lions    10       6\n",
       "7  2012    Lions     4      12"
      ]
     },
     "execution_count": 25,
     "metadata": {},
     "output_type": "execute_result"
    }
   ],
   "source": [
    "football.tail()"
   ]
  },
  {
   "cell_type": "code",
   "execution_count": 26,
   "metadata": {},
   "outputs": [
    {
     "data": {
      "text/html": [
       "<div>\n",
       "<style scoped>\n",
       "    .dataframe tbody tr th:only-of-type {\n",
       "        vertical-align: middle;\n",
       "    }\n",
       "\n",
       "    .dataframe tbody tr th {\n",
       "        vertical-align: top;\n",
       "    }\n",
       "\n",
       "    .dataframe thead th {\n",
       "        text-align: right;\n",
       "    }\n",
       "</style>\n",
       "<table border=\"1\" class=\"dataframe\">\n",
       "  <thead>\n",
       "    <tr style=\"text-align: right;\">\n",
       "      <th></th>\n",
       "      <th>year</th>\n",
       "      <th>team</th>\n",
       "      <th>wins</th>\n",
       "      <th>losses</th>\n",
       "    </tr>\n",
       "  </thead>\n",
       "  <tbody>\n",
       "    <tr>\n",
       "      <th>2</th>\n",
       "      <td>2012</td>\n",
       "      <td>Bears</td>\n",
       "      <td>10</td>\n",
       "      <td>6</td>\n",
       "    </tr>\n",
       "    <tr>\n",
       "      <th>0</th>\n",
       "      <td>2010</td>\n",
       "      <td>Bears</td>\n",
       "      <td>11</td>\n",
       "      <td>5</td>\n",
       "    </tr>\n",
       "    <tr>\n",
       "      <th>1</th>\n",
       "      <td>2011</td>\n",
       "      <td>Bears</td>\n",
       "      <td>8</td>\n",
       "      <td>8</td>\n",
       "    </tr>\n",
       "    <tr>\n",
       "      <th>7</th>\n",
       "      <td>2012</td>\n",
       "      <td>Lions</td>\n",
       "      <td>4</td>\n",
       "      <td>12</td>\n",
       "    </tr>\n",
       "    <tr>\n",
       "      <th>5</th>\n",
       "      <td>2010</td>\n",
       "      <td>Lions</td>\n",
       "      <td>6</td>\n",
       "      <td>10</td>\n",
       "    </tr>\n",
       "  </tbody>\n",
       "</table>\n",
       "</div>"
      ],
      "text/plain": [
       "   year   team  wins  losses\n",
       "2  2012  Bears    10       6\n",
       "0  2010  Bears    11       5\n",
       "1  2011  Bears     8       8\n",
       "7  2012  Lions     4      12\n",
       "5  2010  Lions     6      10"
      ]
     },
     "execution_count": 26,
     "metadata": {},
     "output_type": "execute_result"
    }
   ],
   "source": [
    "football.sample(5)"
   ]
  },
  {
   "cell_type": "code",
   "execution_count": 27,
   "metadata": {},
   "outputs": [
    {
     "data": {
      "text/plain": [
       "0    2010\n",
       "1    2011\n",
       "2    2012\n",
       "3    2011\n",
       "4    2012\n",
       "5    2010\n",
       "6    2011\n",
       "7    2012\n",
       "Name: year, dtype: int64"
      ]
     },
     "execution_count": 27,
     "metadata": {},
     "output_type": "execute_result"
    }
   ],
   "source": [
    "football['year']"
   ]
  },
  {
   "cell_type": "code",
   "execution_count": 28,
   "metadata": {},
   "outputs": [
    {
     "data": {
      "text/plain": [
       "0    2010\n",
       "1    2011\n",
       "2    2012\n",
       "3    2011\n",
       "4    2012\n",
       "5    2010\n",
       "6    2011\n",
       "7    2012\n",
       "Name: year, dtype: int64"
      ]
     },
     "execution_count": 28,
     "metadata": {},
     "output_type": "execute_result"
    }
   ],
   "source": [
    "football.year"
   ]
  },
  {
   "cell_type": "code",
   "execution_count": 29,
   "metadata": {},
   "outputs": [
    {
     "data": {
      "text/html": [
       "<div>\n",
       "<style scoped>\n",
       "    .dataframe tbody tr th:only-of-type {\n",
       "        vertical-align: middle;\n",
       "    }\n",
       "\n",
       "    .dataframe tbody tr th {\n",
       "        vertical-align: top;\n",
       "    }\n",
       "\n",
       "    .dataframe thead th {\n",
       "        text-align: right;\n",
       "    }\n",
       "</style>\n",
       "<table border=\"1\" class=\"dataframe\">\n",
       "  <thead>\n",
       "    <tr style=\"text-align: right;\">\n",
       "      <th></th>\n",
       "      <th>year</th>\n",
       "      <th>team</th>\n",
       "      <th>wins</th>\n",
       "    </tr>\n",
       "  </thead>\n",
       "  <tbody>\n",
       "    <tr>\n",
       "      <th>0</th>\n",
       "      <td>2010</td>\n",
       "      <td>Bears</td>\n",
       "      <td>11</td>\n",
       "    </tr>\n",
       "    <tr>\n",
       "      <th>1</th>\n",
       "      <td>2011</td>\n",
       "      <td>Bears</td>\n",
       "      <td>8</td>\n",
       "    </tr>\n",
       "    <tr>\n",
       "      <th>2</th>\n",
       "      <td>2012</td>\n",
       "      <td>Bears</td>\n",
       "      <td>10</td>\n",
       "    </tr>\n",
       "    <tr>\n",
       "      <th>3</th>\n",
       "      <td>2011</td>\n",
       "      <td>Packers</td>\n",
       "      <td>15</td>\n",
       "    </tr>\n",
       "    <tr>\n",
       "      <th>4</th>\n",
       "      <td>2012</td>\n",
       "      <td>Packers</td>\n",
       "      <td>11</td>\n",
       "    </tr>\n",
       "    <tr>\n",
       "      <th>5</th>\n",
       "      <td>2010</td>\n",
       "      <td>Lions</td>\n",
       "      <td>6</td>\n",
       "    </tr>\n",
       "    <tr>\n",
       "      <th>6</th>\n",
       "      <td>2011</td>\n",
       "      <td>Lions</td>\n",
       "      <td>10</td>\n",
       "    </tr>\n",
       "    <tr>\n",
       "      <th>7</th>\n",
       "      <td>2012</td>\n",
       "      <td>Lions</td>\n",
       "      <td>4</td>\n",
       "    </tr>\n",
       "  </tbody>\n",
       "</table>\n",
       "</div>"
      ],
      "text/plain": [
       "   year     team  wins\n",
       "0  2010    Bears    11\n",
       "1  2011    Bears     8\n",
       "2  2012    Bears    10\n",
       "3  2011  Packers    15\n",
       "4  2012  Packers    11\n",
       "5  2010    Lions     6\n",
       "6  2011    Lions    10\n",
       "7  2012    Lions     4"
      ]
     },
     "execution_count": 29,
     "metadata": {},
     "output_type": "execute_result"
    }
   ],
   "source": [
    "football[['year', 'team', 'wins']]"
   ]
  },
  {
   "cell_type": "markdown",
   "metadata": {},
   "source": [
    "---\n",
    "\n",
    "## Row Selection\n",
    "### Wybieranie wierszy\n",
    "\n",
    "1. Slicing\n",
    "2. Individual index (iloc / loc)\n",
    "3. Boolean indexing\n",
    "4. Combination"
   ]
  },
  {
   "cell_type": "markdown",
   "metadata": {},
   "source": [
    "### Slicing"
   ]
  },
  {
   "cell_type": "code",
   "execution_count": 37,
   "metadata": {},
   "outputs": [
    {
     "data": {
      "text/html": [
       "<div>\n",
       "<style scoped>\n",
       "    .dataframe tbody tr th:only-of-type {\n",
       "        vertical-align: middle;\n",
       "    }\n",
       "\n",
       "    .dataframe tbody tr th {\n",
       "        vertical-align: top;\n",
       "    }\n",
       "\n",
       "    .dataframe thead th {\n",
       "        text-align: right;\n",
       "    }\n",
       "</style>\n",
       "<table border=\"1\" class=\"dataframe\">\n",
       "  <thead>\n",
       "    <tr style=\"text-align: right;\">\n",
       "      <th></th>\n",
       "      <th>year</th>\n",
       "      <th>team</th>\n",
       "      <th>wins</th>\n",
       "      <th>losses</th>\n",
       "    </tr>\n",
       "  </thead>\n",
       "  <tbody>\n",
       "    <tr>\n",
       "      <th>0</th>\n",
       "      <td>2010</td>\n",
       "      <td>Bears</td>\n",
       "      <td>11</td>\n",
       "      <td>5</td>\n",
       "    </tr>\n",
       "    <tr>\n",
       "      <th>1</th>\n",
       "      <td>2011</td>\n",
       "      <td>Bears</td>\n",
       "      <td>8</td>\n",
       "      <td>8</td>\n",
       "    </tr>\n",
       "    <tr>\n",
       "      <th>2</th>\n",
       "      <td>2012</td>\n",
       "      <td>Bears</td>\n",
       "      <td>10</td>\n",
       "      <td>6</td>\n",
       "    </tr>\n",
       "    <tr>\n",
       "      <th>3</th>\n",
       "      <td>2011</td>\n",
       "      <td>Packers</td>\n",
       "      <td>15</td>\n",
       "      <td>1</td>\n",
       "    </tr>\n",
       "    <tr>\n",
       "      <th>4</th>\n",
       "      <td>2012</td>\n",
       "      <td>Packers</td>\n",
       "      <td>11</td>\n",
       "      <td>5</td>\n",
       "    </tr>\n",
       "    <tr>\n",
       "      <th>5</th>\n",
       "      <td>2010</td>\n",
       "      <td>Lions</td>\n",
       "      <td>6</td>\n",
       "      <td>10</td>\n",
       "    </tr>\n",
       "    <tr>\n",
       "      <th>6</th>\n",
       "      <td>2011</td>\n",
       "      <td>Lions</td>\n",
       "      <td>10</td>\n",
       "      <td>6</td>\n",
       "    </tr>\n",
       "    <tr>\n",
       "      <th>7</th>\n",
       "      <td>2012</td>\n",
       "      <td>Lions</td>\n",
       "      <td>4</td>\n",
       "      <td>12</td>\n",
       "    </tr>\n",
       "  </tbody>\n",
       "</table>\n",
       "</div>"
      ],
      "text/plain": [
       "   year     team  wins  losses\n",
       "0  2010    Bears    11       5\n",
       "1  2011    Bears     8       8\n",
       "2  2012    Bears    10       6\n",
       "3  2011  Packers    15       1\n",
       "4  2012  Packers    11       5\n",
       "5  2010    Lions     6      10\n",
       "6  2011    Lions    10       6\n",
       "7  2012    Lions     4      12"
      ]
     },
     "execution_count": 37,
     "metadata": {},
     "output_type": "execute_result"
    }
   ],
   "source": [
    "football"
   ]
  },
  {
   "cell_type": "code",
   "execution_count": 38,
   "metadata": {},
   "outputs": [
    {
     "data": {
      "text/html": [
       "<div>\n",
       "<style scoped>\n",
       "    .dataframe tbody tr th:only-of-type {\n",
       "        vertical-align: middle;\n",
       "    }\n",
       "\n",
       "    .dataframe tbody tr th {\n",
       "        vertical-align: top;\n",
       "    }\n",
       "\n",
       "    .dataframe thead th {\n",
       "        text-align: right;\n",
       "    }\n",
       "</style>\n",
       "<table border=\"1\" class=\"dataframe\">\n",
       "  <thead>\n",
       "    <tr style=\"text-align: right;\">\n",
       "      <th></th>\n",
       "      <th>year</th>\n",
       "      <th>team</th>\n",
       "      <th>wins</th>\n",
       "      <th>losses</th>\n",
       "    </tr>\n",
       "  </thead>\n",
       "  <tbody>\n",
       "    <tr>\n",
       "      <th>3</th>\n",
       "      <td>2011</td>\n",
       "      <td>Packers</td>\n",
       "      <td>15</td>\n",
       "      <td>1</td>\n",
       "    </tr>\n",
       "    <tr>\n",
       "      <th>4</th>\n",
       "      <td>2012</td>\n",
       "      <td>Packers</td>\n",
       "      <td>11</td>\n",
       "      <td>5</td>\n",
       "    </tr>\n",
       "  </tbody>\n",
       "</table>\n",
       "</div>"
      ],
      "text/plain": [
       "   year     team  wins  losses\n",
       "3  2011  Packers    15       1\n",
       "4  2012  Packers    11       5"
      ]
     },
     "execution_count": 38,
     "metadata": {},
     "output_type": "execute_result"
    }
   ],
   "source": [
    "football[3:5]"
   ]
  },
  {
   "cell_type": "markdown",
   "metadata": {},
   "source": [
    "### Individual index"
   ]
  },
  {
   "cell_type": "markdown",
   "metadata": {},
   "source": [
    "### Iloc\n",
    "- An integer, e.g. 5.\n",
    "- A list or array of integers, e.g. [4, 3, 0].\n",
    "- A slice object with ints, e.g. 1:7.\n",
    "- A boolean array.\n",
    "- A function"
   ]
  },
  {
   "cell_type": "code",
   "execution_count": 39,
   "metadata": {},
   "outputs": [
    {
     "data": {
      "text/html": [
       "<div>\n",
       "<style scoped>\n",
       "    .dataframe tbody tr th:only-of-type {\n",
       "        vertical-align: middle;\n",
       "    }\n",
       "\n",
       "    .dataframe tbody tr th {\n",
       "        vertical-align: top;\n",
       "    }\n",
       "\n",
       "    .dataframe thead th {\n",
       "        text-align: right;\n",
       "    }\n",
       "</style>\n",
       "<table border=\"1\" class=\"dataframe\">\n",
       "  <thead>\n",
       "    <tr style=\"text-align: right;\">\n",
       "      <th></th>\n",
       "      <th>year</th>\n",
       "      <th>team</th>\n",
       "      <th>wins</th>\n",
       "      <th>losses</th>\n",
       "    </tr>\n",
       "  </thead>\n",
       "  <tbody>\n",
       "    <tr>\n",
       "      <th>0</th>\n",
       "      <td>2010</td>\n",
       "      <td>Bears</td>\n",
       "      <td>11</td>\n",
       "      <td>5</td>\n",
       "    </tr>\n",
       "    <tr>\n",
       "      <th>3</th>\n",
       "      <td>2011</td>\n",
       "      <td>Packers</td>\n",
       "      <td>15</td>\n",
       "      <td>1</td>\n",
       "    </tr>\n",
       "  </tbody>\n",
       "</table>\n",
       "</div>"
      ],
      "text/plain": [
       "   year     team  wins  losses\n",
       "0  2010    Bears    11       5\n",
       "3  2011  Packers    15       1"
      ]
     },
     "execution_count": 39,
     "metadata": {},
     "output_type": "execute_result"
    }
   ],
   "source": [
    "football.iloc[[0,3]]"
   ]
  },
  {
   "cell_type": "markdown",
   "metadata": {},
   "source": [
    "### Loc\n",
    "- A single label\n",
    "- A list or array of labels, e.g. ['a', 'b', 'c'].\n",
    "- A slice object with labels, e.g. 'a':'f' __(WARNING - both the start and the stop are included)__ \n",
    "- A boolean array\n",
    "- A callable function "
   ]
  },
  {
   "cell_type": "code",
   "execution_count": 41,
   "metadata": {},
   "outputs": [
    {
     "data": {
      "text/html": [
       "<div>\n",
       "<style scoped>\n",
       "    .dataframe tbody tr th:only-of-type {\n",
       "        vertical-align: middle;\n",
       "    }\n",
       "\n",
       "    .dataframe tbody tr th {\n",
       "        vertical-align: top;\n",
       "    }\n",
       "\n",
       "    .dataframe thead th {\n",
       "        text-align: right;\n",
       "    }\n",
       "</style>\n",
       "<table border=\"1\" class=\"dataframe\">\n",
       "  <thead>\n",
       "    <tr style=\"text-align: right;\">\n",
       "      <th></th>\n",
       "      <th>A</th>\n",
       "      <th>B</th>\n",
       "      <th>C</th>\n",
       "    </tr>\n",
       "  </thead>\n",
       "  <tbody>\n",
       "    <tr>\n",
       "      <th>2000-01-01</th>\n",
       "      <td>-1.452300</td>\n",
       "      <td>-0.545937</td>\n",
       "      <td>0.053547</td>\n",
       "    </tr>\n",
       "    <tr>\n",
       "      <th>2000-01-02</th>\n",
       "      <td>1.905933</td>\n",
       "      <td>-0.078279</td>\n",
       "      <td>0.482561</td>\n",
       "    </tr>\n",
       "    <tr>\n",
       "      <th>2000-01-03</th>\n",
       "      <td>-0.025862</td>\n",
       "      <td>-1.366965</td>\n",
       "      <td>1.118381</td>\n",
       "    </tr>\n",
       "    <tr>\n",
       "      <th>2000-01-04</th>\n",
       "      <td>-1.497222</td>\n",
       "      <td>-1.853860</td>\n",
       "      <td>0.507182</td>\n",
       "    </tr>\n",
       "    <tr>\n",
       "      <th>2000-01-05</th>\n",
       "      <td>0.521542</td>\n",
       "      <td>1.112360</td>\n",
       "      <td>0.265342</td>\n",
       "    </tr>\n",
       "    <tr>\n",
       "      <th>2000-01-06</th>\n",
       "      <td>-0.159335</td>\n",
       "      <td>-0.376129</td>\n",
       "      <td>-0.575374</td>\n",
       "    </tr>\n",
       "    <tr>\n",
       "      <th>2000-01-07</th>\n",
       "      <td>-0.316145</td>\n",
       "      <td>0.728664</td>\n",
       "      <td>0.010163</td>\n",
       "    </tr>\n",
       "    <tr>\n",
       "      <th>2000-01-08</th>\n",
       "      <td>-1.197735</td>\n",
       "      <td>0.541977</td>\n",
       "      <td>0.921149</td>\n",
       "    </tr>\n",
       "  </tbody>\n",
       "</table>\n",
       "</div>"
      ],
      "text/plain": [
       "                   A         B         C\n",
       "2000-01-01 -1.452300 -0.545937  0.053547\n",
       "2000-01-02  1.905933 -0.078279  0.482561\n",
       "2000-01-03 -0.025862 -1.366965  1.118381\n",
       "2000-01-04 -1.497222 -1.853860  0.507182\n",
       "2000-01-05  0.521542  1.112360  0.265342\n",
       "2000-01-06 -0.159335 -0.376129 -0.575374\n",
       "2000-01-07 -0.316145  0.728664  0.010163\n",
       "2000-01-08 -1.197735  0.541977  0.921149"
      ]
     },
     "execution_count": 41,
     "metadata": {},
     "output_type": "execute_result"
    }
   ],
   "source": [
    "import numpy as np\n",
    "import pandas as pd\n",
    "\n",
    "index = pd.date_range('1/1/2000', periods=8)\n",
    "df = pd.DataFrame(np.random.randn(8, 3), index=index, columns=['A', 'B', 'C'])\n",
    "df"
   ]
  },
  {
   "cell_type": "code",
   "execution_count": 42,
   "metadata": {},
   "outputs": [
    {
     "data": {
      "text/plain": [
       "A   -0.025862\n",
       "B   -1.366965\n",
       "C    1.118381\n",
       "Name: 2000-01-03 00:00:00, dtype: float64"
      ]
     },
     "execution_count": 42,
     "metadata": {},
     "output_type": "execute_result"
    }
   ],
   "source": [
    "df.loc['2000-01-03']"
   ]
  },
  {
   "cell_type": "code",
   "execution_count": 43,
   "metadata": {},
   "outputs": [
    {
     "data": {
      "text/html": [
       "<div>\n",
       "<style scoped>\n",
       "    .dataframe tbody tr th:only-of-type {\n",
       "        vertical-align: middle;\n",
       "    }\n",
       "\n",
       "    .dataframe tbody tr th {\n",
       "        vertical-align: top;\n",
       "    }\n",
       "\n",
       "    .dataframe thead th {\n",
       "        text-align: right;\n",
       "    }\n",
       "</style>\n",
       "<table border=\"1\" class=\"dataframe\">\n",
       "  <thead>\n",
       "    <tr style=\"text-align: right;\">\n",
       "      <th></th>\n",
       "      <th>A</th>\n",
       "      <th>B</th>\n",
       "      <th>C</th>\n",
       "    </tr>\n",
       "  </thead>\n",
       "  <tbody>\n",
       "    <tr>\n",
       "      <th>2000-01-03</th>\n",
       "      <td>-0.025862</td>\n",
       "      <td>-1.366965</td>\n",
       "      <td>1.118381</td>\n",
       "    </tr>\n",
       "    <tr>\n",
       "      <th>2000-01-04</th>\n",
       "      <td>-1.497222</td>\n",
       "      <td>-1.853860</td>\n",
       "      <td>0.507182</td>\n",
       "    </tr>\n",
       "  </tbody>\n",
       "</table>\n",
       "</div>"
      ],
      "text/plain": [
       "                   A         B         C\n",
       "2000-01-03 -0.025862 -1.366965  1.118381\n",
       "2000-01-04 -1.497222 -1.853860  0.507182"
      ]
     },
     "execution_count": 43,
     "metadata": {},
     "output_type": "execute_result"
    }
   ],
   "source": [
    "df.loc['2000-01-03': '2000-01-04'] "
   ]
  },
  {
   "cell_type": "markdown",
   "metadata": {},
   "source": [
    "### Boolean indexing"
   ]
  },
  {
   "cell_type": "code",
   "execution_count": 44,
   "metadata": {},
   "outputs": [
    {
     "data": {
      "text/html": [
       "<div>\n",
       "<style scoped>\n",
       "    .dataframe tbody tr th:only-of-type {\n",
       "        vertical-align: middle;\n",
       "    }\n",
       "\n",
       "    .dataframe tbody tr th {\n",
       "        vertical-align: top;\n",
       "    }\n",
       "\n",
       "    .dataframe thead th {\n",
       "        text-align: right;\n",
       "    }\n",
       "</style>\n",
       "<table border=\"1\" class=\"dataframe\">\n",
       "  <thead>\n",
       "    <tr style=\"text-align: right;\">\n",
       "      <th></th>\n",
       "      <th>year</th>\n",
       "      <th>team</th>\n",
       "      <th>wins</th>\n",
       "      <th>losses</th>\n",
       "    </tr>\n",
       "  </thead>\n",
       "  <tbody>\n",
       "    <tr>\n",
       "      <th>0</th>\n",
       "      <td>2010</td>\n",
       "      <td>Bears</td>\n",
       "      <td>11</td>\n",
       "      <td>5</td>\n",
       "    </tr>\n",
       "    <tr>\n",
       "      <th>3</th>\n",
       "      <td>2011</td>\n",
       "      <td>Packers</td>\n",
       "      <td>15</td>\n",
       "      <td>1</td>\n",
       "    </tr>\n",
       "    <tr>\n",
       "      <th>4</th>\n",
       "      <td>2012</td>\n",
       "      <td>Packers</td>\n",
       "      <td>11</td>\n",
       "      <td>5</td>\n",
       "    </tr>\n",
       "  </tbody>\n",
       "</table>\n",
       "</div>"
      ],
      "text/plain": [
       "   year     team  wins  losses\n",
       "0  2010    Bears    11       5\n",
       "3  2011  Packers    15       1\n",
       "4  2012  Packers    11       5"
      ]
     },
     "execution_count": 44,
     "metadata": {},
     "output_type": "execute_result"
    }
   ],
   "source": [
    "football[football.wins > 10]"
   ]
  },
  {
   "cell_type": "markdown",
   "metadata": {},
   "source": [
    "### Combination"
   ]
  },
  {
   "cell_type": "code",
   "execution_count": 48,
   "metadata": {},
   "outputs": [
    {
     "data": {
      "text/html": [
       "<div>\n",
       "<style scoped>\n",
       "    .dataframe tbody tr th:only-of-type {\n",
       "        vertical-align: middle;\n",
       "    }\n",
       "\n",
       "    .dataframe tbody tr th {\n",
       "        vertical-align: top;\n",
       "    }\n",
       "\n",
       "    .dataframe thead th {\n",
       "        text-align: right;\n",
       "    }\n",
       "</style>\n",
       "<table border=\"1\" class=\"dataframe\">\n",
       "  <thead>\n",
       "    <tr style=\"text-align: right;\">\n",
       "      <th></th>\n",
       "      <th>year</th>\n",
       "      <th>team</th>\n",
       "      <th>wins</th>\n",
       "      <th>losses</th>\n",
       "    </tr>\n",
       "  </thead>\n",
       "  <tbody>\n",
       "    <tr>\n",
       "      <th>0</th>\n",
       "      <td>2010</td>\n",
       "      <td>Bears</td>\n",
       "      <td>11</td>\n",
       "      <td>5</td>\n",
       "    </tr>\n",
       "    <tr>\n",
       "      <th>1</th>\n",
       "      <td>2011</td>\n",
       "      <td>Bears</td>\n",
       "      <td>8</td>\n",
       "      <td>8</td>\n",
       "    </tr>\n",
       "    <tr>\n",
       "      <th>2</th>\n",
       "      <td>2012</td>\n",
       "      <td>Bears</td>\n",
       "      <td>10</td>\n",
       "      <td>6</td>\n",
       "    </tr>\n",
       "    <tr>\n",
       "      <th>3</th>\n",
       "      <td>2011</td>\n",
       "      <td>Packers</td>\n",
       "      <td>15</td>\n",
       "      <td>1</td>\n",
       "    </tr>\n",
       "    <tr>\n",
       "      <th>4</th>\n",
       "      <td>2012</td>\n",
       "      <td>Packers</td>\n",
       "      <td>11</td>\n",
       "      <td>5</td>\n",
       "    </tr>\n",
       "    <tr>\n",
       "      <th>5</th>\n",
       "      <td>2010</td>\n",
       "      <td>Lions</td>\n",
       "      <td>6</td>\n",
       "      <td>10</td>\n",
       "    </tr>\n",
       "    <tr>\n",
       "      <th>6</th>\n",
       "      <td>2011</td>\n",
       "      <td>Lions</td>\n",
       "      <td>10</td>\n",
       "      <td>6</td>\n",
       "    </tr>\n",
       "    <tr>\n",
       "      <th>7</th>\n",
       "      <td>2012</td>\n",
       "      <td>Lions</td>\n",
       "      <td>4</td>\n",
       "      <td>12</td>\n",
       "    </tr>\n",
       "  </tbody>\n",
       "</table>\n",
       "</div>"
      ],
      "text/plain": [
       "   year     team  wins  losses\n",
       "0  2010    Bears    11       5\n",
       "1  2011    Bears     8       8\n",
       "2  2012    Bears    10       6\n",
       "3  2011  Packers    15       1\n",
       "4  2012  Packers    11       5\n",
       "5  2010    Lions     6      10\n",
       "6  2011    Lions    10       6\n",
       "7  2012    Lions     4      12"
      ]
     },
     "execution_count": 48,
     "metadata": {},
     "output_type": "execute_result"
    }
   ],
   "source": [
    "football"
   ]
  },
  {
   "cell_type": "code",
   "execution_count": 49,
   "metadata": {},
   "outputs": [
    {
     "data": {
      "text/html": [
       "<div>\n",
       "<style scoped>\n",
       "    .dataframe tbody tr th:only-of-type {\n",
       "        vertical-align: middle;\n",
       "    }\n",
       "\n",
       "    .dataframe tbody tr th {\n",
       "        vertical-align: top;\n",
       "    }\n",
       "\n",
       "    .dataframe thead th {\n",
       "        text-align: right;\n",
       "    }\n",
       "</style>\n",
       "<table border=\"1\" class=\"dataframe\">\n",
       "  <thead>\n",
       "    <tr style=\"text-align: right;\">\n",
       "      <th></th>\n",
       "      <th>year</th>\n",
       "      <th>team</th>\n",
       "      <th>wins</th>\n",
       "      <th>losses</th>\n",
       "    </tr>\n",
       "  </thead>\n",
       "  <tbody>\n",
       "    <tr>\n",
       "      <th>3</th>\n",
       "      <td>2011</td>\n",
       "      <td>Packers</td>\n",
       "      <td>15</td>\n",
       "      <td>1</td>\n",
       "    </tr>\n",
       "    <tr>\n",
       "      <th>4</th>\n",
       "      <td>2012</td>\n",
       "      <td>Packers</td>\n",
       "      <td>11</td>\n",
       "      <td>5</td>\n",
       "    </tr>\n",
       "  </tbody>\n",
       "</table>\n",
       "</div>"
      ],
      "text/plain": [
       "   year     team  wins  losses\n",
       "3  2011  Packers    15       1\n",
       "4  2012  Packers    11       5"
      ]
     },
     "execution_count": 49,
     "metadata": {},
     "output_type": "execute_result"
    }
   ],
   "source": [
    "football[(football.wins > 10) & (football.team == \"Packers\")]"
   ]
  },
  {
   "cell_type": "code",
   "execution_count": 50,
   "metadata": {},
   "outputs": [
    {
     "data": {
      "text/html": [
       "<div>\n",
       "<style scoped>\n",
       "    .dataframe tbody tr th:only-of-type {\n",
       "        vertical-align: middle;\n",
       "    }\n",
       "\n",
       "    .dataframe tbody tr th {\n",
       "        vertical-align: top;\n",
       "    }\n",
       "\n",
       "    .dataframe thead th {\n",
       "        text-align: right;\n",
       "    }\n",
       "</style>\n",
       "<table border=\"1\" class=\"dataframe\">\n",
       "  <thead>\n",
       "    <tr style=\"text-align: right;\">\n",
       "      <th></th>\n",
       "      <th>year</th>\n",
       "      <th>team</th>\n",
       "      <th>wins</th>\n",
       "      <th>losses</th>\n",
       "    </tr>\n",
       "  </thead>\n",
       "  <tbody>\n",
       "    <tr>\n",
       "      <th>0</th>\n",
       "      <td>2010</td>\n",
       "      <td>Bears</td>\n",
       "      <td>11</td>\n",
       "      <td>5</td>\n",
       "    </tr>\n",
       "    <tr>\n",
       "      <th>3</th>\n",
       "      <td>2011</td>\n",
       "      <td>Packers</td>\n",
       "      <td>15</td>\n",
       "      <td>1</td>\n",
       "    </tr>\n",
       "    <tr>\n",
       "      <th>4</th>\n",
       "      <td>2012</td>\n",
       "      <td>Packers</td>\n",
       "      <td>11</td>\n",
       "      <td>5</td>\n",
       "    </tr>\n",
       "  </tbody>\n",
       "</table>\n",
       "</div>"
      ],
      "text/plain": [
       "   year     team  wins  losses\n",
       "0  2010    Bears    11       5\n",
       "3  2011  Packers    15       1\n",
       "4  2012  Packers    11       5"
      ]
     },
     "execution_count": 50,
     "metadata": {},
     "output_type": "execute_result"
    }
   ],
   "source": [
    "football[(football.wins > 10) | (football.team == \"Packers\")]"
   ]
  },
  {
   "cell_type": "markdown",
   "metadata": {},
   "source": [
    "***\n",
    "\n",
    "## Formatowanie"
   ]
  },
  {
   "cell_type": "code",
   "execution_count": 53,
   "metadata": {},
   "outputs": [
    {
     "data": {
      "text/html": [
       "<div>\n",
       "<style scoped>\n",
       "    .dataframe tbody tr th:only-of-type {\n",
       "        vertical-align: middle;\n",
       "    }\n",
       "\n",
       "    .dataframe tbody tr th {\n",
       "        vertical-align: top;\n",
       "    }\n",
       "\n",
       "    .dataframe thead th {\n",
       "        text-align: right;\n",
       "    }\n",
       "</style>\n",
       "<table border=\"1\" class=\"dataframe\">\n",
       "  <thead>\n",
       "    <tr style=\"text-align: right;\">\n",
       "      <th></th>\n",
       "      <th>A</th>\n",
       "      <th>B</th>\n",
       "      <th>C</th>\n",
       "    </tr>\n",
       "  </thead>\n",
       "  <tbody>\n",
       "    <tr>\n",
       "      <th>2000-01-01</th>\n",
       "      <td>-1.318834</td>\n",
       "      <td>-2.097691</td>\n",
       "      <td>-0.716669</td>\n",
       "    </tr>\n",
       "    <tr>\n",
       "      <th>2000-01-02</th>\n",
       "      <td>-0.521646</td>\n",
       "      <td>-1.305941</td>\n",
       "      <td>0.457848</td>\n",
       "    </tr>\n",
       "    <tr>\n",
       "      <th>2000-01-03</th>\n",
       "      <td>0.687019</td>\n",
       "      <td>-2.834824</td>\n",
       "      <td>0.863355</td>\n",
       "    </tr>\n",
       "    <tr>\n",
       "      <th>2000-01-04</th>\n",
       "      <td>-0.116238</td>\n",
       "      <td>0.369267</td>\n",
       "      <td>-0.723051</td>\n",
       "    </tr>\n",
       "    <tr>\n",
       "      <th>2000-01-05</th>\n",
       "      <td>0.038618</td>\n",
       "      <td>0.007272</td>\n",
       "      <td>-1.255520</td>\n",
       "    </tr>\n",
       "    <tr>\n",
       "      <th>2000-01-06</th>\n",
       "      <td>-1.598275</td>\n",
       "      <td>-0.080297</td>\n",
       "      <td>2.000208</td>\n",
       "    </tr>\n",
       "    <tr>\n",
       "      <th>2000-01-07</th>\n",
       "      <td>0.423290</td>\n",
       "      <td>-0.333091</td>\n",
       "      <td>0.141600</td>\n",
       "    </tr>\n",
       "    <tr>\n",
       "      <th>2000-01-08</th>\n",
       "      <td>-1.729768</td>\n",
       "      <td>0.710826</td>\n",
       "      <td>-0.977843</td>\n",
       "    </tr>\n",
       "  </tbody>\n",
       "</table>\n",
       "</div>"
      ],
      "text/plain": [
       "                   A         B         C\n",
       "2000-01-01 -1.318834 -2.097691 -0.716669\n",
       "2000-01-02 -0.521646 -1.305941  0.457848\n",
       "2000-01-03  0.687019 -2.834824  0.863355\n",
       "2000-01-04 -0.116238  0.369267 -0.723051\n",
       "2000-01-05  0.038618  0.007272 -1.255520\n",
       "2000-01-06 -1.598275 -0.080297  2.000208\n",
       "2000-01-07  0.423290 -0.333091  0.141600\n",
       "2000-01-08 -1.729768  0.710826 -0.977843"
      ]
     },
     "execution_count": 53,
     "metadata": {},
     "output_type": "execute_result"
    }
   ],
   "source": [
    "import numpy as np\n",
    "import pandas as pd\n",
    "\n",
    "index = pd.date_range('1/1/2000', periods=8)\n",
    "df = pd.DataFrame(np.random.randn(8, 3), index=index, columns=['A', 'B', 'C'])\n",
    "df"
   ]
  },
  {
   "cell_type": "code",
   "execution_count": 54,
   "metadata": {},
   "outputs": [
    {
     "data": {
      "text/plain": [
       "array([[-1.31883363, -2.09769123, -0.71666857],\n",
       "       [-0.52164586, -1.3059411 ,  0.45784846],\n",
       "       [ 0.68701891, -2.83482377,  0.86335502],\n",
       "       [-0.11623838,  0.36926668, -0.7230513 ],\n",
       "       [ 0.0386182 ,  0.00727226, -1.25551959],\n",
       "       [-1.59827526, -0.08029655,  2.00020762],\n",
       "       [ 0.42328987, -0.3330907 ,  0.14160007],\n",
       "       [-1.72976766,  0.71082561, -0.97784318]])"
      ]
     },
     "execution_count": 54,
     "metadata": {},
     "output_type": "execute_result"
    }
   ],
   "source": [
    "df.values"
   ]
  },
  {
   "cell_type": "code",
   "execution_count": 55,
   "metadata": {},
   "outputs": [
    {
     "data": {
      "text/plain": [
       "DatetimeIndex(['2000-01-01', '2000-01-02', '2000-01-03', '2000-01-04',\n",
       "               '2000-01-05', '2000-01-06', '2000-01-07', '2000-01-08'],\n",
       "              dtype='datetime64[ns]', freq='D')"
      ]
     },
     "execution_count": 55,
     "metadata": {},
     "output_type": "execute_result"
    }
   ],
   "source": [
    "df.index"
   ]
  },
  {
   "cell_type": "code",
   "execution_count": 56,
   "metadata": {},
   "outputs": [
    {
     "data": {
      "text/plain": [
       "Index(['A', 'B', 'C'], dtype='object')"
      ]
     },
     "execution_count": 56,
     "metadata": {},
     "output_type": "execute_result"
    }
   ],
   "source": [
    "df.columns"
   ]
  },
  {
   "cell_type": "code",
   "execution_count": 57,
   "metadata": {},
   "outputs": [],
   "source": [
    "newcols = []\n",
    "for i in range(len(df.columns)):\n",
    "    newcols.append(df.columns[i].lower())\n",
    "df.columns = newcols"
   ]
  },
  {
   "cell_type": "code",
   "execution_count": 58,
   "metadata": {},
   "outputs": [
    {
     "data": {
      "text/html": [
       "<div>\n",
       "<style scoped>\n",
       "    .dataframe tbody tr th:only-of-type {\n",
       "        vertical-align: middle;\n",
       "    }\n",
       "\n",
       "    .dataframe tbody tr th {\n",
       "        vertical-align: top;\n",
       "    }\n",
       "\n",
       "    .dataframe thead th {\n",
       "        text-align: right;\n",
       "    }\n",
       "</style>\n",
       "<table border=\"1\" class=\"dataframe\">\n",
       "  <thead>\n",
       "    <tr style=\"text-align: right;\">\n",
       "      <th></th>\n",
       "      <th>a</th>\n",
       "      <th>b</th>\n",
       "      <th>c</th>\n",
       "    </tr>\n",
       "  </thead>\n",
       "  <tbody>\n",
       "    <tr>\n",
       "      <th>2000-01-01</th>\n",
       "      <td>-1.318834</td>\n",
       "      <td>-2.097691</td>\n",
       "      <td>-0.716669</td>\n",
       "    </tr>\n",
       "    <tr>\n",
       "      <th>2000-01-02</th>\n",
       "      <td>-0.521646</td>\n",
       "      <td>-1.305941</td>\n",
       "      <td>0.457848</td>\n",
       "    </tr>\n",
       "    <tr>\n",
       "      <th>2000-01-03</th>\n",
       "      <td>0.687019</td>\n",
       "      <td>-2.834824</td>\n",
       "      <td>0.863355</td>\n",
       "    </tr>\n",
       "    <tr>\n",
       "      <th>2000-01-04</th>\n",
       "      <td>-0.116238</td>\n",
       "      <td>0.369267</td>\n",
       "      <td>-0.723051</td>\n",
       "    </tr>\n",
       "    <tr>\n",
       "      <th>2000-01-05</th>\n",
       "      <td>0.038618</td>\n",
       "      <td>0.007272</td>\n",
       "      <td>-1.255520</td>\n",
       "    </tr>\n",
       "    <tr>\n",
       "      <th>2000-01-06</th>\n",
       "      <td>-1.598275</td>\n",
       "      <td>-0.080297</td>\n",
       "      <td>2.000208</td>\n",
       "    </tr>\n",
       "    <tr>\n",
       "      <th>2000-01-07</th>\n",
       "      <td>0.423290</td>\n",
       "      <td>-0.333091</td>\n",
       "      <td>0.141600</td>\n",
       "    </tr>\n",
       "    <tr>\n",
       "      <th>2000-01-08</th>\n",
       "      <td>-1.729768</td>\n",
       "      <td>0.710826</td>\n",
       "      <td>-0.977843</td>\n",
       "    </tr>\n",
       "  </tbody>\n",
       "</table>\n",
       "</div>"
      ],
      "text/plain": [
       "                   a         b         c\n",
       "2000-01-01 -1.318834 -2.097691 -0.716669\n",
       "2000-01-02 -0.521646 -1.305941  0.457848\n",
       "2000-01-03  0.687019 -2.834824  0.863355\n",
       "2000-01-04 -0.116238  0.369267 -0.723051\n",
       "2000-01-05  0.038618  0.007272 -1.255520\n",
       "2000-01-06 -1.598275 -0.080297  2.000208\n",
       "2000-01-07  0.423290 -0.333091  0.141600\n",
       "2000-01-08 -1.729768  0.710826 -0.977843"
      ]
     },
     "execution_count": 58,
     "metadata": {},
     "output_type": "execute_result"
    }
   ],
   "source": [
    "df"
   ]
  },
  {
   "cell_type": "code",
   "execution_count": 59,
   "metadata": {},
   "outputs": [
    {
     "data": {
      "text/html": [
       "<style  type=\"text/css\" >\n",
       "</style><table id=\"T_9fac8898_33f8_11eb_ba69_e4a7a0668667\" ><thead>    <tr>        <th class=\"blank level0\" ></th>        <th class=\"col_heading level0 col0\" >a</th>        <th class=\"col_heading level0 col1\" >b</th>        <th class=\"col_heading level0 col2\" >c</th>    </tr></thead><tbody>\n",
       "                <tr>\n",
       "                        <th id=\"T_9fac8898_33f8_11eb_ba69_e4a7a0668667level0_row0\" class=\"row_heading level0 row0\" >2000-01-01 00:00:00</th>\n",
       "                        <td id=\"T_9fac8898_33f8_11eb_ba69_e4a7a0668667row0_col0\" class=\"data row0 col0\" >-1.318834</td>\n",
       "                        <td id=\"T_9fac8898_33f8_11eb_ba69_e4a7a0668667row0_col1\" class=\"data row0 col1\" >-2.097691</td>\n",
       "                        <td id=\"T_9fac8898_33f8_11eb_ba69_e4a7a0668667row0_col2\" class=\"data row0 col2\" >-0.716669</td>\n",
       "            </tr>\n",
       "            <tr>\n",
       "                        <th id=\"T_9fac8898_33f8_11eb_ba69_e4a7a0668667level0_row1\" class=\"row_heading level0 row1\" >2000-01-02 00:00:00</th>\n",
       "                        <td id=\"T_9fac8898_33f8_11eb_ba69_e4a7a0668667row1_col0\" class=\"data row1 col0\" >-0.521646</td>\n",
       "                        <td id=\"T_9fac8898_33f8_11eb_ba69_e4a7a0668667row1_col1\" class=\"data row1 col1\" >-1.305941</td>\n",
       "                        <td id=\"T_9fac8898_33f8_11eb_ba69_e4a7a0668667row1_col2\" class=\"data row1 col2\" >0.457848</td>\n",
       "            </tr>\n",
       "            <tr>\n",
       "                        <th id=\"T_9fac8898_33f8_11eb_ba69_e4a7a0668667level0_row2\" class=\"row_heading level0 row2\" >2000-01-03 00:00:00</th>\n",
       "                        <td id=\"T_9fac8898_33f8_11eb_ba69_e4a7a0668667row2_col0\" class=\"data row2 col0\" >0.687019</td>\n",
       "                        <td id=\"T_9fac8898_33f8_11eb_ba69_e4a7a0668667row2_col1\" class=\"data row2 col1\" >-2.834824</td>\n",
       "                        <td id=\"T_9fac8898_33f8_11eb_ba69_e4a7a0668667row2_col2\" class=\"data row2 col2\" >0.863355</td>\n",
       "            </tr>\n",
       "            <tr>\n",
       "                        <th id=\"T_9fac8898_33f8_11eb_ba69_e4a7a0668667level0_row3\" class=\"row_heading level0 row3\" >2000-01-04 00:00:00</th>\n",
       "                        <td id=\"T_9fac8898_33f8_11eb_ba69_e4a7a0668667row3_col0\" class=\"data row3 col0\" >-0.116238</td>\n",
       "                        <td id=\"T_9fac8898_33f8_11eb_ba69_e4a7a0668667row3_col1\" class=\"data row3 col1\" >0.369267</td>\n",
       "                        <td id=\"T_9fac8898_33f8_11eb_ba69_e4a7a0668667row3_col2\" class=\"data row3 col2\" >-0.723051</td>\n",
       "            </tr>\n",
       "            <tr>\n",
       "                        <th id=\"T_9fac8898_33f8_11eb_ba69_e4a7a0668667level0_row4\" class=\"row_heading level0 row4\" >2000-01-05 00:00:00</th>\n",
       "                        <td id=\"T_9fac8898_33f8_11eb_ba69_e4a7a0668667row4_col0\" class=\"data row4 col0\" >0.038618</td>\n",
       "                        <td id=\"T_9fac8898_33f8_11eb_ba69_e4a7a0668667row4_col1\" class=\"data row4 col1\" >0.007272</td>\n",
       "                        <td id=\"T_9fac8898_33f8_11eb_ba69_e4a7a0668667row4_col2\" class=\"data row4 col2\" >-1.255520</td>\n",
       "            </tr>\n",
       "            <tr>\n",
       "                        <th id=\"T_9fac8898_33f8_11eb_ba69_e4a7a0668667level0_row5\" class=\"row_heading level0 row5\" >2000-01-06 00:00:00</th>\n",
       "                        <td id=\"T_9fac8898_33f8_11eb_ba69_e4a7a0668667row5_col0\" class=\"data row5 col0\" >-1.598275</td>\n",
       "                        <td id=\"T_9fac8898_33f8_11eb_ba69_e4a7a0668667row5_col1\" class=\"data row5 col1\" >-0.080297</td>\n",
       "                        <td id=\"T_9fac8898_33f8_11eb_ba69_e4a7a0668667row5_col2\" class=\"data row5 col2\" >2.000208</td>\n",
       "            </tr>\n",
       "            <tr>\n",
       "                        <th id=\"T_9fac8898_33f8_11eb_ba69_e4a7a0668667level0_row6\" class=\"row_heading level0 row6\" >2000-01-07 00:00:00</th>\n",
       "                        <td id=\"T_9fac8898_33f8_11eb_ba69_e4a7a0668667row6_col0\" class=\"data row6 col0\" >0.423290</td>\n",
       "                        <td id=\"T_9fac8898_33f8_11eb_ba69_e4a7a0668667row6_col1\" class=\"data row6 col1\" >-0.333091</td>\n",
       "                        <td id=\"T_9fac8898_33f8_11eb_ba69_e4a7a0668667row6_col2\" class=\"data row6 col2\" >0.141600</td>\n",
       "            </tr>\n",
       "            <tr>\n",
       "                        <th id=\"T_9fac8898_33f8_11eb_ba69_e4a7a0668667level0_row7\" class=\"row_heading level0 row7\" >2000-01-08 00:00:00</th>\n",
       "                        <td id=\"T_9fac8898_33f8_11eb_ba69_e4a7a0668667row7_col0\" class=\"data row7 col0\" >-1.729768</td>\n",
       "                        <td id=\"T_9fac8898_33f8_11eb_ba69_e4a7a0668667row7_col1\" class=\"data row7 col1\" >0.710826</td>\n",
       "                        <td id=\"T_9fac8898_33f8_11eb_ba69_e4a7a0668667row7_col2\" class=\"data row7 col2\" >-0.977843</td>\n",
       "            </tr>\n",
       "    </tbody></table>"
      ],
      "text/plain": [
       "<pandas.io.formats.style.Styler at 0x239440a3e48>"
      ]
     },
     "execution_count": 59,
     "metadata": {},
     "output_type": "execute_result"
    }
   ],
   "source": [
    "df.style"
   ]
  },
  {
   "cell_type": "code",
   "execution_count": 60,
   "metadata": {},
   "outputs": [],
   "source": [
    "def color_negative_red(val):\n",
    "    color = 'red' if val < 0 else 'white'\n",
    "    return 'color: %s' % color"
   ]
  },
  {
   "cell_type": "code",
   "execution_count": 61,
   "metadata": {},
   "outputs": [
    {
     "data": {
      "text/html": [
       "<style  type=\"text/css\" >\n",
       "    #T_a0713f36_33f8_11eb_b5f7_e4a7a0668667row0_col0 {\n",
       "            color:  red;\n",
       "        }    #T_a0713f36_33f8_11eb_b5f7_e4a7a0668667row0_col1 {\n",
       "            color:  red;\n",
       "        }    #T_a0713f36_33f8_11eb_b5f7_e4a7a0668667row0_col2 {\n",
       "            color:  red;\n",
       "        }    #T_a0713f36_33f8_11eb_b5f7_e4a7a0668667row1_col0 {\n",
       "            color:  red;\n",
       "        }    #T_a0713f36_33f8_11eb_b5f7_e4a7a0668667row1_col1 {\n",
       "            color:  red;\n",
       "        }    #T_a0713f36_33f8_11eb_b5f7_e4a7a0668667row1_col2 {\n",
       "            color:  white;\n",
       "        }    #T_a0713f36_33f8_11eb_b5f7_e4a7a0668667row2_col0 {\n",
       "            color:  white;\n",
       "        }    #T_a0713f36_33f8_11eb_b5f7_e4a7a0668667row2_col1 {\n",
       "            color:  red;\n",
       "        }    #T_a0713f36_33f8_11eb_b5f7_e4a7a0668667row2_col2 {\n",
       "            color:  white;\n",
       "        }    #T_a0713f36_33f8_11eb_b5f7_e4a7a0668667row3_col0 {\n",
       "            color:  red;\n",
       "        }    #T_a0713f36_33f8_11eb_b5f7_e4a7a0668667row3_col1 {\n",
       "            color:  white;\n",
       "        }    #T_a0713f36_33f8_11eb_b5f7_e4a7a0668667row3_col2 {\n",
       "            color:  red;\n",
       "        }    #T_a0713f36_33f8_11eb_b5f7_e4a7a0668667row4_col0 {\n",
       "            color:  white;\n",
       "        }    #T_a0713f36_33f8_11eb_b5f7_e4a7a0668667row4_col1 {\n",
       "            color:  white;\n",
       "        }    #T_a0713f36_33f8_11eb_b5f7_e4a7a0668667row4_col2 {\n",
       "            color:  red;\n",
       "        }    #T_a0713f36_33f8_11eb_b5f7_e4a7a0668667row5_col0 {\n",
       "            color:  red;\n",
       "        }    #T_a0713f36_33f8_11eb_b5f7_e4a7a0668667row5_col1 {\n",
       "            color:  red;\n",
       "        }    #T_a0713f36_33f8_11eb_b5f7_e4a7a0668667row5_col2 {\n",
       "            color:  white;\n",
       "        }    #T_a0713f36_33f8_11eb_b5f7_e4a7a0668667row6_col0 {\n",
       "            color:  white;\n",
       "        }    #T_a0713f36_33f8_11eb_b5f7_e4a7a0668667row6_col1 {\n",
       "            color:  red;\n",
       "        }    #T_a0713f36_33f8_11eb_b5f7_e4a7a0668667row6_col2 {\n",
       "            color:  white;\n",
       "        }    #T_a0713f36_33f8_11eb_b5f7_e4a7a0668667row7_col0 {\n",
       "            color:  red;\n",
       "        }    #T_a0713f36_33f8_11eb_b5f7_e4a7a0668667row7_col1 {\n",
       "            color:  white;\n",
       "        }    #T_a0713f36_33f8_11eb_b5f7_e4a7a0668667row7_col2 {\n",
       "            color:  red;\n",
       "        }</style><table id=\"T_a0713f36_33f8_11eb_b5f7_e4a7a0668667\" ><thead>    <tr>        <th class=\"blank level0\" ></th>        <th class=\"col_heading level0 col0\" >a</th>        <th class=\"col_heading level0 col1\" >b</th>        <th class=\"col_heading level0 col2\" >c</th>    </tr></thead><tbody>\n",
       "                <tr>\n",
       "                        <th id=\"T_a0713f36_33f8_11eb_b5f7_e4a7a0668667level0_row0\" class=\"row_heading level0 row0\" >2000-01-01 00:00:00</th>\n",
       "                        <td id=\"T_a0713f36_33f8_11eb_b5f7_e4a7a0668667row0_col0\" class=\"data row0 col0\" >-1.318834</td>\n",
       "                        <td id=\"T_a0713f36_33f8_11eb_b5f7_e4a7a0668667row0_col1\" class=\"data row0 col1\" >-2.097691</td>\n",
       "                        <td id=\"T_a0713f36_33f8_11eb_b5f7_e4a7a0668667row0_col2\" class=\"data row0 col2\" >-0.716669</td>\n",
       "            </tr>\n",
       "            <tr>\n",
       "                        <th id=\"T_a0713f36_33f8_11eb_b5f7_e4a7a0668667level0_row1\" class=\"row_heading level0 row1\" >2000-01-02 00:00:00</th>\n",
       "                        <td id=\"T_a0713f36_33f8_11eb_b5f7_e4a7a0668667row1_col0\" class=\"data row1 col0\" >-0.521646</td>\n",
       "                        <td id=\"T_a0713f36_33f8_11eb_b5f7_e4a7a0668667row1_col1\" class=\"data row1 col1\" >-1.305941</td>\n",
       "                        <td id=\"T_a0713f36_33f8_11eb_b5f7_e4a7a0668667row1_col2\" class=\"data row1 col2\" >0.457848</td>\n",
       "            </tr>\n",
       "            <tr>\n",
       "                        <th id=\"T_a0713f36_33f8_11eb_b5f7_e4a7a0668667level0_row2\" class=\"row_heading level0 row2\" >2000-01-03 00:00:00</th>\n",
       "                        <td id=\"T_a0713f36_33f8_11eb_b5f7_e4a7a0668667row2_col0\" class=\"data row2 col0\" >0.687019</td>\n",
       "                        <td id=\"T_a0713f36_33f8_11eb_b5f7_e4a7a0668667row2_col1\" class=\"data row2 col1\" >-2.834824</td>\n",
       "                        <td id=\"T_a0713f36_33f8_11eb_b5f7_e4a7a0668667row2_col2\" class=\"data row2 col2\" >0.863355</td>\n",
       "            </tr>\n",
       "            <tr>\n",
       "                        <th id=\"T_a0713f36_33f8_11eb_b5f7_e4a7a0668667level0_row3\" class=\"row_heading level0 row3\" >2000-01-04 00:00:00</th>\n",
       "                        <td id=\"T_a0713f36_33f8_11eb_b5f7_e4a7a0668667row3_col0\" class=\"data row3 col0\" >-0.116238</td>\n",
       "                        <td id=\"T_a0713f36_33f8_11eb_b5f7_e4a7a0668667row3_col1\" class=\"data row3 col1\" >0.369267</td>\n",
       "                        <td id=\"T_a0713f36_33f8_11eb_b5f7_e4a7a0668667row3_col2\" class=\"data row3 col2\" >-0.723051</td>\n",
       "            </tr>\n",
       "            <tr>\n",
       "                        <th id=\"T_a0713f36_33f8_11eb_b5f7_e4a7a0668667level0_row4\" class=\"row_heading level0 row4\" >2000-01-05 00:00:00</th>\n",
       "                        <td id=\"T_a0713f36_33f8_11eb_b5f7_e4a7a0668667row4_col0\" class=\"data row4 col0\" >0.038618</td>\n",
       "                        <td id=\"T_a0713f36_33f8_11eb_b5f7_e4a7a0668667row4_col1\" class=\"data row4 col1\" >0.007272</td>\n",
       "                        <td id=\"T_a0713f36_33f8_11eb_b5f7_e4a7a0668667row4_col2\" class=\"data row4 col2\" >-1.255520</td>\n",
       "            </tr>\n",
       "            <tr>\n",
       "                        <th id=\"T_a0713f36_33f8_11eb_b5f7_e4a7a0668667level0_row5\" class=\"row_heading level0 row5\" >2000-01-06 00:00:00</th>\n",
       "                        <td id=\"T_a0713f36_33f8_11eb_b5f7_e4a7a0668667row5_col0\" class=\"data row5 col0\" >-1.598275</td>\n",
       "                        <td id=\"T_a0713f36_33f8_11eb_b5f7_e4a7a0668667row5_col1\" class=\"data row5 col1\" >-0.080297</td>\n",
       "                        <td id=\"T_a0713f36_33f8_11eb_b5f7_e4a7a0668667row5_col2\" class=\"data row5 col2\" >2.000208</td>\n",
       "            </tr>\n",
       "            <tr>\n",
       "                        <th id=\"T_a0713f36_33f8_11eb_b5f7_e4a7a0668667level0_row6\" class=\"row_heading level0 row6\" >2000-01-07 00:00:00</th>\n",
       "                        <td id=\"T_a0713f36_33f8_11eb_b5f7_e4a7a0668667row6_col0\" class=\"data row6 col0\" >0.423290</td>\n",
       "                        <td id=\"T_a0713f36_33f8_11eb_b5f7_e4a7a0668667row6_col1\" class=\"data row6 col1\" >-0.333091</td>\n",
       "                        <td id=\"T_a0713f36_33f8_11eb_b5f7_e4a7a0668667row6_col2\" class=\"data row6 col2\" >0.141600</td>\n",
       "            </tr>\n",
       "            <tr>\n",
       "                        <th id=\"T_a0713f36_33f8_11eb_b5f7_e4a7a0668667level0_row7\" class=\"row_heading level0 row7\" >2000-01-08 00:00:00</th>\n",
       "                        <td id=\"T_a0713f36_33f8_11eb_b5f7_e4a7a0668667row7_col0\" class=\"data row7 col0\" >-1.729768</td>\n",
       "                        <td id=\"T_a0713f36_33f8_11eb_b5f7_e4a7a0668667row7_col1\" class=\"data row7 col1\" >0.710826</td>\n",
       "                        <td id=\"T_a0713f36_33f8_11eb_b5f7_e4a7a0668667row7_col2\" class=\"data row7 col2\" >-0.977843</td>\n",
       "            </tr>\n",
       "    </tbody></table>"
      ],
      "text/plain": [
       "<pandas.io.formats.style.Styler at 0x239452314c8>"
      ]
     },
     "execution_count": 61,
     "metadata": {},
     "output_type": "execute_result"
    }
   ],
   "source": [
    "df.style.applymap(color_negative_red)"
   ]
  },
  {
   "cell_type": "code",
   "execution_count": 63,
   "metadata": {},
   "outputs": [
    {
     "data": {
      "text/html": [
       "<style  type=\"text/css\" >\n",
       "    #T_a75377e4_33f8_11eb_8aa2_e4a7a0668667row0_col0 {\n",
       "            color:  red;\n",
       "        }    #T_a75377e4_33f8_11eb_8aa2_e4a7a0668667row0_col1 {\n",
       "            color:  red;\n",
       "        }    #T_a75377e4_33f8_11eb_8aa2_e4a7a0668667row0_col2 {\n",
       "            color:  red;\n",
       "        }    #T_a75377e4_33f8_11eb_8aa2_e4a7a0668667row1_col0 {\n",
       "            color:  red;\n",
       "        }    #T_a75377e4_33f8_11eb_8aa2_e4a7a0668667row1_col1 {\n",
       "            color:  red;\n",
       "        }    #T_a75377e4_33f8_11eb_8aa2_e4a7a0668667row1_col2 {\n",
       "            color:  white;\n",
       "        }    #T_a75377e4_33f8_11eb_8aa2_e4a7a0668667row2_col0 {\n",
       "            color:  white;\n",
       "        }    #T_a75377e4_33f8_11eb_8aa2_e4a7a0668667row2_col1 {\n",
       "            color:  red;\n",
       "        }    #T_a75377e4_33f8_11eb_8aa2_e4a7a0668667row2_col2 {\n",
       "            color:  white;\n",
       "        }    #T_a75377e4_33f8_11eb_8aa2_e4a7a0668667row3_col0 {\n",
       "            color:  red;\n",
       "        }    #T_a75377e4_33f8_11eb_8aa2_e4a7a0668667row3_col1 {\n",
       "            color:  white;\n",
       "        }    #T_a75377e4_33f8_11eb_8aa2_e4a7a0668667row3_col2 {\n",
       "            color:  red;\n",
       "        }    #T_a75377e4_33f8_11eb_8aa2_e4a7a0668667row4_col0 {\n",
       "            color:  white;\n",
       "        }    #T_a75377e4_33f8_11eb_8aa2_e4a7a0668667row4_col1 {\n",
       "            color:  white;\n",
       "        }    #T_a75377e4_33f8_11eb_8aa2_e4a7a0668667row4_col2 {\n",
       "            color:  red;\n",
       "        }    #T_a75377e4_33f8_11eb_8aa2_e4a7a0668667row5_col0 {\n",
       "            color:  red;\n",
       "        }    #T_a75377e4_33f8_11eb_8aa2_e4a7a0668667row5_col1 {\n",
       "            color:  red;\n",
       "        }    #T_a75377e4_33f8_11eb_8aa2_e4a7a0668667row5_col2 {\n",
       "            color:  white;\n",
       "        }    #T_a75377e4_33f8_11eb_8aa2_e4a7a0668667row6_col0 {\n",
       "            color:  white;\n",
       "        }    #T_a75377e4_33f8_11eb_8aa2_e4a7a0668667row6_col1 {\n",
       "            color:  red;\n",
       "        }    #T_a75377e4_33f8_11eb_8aa2_e4a7a0668667row6_col2 {\n",
       "            color:  white;\n",
       "        }    #T_a75377e4_33f8_11eb_8aa2_e4a7a0668667row7_col0 {\n",
       "            color:  red;\n",
       "        }    #T_a75377e4_33f8_11eb_8aa2_e4a7a0668667row7_col1 {\n",
       "            color:  white;\n",
       "        }    #T_a75377e4_33f8_11eb_8aa2_e4a7a0668667row7_col2 {\n",
       "            color:  red;\n",
       "        }</style><table id=\"T_a75377e4_33f8_11eb_8aa2_e4a7a0668667\" ><thead>    <tr>        <th class=\"blank level0\" ></th>        <th class=\"col_heading level0 col0\" >a</th>        <th class=\"col_heading level0 col1\" >b</th>        <th class=\"col_heading level0 col2\" >c</th>    </tr></thead><tbody>\n",
       "                <tr>\n",
       "                        <th id=\"T_a75377e4_33f8_11eb_8aa2_e4a7a0668667level0_row0\" class=\"row_heading level0 row0\" >2000-01-01</th>\n",
       "                        <td id=\"T_a75377e4_33f8_11eb_8aa2_e4a7a0668667row0_col0\" class=\"data row0 col0\" >-1.318834</td>\n",
       "                        <td id=\"T_a75377e4_33f8_11eb_8aa2_e4a7a0668667row0_col1\" class=\"data row0 col1\" >-2.097691</td>\n",
       "                        <td id=\"T_a75377e4_33f8_11eb_8aa2_e4a7a0668667row0_col2\" class=\"data row0 col2\" >-0.716669</td>\n",
       "            </tr>\n",
       "            <tr>\n",
       "                        <th id=\"T_a75377e4_33f8_11eb_8aa2_e4a7a0668667level0_row1\" class=\"row_heading level0 row1\" >2000-01-02</th>\n",
       "                        <td id=\"T_a75377e4_33f8_11eb_8aa2_e4a7a0668667row1_col0\" class=\"data row1 col0\" >-0.521646</td>\n",
       "                        <td id=\"T_a75377e4_33f8_11eb_8aa2_e4a7a0668667row1_col1\" class=\"data row1 col1\" >-1.305941</td>\n",
       "                        <td id=\"T_a75377e4_33f8_11eb_8aa2_e4a7a0668667row1_col2\" class=\"data row1 col2\" >0.457848</td>\n",
       "            </tr>\n",
       "            <tr>\n",
       "                        <th id=\"T_a75377e4_33f8_11eb_8aa2_e4a7a0668667level0_row2\" class=\"row_heading level0 row2\" >2000-01-03</th>\n",
       "                        <td id=\"T_a75377e4_33f8_11eb_8aa2_e4a7a0668667row2_col0\" class=\"data row2 col0\" >0.687019</td>\n",
       "                        <td id=\"T_a75377e4_33f8_11eb_8aa2_e4a7a0668667row2_col1\" class=\"data row2 col1\" >-2.834824</td>\n",
       "                        <td id=\"T_a75377e4_33f8_11eb_8aa2_e4a7a0668667row2_col2\" class=\"data row2 col2\" >0.863355</td>\n",
       "            </tr>\n",
       "            <tr>\n",
       "                        <th id=\"T_a75377e4_33f8_11eb_8aa2_e4a7a0668667level0_row3\" class=\"row_heading level0 row3\" >2000-01-04</th>\n",
       "                        <td id=\"T_a75377e4_33f8_11eb_8aa2_e4a7a0668667row3_col0\" class=\"data row3 col0\" >-0.116238</td>\n",
       "                        <td id=\"T_a75377e4_33f8_11eb_8aa2_e4a7a0668667row3_col1\" class=\"data row3 col1\" >0.369267</td>\n",
       "                        <td id=\"T_a75377e4_33f8_11eb_8aa2_e4a7a0668667row3_col2\" class=\"data row3 col2\" >-0.723051</td>\n",
       "            </tr>\n",
       "            <tr>\n",
       "                        <th id=\"T_a75377e4_33f8_11eb_8aa2_e4a7a0668667level0_row4\" class=\"row_heading level0 row4\" >2000-01-05</th>\n",
       "                        <td id=\"T_a75377e4_33f8_11eb_8aa2_e4a7a0668667row4_col0\" class=\"data row4 col0\" >0.038618</td>\n",
       "                        <td id=\"T_a75377e4_33f8_11eb_8aa2_e4a7a0668667row4_col1\" class=\"data row4 col1\" >0.007272</td>\n",
       "                        <td id=\"T_a75377e4_33f8_11eb_8aa2_e4a7a0668667row4_col2\" class=\"data row4 col2\" >-1.255520</td>\n",
       "            </tr>\n",
       "            <tr>\n",
       "                        <th id=\"T_a75377e4_33f8_11eb_8aa2_e4a7a0668667level0_row5\" class=\"row_heading level0 row5\" >2000-01-06</th>\n",
       "                        <td id=\"T_a75377e4_33f8_11eb_8aa2_e4a7a0668667row5_col0\" class=\"data row5 col0\" >-1.598275</td>\n",
       "                        <td id=\"T_a75377e4_33f8_11eb_8aa2_e4a7a0668667row5_col1\" class=\"data row5 col1\" >-0.080297</td>\n",
       "                        <td id=\"T_a75377e4_33f8_11eb_8aa2_e4a7a0668667row5_col2\" class=\"data row5 col2\" >2.000208</td>\n",
       "            </tr>\n",
       "            <tr>\n",
       "                        <th id=\"T_a75377e4_33f8_11eb_8aa2_e4a7a0668667level0_row6\" class=\"row_heading level0 row6\" >2000-01-07</th>\n",
       "                        <td id=\"T_a75377e4_33f8_11eb_8aa2_e4a7a0668667row6_col0\" class=\"data row6 col0\" >0.423290</td>\n",
       "                        <td id=\"T_a75377e4_33f8_11eb_8aa2_e4a7a0668667row6_col1\" class=\"data row6 col1\" >-0.333091</td>\n",
       "                        <td id=\"T_a75377e4_33f8_11eb_8aa2_e4a7a0668667row6_col2\" class=\"data row6 col2\" >0.141600</td>\n",
       "            </tr>\n",
       "            <tr>\n",
       "                        <th id=\"T_a75377e4_33f8_11eb_8aa2_e4a7a0668667level0_row7\" class=\"row_heading level0 row7\" >2000-01-08</th>\n",
       "                        <td id=\"T_a75377e4_33f8_11eb_8aa2_e4a7a0668667row7_col0\" class=\"data row7 col0\" >-1.729768</td>\n",
       "                        <td id=\"T_a75377e4_33f8_11eb_8aa2_e4a7a0668667row7_col1\" class=\"data row7 col1\" >0.710826</td>\n",
       "                        <td id=\"T_a75377e4_33f8_11eb_8aa2_e4a7a0668667row7_col2\" class=\"data row7 col2\" >-0.977843</td>\n",
       "            </tr>\n",
       "    </tbody></table>"
      ],
      "text/plain": [
       "<pandas.io.formats.style.Styler at 0x2394528a548>"
      ]
     },
     "execution_count": 63,
     "metadata": {},
     "output_type": "execute_result"
    }
   ],
   "source": [
    "df.index = pd.to_datetime(df.index, format = '%Y-%m-%d').strftime('%Y-%m-%d')\n",
    "df.style.applymap(color_negative_red)"
   ]
  },
  {
   "cell_type": "code",
   "execution_count": 64,
   "metadata": {},
   "outputs": [],
   "source": [
    "def highlight_max(s):\n",
    "    is_max = s == s.max()\n",
    "    return ['background-color: blue' if v else '' for v in is_max]"
   ]
  },
  {
   "cell_type": "code",
   "execution_count": 69,
   "metadata": {},
   "outputs": [
    {
     "data": {
      "text/html": [
       "<style  type=\"text/css\" >\n",
       "    #T_c7378524_33f8_11eb_90c6_e4a7a0668667row2_col0 {\n",
       "            background-color:  blue;\n",
       "        }    #T_c7378524_33f8_11eb_90c6_e4a7a0668667row5_col2 {\n",
       "            background-color:  blue;\n",
       "        }    #T_c7378524_33f8_11eb_90c6_e4a7a0668667row7_col1 {\n",
       "            background-color:  blue;\n",
       "        }</style><table id=\"T_c7378524_33f8_11eb_90c6_e4a7a0668667\" ><thead>    <tr>        <th class=\"blank level0\" ></th>        <th class=\"col_heading level0 col0\" >a</th>        <th class=\"col_heading level0 col1\" >b</th>        <th class=\"col_heading level0 col2\" >c</th>    </tr></thead><tbody>\n",
       "                <tr>\n",
       "                        <th id=\"T_c7378524_33f8_11eb_90c6_e4a7a0668667level0_row0\" class=\"row_heading level0 row0\" >2000-01-01</th>\n",
       "                        <td id=\"T_c7378524_33f8_11eb_90c6_e4a7a0668667row0_col0\" class=\"data row0 col0\" >-1.318834</td>\n",
       "                        <td id=\"T_c7378524_33f8_11eb_90c6_e4a7a0668667row0_col1\" class=\"data row0 col1\" >-2.097691</td>\n",
       "                        <td id=\"T_c7378524_33f8_11eb_90c6_e4a7a0668667row0_col2\" class=\"data row0 col2\" >-0.716669</td>\n",
       "            </tr>\n",
       "            <tr>\n",
       "                        <th id=\"T_c7378524_33f8_11eb_90c6_e4a7a0668667level0_row1\" class=\"row_heading level0 row1\" >2000-01-02</th>\n",
       "                        <td id=\"T_c7378524_33f8_11eb_90c6_e4a7a0668667row1_col0\" class=\"data row1 col0\" >-0.521646</td>\n",
       "                        <td id=\"T_c7378524_33f8_11eb_90c6_e4a7a0668667row1_col1\" class=\"data row1 col1\" >-1.305941</td>\n",
       "                        <td id=\"T_c7378524_33f8_11eb_90c6_e4a7a0668667row1_col2\" class=\"data row1 col2\" >0.457848</td>\n",
       "            </tr>\n",
       "            <tr>\n",
       "                        <th id=\"T_c7378524_33f8_11eb_90c6_e4a7a0668667level0_row2\" class=\"row_heading level0 row2\" >2000-01-03</th>\n",
       "                        <td id=\"T_c7378524_33f8_11eb_90c6_e4a7a0668667row2_col0\" class=\"data row2 col0\" >0.687019</td>\n",
       "                        <td id=\"T_c7378524_33f8_11eb_90c6_e4a7a0668667row2_col1\" class=\"data row2 col1\" >-2.834824</td>\n",
       "                        <td id=\"T_c7378524_33f8_11eb_90c6_e4a7a0668667row2_col2\" class=\"data row2 col2\" >0.863355</td>\n",
       "            </tr>\n",
       "            <tr>\n",
       "                        <th id=\"T_c7378524_33f8_11eb_90c6_e4a7a0668667level0_row3\" class=\"row_heading level0 row3\" >2000-01-04</th>\n",
       "                        <td id=\"T_c7378524_33f8_11eb_90c6_e4a7a0668667row3_col0\" class=\"data row3 col0\" >-0.116238</td>\n",
       "                        <td id=\"T_c7378524_33f8_11eb_90c6_e4a7a0668667row3_col1\" class=\"data row3 col1\" >0.369267</td>\n",
       "                        <td id=\"T_c7378524_33f8_11eb_90c6_e4a7a0668667row3_col2\" class=\"data row3 col2\" >-0.723051</td>\n",
       "            </tr>\n",
       "            <tr>\n",
       "                        <th id=\"T_c7378524_33f8_11eb_90c6_e4a7a0668667level0_row4\" class=\"row_heading level0 row4\" >2000-01-05</th>\n",
       "                        <td id=\"T_c7378524_33f8_11eb_90c6_e4a7a0668667row4_col0\" class=\"data row4 col0\" >0.038618</td>\n",
       "                        <td id=\"T_c7378524_33f8_11eb_90c6_e4a7a0668667row4_col1\" class=\"data row4 col1\" >0.007272</td>\n",
       "                        <td id=\"T_c7378524_33f8_11eb_90c6_e4a7a0668667row4_col2\" class=\"data row4 col2\" >-1.255520</td>\n",
       "            </tr>\n",
       "            <tr>\n",
       "                        <th id=\"T_c7378524_33f8_11eb_90c6_e4a7a0668667level0_row5\" class=\"row_heading level0 row5\" >2000-01-06</th>\n",
       "                        <td id=\"T_c7378524_33f8_11eb_90c6_e4a7a0668667row5_col0\" class=\"data row5 col0\" >-1.598275</td>\n",
       "                        <td id=\"T_c7378524_33f8_11eb_90c6_e4a7a0668667row5_col1\" class=\"data row5 col1\" >-0.080297</td>\n",
       "                        <td id=\"T_c7378524_33f8_11eb_90c6_e4a7a0668667row5_col2\" class=\"data row5 col2\" >2.000208</td>\n",
       "            </tr>\n",
       "            <tr>\n",
       "                        <th id=\"T_c7378524_33f8_11eb_90c6_e4a7a0668667level0_row6\" class=\"row_heading level0 row6\" >2000-01-07</th>\n",
       "                        <td id=\"T_c7378524_33f8_11eb_90c6_e4a7a0668667row6_col0\" class=\"data row6 col0\" >0.423290</td>\n",
       "                        <td id=\"T_c7378524_33f8_11eb_90c6_e4a7a0668667row6_col1\" class=\"data row6 col1\" >-0.333091</td>\n",
       "                        <td id=\"T_c7378524_33f8_11eb_90c6_e4a7a0668667row6_col2\" class=\"data row6 col2\" >0.141600</td>\n",
       "            </tr>\n",
       "            <tr>\n",
       "                        <th id=\"T_c7378524_33f8_11eb_90c6_e4a7a0668667level0_row7\" class=\"row_heading level0 row7\" >2000-01-08</th>\n",
       "                        <td id=\"T_c7378524_33f8_11eb_90c6_e4a7a0668667row7_col0\" class=\"data row7 col0\" >-1.729768</td>\n",
       "                        <td id=\"T_c7378524_33f8_11eb_90c6_e4a7a0668667row7_col1\" class=\"data row7 col1\" >0.710826</td>\n",
       "                        <td id=\"T_c7378524_33f8_11eb_90c6_e4a7a0668667row7_col2\" class=\"data row7 col2\" >-0.977843</td>\n",
       "            </tr>\n",
       "    </tbody></table>"
      ],
      "text/plain": [
       "<pandas.io.formats.style.Styler at 0x2394519eb48>"
      ]
     },
     "execution_count": 69,
     "metadata": {},
     "output_type": "execute_result"
    }
   ],
   "source": [
    "df.style.apply(highlight_max)"
   ]
  },
  {
   "cell_type": "code",
   "execution_count": 70,
   "metadata": {},
   "outputs": [
    {
     "data": {
      "text/html": [
       "<style  type=\"text/css\" >\n",
       "    #T_c7b9fc26_33f8_11eb_9266_e4a7a0668667row0_col2 {\n",
       "            background-color:  blue;\n",
       "        }    #T_c7b9fc26_33f8_11eb_9266_e4a7a0668667row1_col2 {\n",
       "            background-color:  blue;\n",
       "        }    #T_c7b9fc26_33f8_11eb_9266_e4a7a0668667row2_col2 {\n",
       "            background-color:  blue;\n",
       "        }    #T_c7b9fc26_33f8_11eb_9266_e4a7a0668667row3_col1 {\n",
       "            background-color:  blue;\n",
       "        }    #T_c7b9fc26_33f8_11eb_9266_e4a7a0668667row4_col0 {\n",
       "            background-color:  blue;\n",
       "        }    #T_c7b9fc26_33f8_11eb_9266_e4a7a0668667row5_col2 {\n",
       "            background-color:  blue;\n",
       "        }    #T_c7b9fc26_33f8_11eb_9266_e4a7a0668667row6_col0 {\n",
       "            background-color:  blue;\n",
       "        }    #T_c7b9fc26_33f8_11eb_9266_e4a7a0668667row7_col1 {\n",
       "            background-color:  blue;\n",
       "        }</style><table id=\"T_c7b9fc26_33f8_11eb_9266_e4a7a0668667\" ><thead>    <tr>        <th class=\"blank level0\" ></th>        <th class=\"col_heading level0 col0\" >a</th>        <th class=\"col_heading level0 col1\" >b</th>        <th class=\"col_heading level0 col2\" >c</th>    </tr></thead><tbody>\n",
       "                <tr>\n",
       "                        <th id=\"T_c7b9fc26_33f8_11eb_9266_e4a7a0668667level0_row0\" class=\"row_heading level0 row0\" >2000-01-01</th>\n",
       "                        <td id=\"T_c7b9fc26_33f8_11eb_9266_e4a7a0668667row0_col0\" class=\"data row0 col0\" >-1.318834</td>\n",
       "                        <td id=\"T_c7b9fc26_33f8_11eb_9266_e4a7a0668667row0_col1\" class=\"data row0 col1\" >-2.097691</td>\n",
       "                        <td id=\"T_c7b9fc26_33f8_11eb_9266_e4a7a0668667row0_col2\" class=\"data row0 col2\" >-0.716669</td>\n",
       "            </tr>\n",
       "            <tr>\n",
       "                        <th id=\"T_c7b9fc26_33f8_11eb_9266_e4a7a0668667level0_row1\" class=\"row_heading level0 row1\" >2000-01-02</th>\n",
       "                        <td id=\"T_c7b9fc26_33f8_11eb_9266_e4a7a0668667row1_col0\" class=\"data row1 col0\" >-0.521646</td>\n",
       "                        <td id=\"T_c7b9fc26_33f8_11eb_9266_e4a7a0668667row1_col1\" class=\"data row1 col1\" >-1.305941</td>\n",
       "                        <td id=\"T_c7b9fc26_33f8_11eb_9266_e4a7a0668667row1_col2\" class=\"data row1 col2\" >0.457848</td>\n",
       "            </tr>\n",
       "            <tr>\n",
       "                        <th id=\"T_c7b9fc26_33f8_11eb_9266_e4a7a0668667level0_row2\" class=\"row_heading level0 row2\" >2000-01-03</th>\n",
       "                        <td id=\"T_c7b9fc26_33f8_11eb_9266_e4a7a0668667row2_col0\" class=\"data row2 col0\" >0.687019</td>\n",
       "                        <td id=\"T_c7b9fc26_33f8_11eb_9266_e4a7a0668667row2_col1\" class=\"data row2 col1\" >-2.834824</td>\n",
       "                        <td id=\"T_c7b9fc26_33f8_11eb_9266_e4a7a0668667row2_col2\" class=\"data row2 col2\" >0.863355</td>\n",
       "            </tr>\n",
       "            <tr>\n",
       "                        <th id=\"T_c7b9fc26_33f8_11eb_9266_e4a7a0668667level0_row3\" class=\"row_heading level0 row3\" >2000-01-04</th>\n",
       "                        <td id=\"T_c7b9fc26_33f8_11eb_9266_e4a7a0668667row3_col0\" class=\"data row3 col0\" >-0.116238</td>\n",
       "                        <td id=\"T_c7b9fc26_33f8_11eb_9266_e4a7a0668667row3_col1\" class=\"data row3 col1\" >0.369267</td>\n",
       "                        <td id=\"T_c7b9fc26_33f8_11eb_9266_e4a7a0668667row3_col2\" class=\"data row3 col2\" >-0.723051</td>\n",
       "            </tr>\n",
       "            <tr>\n",
       "                        <th id=\"T_c7b9fc26_33f8_11eb_9266_e4a7a0668667level0_row4\" class=\"row_heading level0 row4\" >2000-01-05</th>\n",
       "                        <td id=\"T_c7b9fc26_33f8_11eb_9266_e4a7a0668667row4_col0\" class=\"data row4 col0\" >0.038618</td>\n",
       "                        <td id=\"T_c7b9fc26_33f8_11eb_9266_e4a7a0668667row4_col1\" class=\"data row4 col1\" >0.007272</td>\n",
       "                        <td id=\"T_c7b9fc26_33f8_11eb_9266_e4a7a0668667row4_col2\" class=\"data row4 col2\" >-1.255520</td>\n",
       "            </tr>\n",
       "            <tr>\n",
       "                        <th id=\"T_c7b9fc26_33f8_11eb_9266_e4a7a0668667level0_row5\" class=\"row_heading level0 row5\" >2000-01-06</th>\n",
       "                        <td id=\"T_c7b9fc26_33f8_11eb_9266_e4a7a0668667row5_col0\" class=\"data row5 col0\" >-1.598275</td>\n",
       "                        <td id=\"T_c7b9fc26_33f8_11eb_9266_e4a7a0668667row5_col1\" class=\"data row5 col1\" >-0.080297</td>\n",
       "                        <td id=\"T_c7b9fc26_33f8_11eb_9266_e4a7a0668667row5_col2\" class=\"data row5 col2\" >2.000208</td>\n",
       "            </tr>\n",
       "            <tr>\n",
       "                        <th id=\"T_c7b9fc26_33f8_11eb_9266_e4a7a0668667level0_row6\" class=\"row_heading level0 row6\" >2000-01-07</th>\n",
       "                        <td id=\"T_c7b9fc26_33f8_11eb_9266_e4a7a0668667row6_col0\" class=\"data row6 col0\" >0.423290</td>\n",
       "                        <td id=\"T_c7b9fc26_33f8_11eb_9266_e4a7a0668667row6_col1\" class=\"data row6 col1\" >-0.333091</td>\n",
       "                        <td id=\"T_c7b9fc26_33f8_11eb_9266_e4a7a0668667row6_col2\" class=\"data row6 col2\" >0.141600</td>\n",
       "            </tr>\n",
       "            <tr>\n",
       "                        <th id=\"T_c7b9fc26_33f8_11eb_9266_e4a7a0668667level0_row7\" class=\"row_heading level0 row7\" >2000-01-08</th>\n",
       "                        <td id=\"T_c7b9fc26_33f8_11eb_9266_e4a7a0668667row7_col0\" class=\"data row7 col0\" >-1.729768</td>\n",
       "                        <td id=\"T_c7b9fc26_33f8_11eb_9266_e4a7a0668667row7_col1\" class=\"data row7 col1\" >0.710826</td>\n",
       "                        <td id=\"T_c7b9fc26_33f8_11eb_9266_e4a7a0668667row7_col2\" class=\"data row7 col2\" >-0.977843</td>\n",
       "            </tr>\n",
       "    </tbody></table>"
      ],
      "text/plain": [
       "<pandas.io.formats.style.Styler at 0x23945264b88>"
      ]
     },
     "execution_count": 70,
     "metadata": {},
     "output_type": "execute_result"
    }
   ],
   "source": [
    "df.style.apply(highlight_max, axis=1)"
   ]
  },
  {
   "cell_type": "code",
   "execution_count": 71,
   "metadata": {},
   "outputs": [
    {
     "data": {
      "text/html": [
       "<style  type=\"text/css\" >\n",
       "    #T_c9283dee_33f8_11eb_a1d0_e4a7a0668667row2_col0 {\n",
       "            background-color:  blue;\n",
       "        }    #T_c9283dee_33f8_11eb_a1d0_e4a7a0668667row5_col2 {\n",
       "            background-color:  blue;\n",
       "        }    #T_c9283dee_33f8_11eb_a1d0_e4a7a0668667row7_col1 {\n",
       "            background-color:  blue;\n",
       "        }</style><table id=\"T_c9283dee_33f8_11eb_a1d0_e4a7a0668667\" ><thead>    <tr>        <th class=\"blank level0\" ></th>        <th class=\"col_heading level0 col0\" >a</th>        <th class=\"col_heading level0 col1\" >b</th>        <th class=\"col_heading level0 col2\" >c</th>    </tr></thead><tbody>\n",
       "                <tr>\n",
       "                        <th id=\"T_c9283dee_33f8_11eb_a1d0_e4a7a0668667level0_row0\" class=\"row_heading level0 row0\" >2000-01-01</th>\n",
       "                        <td id=\"T_c9283dee_33f8_11eb_a1d0_e4a7a0668667row0_col0\" class=\"data row0 col0\" >-1.318834</td>\n",
       "                        <td id=\"T_c9283dee_33f8_11eb_a1d0_e4a7a0668667row0_col1\" class=\"data row0 col1\" >-2.097691</td>\n",
       "                        <td id=\"T_c9283dee_33f8_11eb_a1d0_e4a7a0668667row0_col2\" class=\"data row0 col2\" >-0.716669</td>\n",
       "            </tr>\n",
       "            <tr>\n",
       "                        <th id=\"T_c9283dee_33f8_11eb_a1d0_e4a7a0668667level0_row1\" class=\"row_heading level0 row1\" >2000-01-02</th>\n",
       "                        <td id=\"T_c9283dee_33f8_11eb_a1d0_e4a7a0668667row1_col0\" class=\"data row1 col0\" >-0.521646</td>\n",
       "                        <td id=\"T_c9283dee_33f8_11eb_a1d0_e4a7a0668667row1_col1\" class=\"data row1 col1\" >-1.305941</td>\n",
       "                        <td id=\"T_c9283dee_33f8_11eb_a1d0_e4a7a0668667row1_col2\" class=\"data row1 col2\" >0.457848</td>\n",
       "            </tr>\n",
       "            <tr>\n",
       "                        <th id=\"T_c9283dee_33f8_11eb_a1d0_e4a7a0668667level0_row2\" class=\"row_heading level0 row2\" >2000-01-03</th>\n",
       "                        <td id=\"T_c9283dee_33f8_11eb_a1d0_e4a7a0668667row2_col0\" class=\"data row2 col0\" >0.687019</td>\n",
       "                        <td id=\"T_c9283dee_33f8_11eb_a1d0_e4a7a0668667row2_col1\" class=\"data row2 col1\" >-2.834824</td>\n",
       "                        <td id=\"T_c9283dee_33f8_11eb_a1d0_e4a7a0668667row2_col2\" class=\"data row2 col2\" >0.863355</td>\n",
       "            </tr>\n",
       "            <tr>\n",
       "                        <th id=\"T_c9283dee_33f8_11eb_a1d0_e4a7a0668667level0_row3\" class=\"row_heading level0 row3\" >2000-01-04</th>\n",
       "                        <td id=\"T_c9283dee_33f8_11eb_a1d0_e4a7a0668667row3_col0\" class=\"data row3 col0\" >-0.116238</td>\n",
       "                        <td id=\"T_c9283dee_33f8_11eb_a1d0_e4a7a0668667row3_col1\" class=\"data row3 col1\" >0.369267</td>\n",
       "                        <td id=\"T_c9283dee_33f8_11eb_a1d0_e4a7a0668667row3_col2\" class=\"data row3 col2\" >-0.723051</td>\n",
       "            </tr>\n",
       "            <tr>\n",
       "                        <th id=\"T_c9283dee_33f8_11eb_a1d0_e4a7a0668667level0_row4\" class=\"row_heading level0 row4\" >2000-01-05</th>\n",
       "                        <td id=\"T_c9283dee_33f8_11eb_a1d0_e4a7a0668667row4_col0\" class=\"data row4 col0\" >0.038618</td>\n",
       "                        <td id=\"T_c9283dee_33f8_11eb_a1d0_e4a7a0668667row4_col1\" class=\"data row4 col1\" >0.007272</td>\n",
       "                        <td id=\"T_c9283dee_33f8_11eb_a1d0_e4a7a0668667row4_col2\" class=\"data row4 col2\" >-1.255520</td>\n",
       "            </tr>\n",
       "            <tr>\n",
       "                        <th id=\"T_c9283dee_33f8_11eb_a1d0_e4a7a0668667level0_row5\" class=\"row_heading level0 row5\" >2000-01-06</th>\n",
       "                        <td id=\"T_c9283dee_33f8_11eb_a1d0_e4a7a0668667row5_col0\" class=\"data row5 col0\" >-1.598275</td>\n",
       "                        <td id=\"T_c9283dee_33f8_11eb_a1d0_e4a7a0668667row5_col1\" class=\"data row5 col1\" >-0.080297</td>\n",
       "                        <td id=\"T_c9283dee_33f8_11eb_a1d0_e4a7a0668667row5_col2\" class=\"data row5 col2\" >2.000208</td>\n",
       "            </tr>\n",
       "            <tr>\n",
       "                        <th id=\"T_c9283dee_33f8_11eb_a1d0_e4a7a0668667level0_row6\" class=\"row_heading level0 row6\" >2000-01-07</th>\n",
       "                        <td id=\"T_c9283dee_33f8_11eb_a1d0_e4a7a0668667row6_col0\" class=\"data row6 col0\" >0.423290</td>\n",
       "                        <td id=\"T_c9283dee_33f8_11eb_a1d0_e4a7a0668667row6_col1\" class=\"data row6 col1\" >-0.333091</td>\n",
       "                        <td id=\"T_c9283dee_33f8_11eb_a1d0_e4a7a0668667row6_col2\" class=\"data row6 col2\" >0.141600</td>\n",
       "            </tr>\n",
       "            <tr>\n",
       "                        <th id=\"T_c9283dee_33f8_11eb_a1d0_e4a7a0668667level0_row7\" class=\"row_heading level0 row7\" >2000-01-08</th>\n",
       "                        <td id=\"T_c9283dee_33f8_11eb_a1d0_e4a7a0668667row7_col0\" class=\"data row7 col0\" >-1.729768</td>\n",
       "                        <td id=\"T_c9283dee_33f8_11eb_a1d0_e4a7a0668667row7_col1\" class=\"data row7 col1\" >0.710826</td>\n",
       "                        <td id=\"T_c9283dee_33f8_11eb_a1d0_e4a7a0668667row7_col2\" class=\"data row7 col2\" >-0.977843</td>\n",
       "            </tr>\n",
       "    </tbody></table>"
      ],
      "text/plain": [
       "<pandas.io.formats.style.Styler at 0x2394525b348>"
      ]
     },
     "execution_count": 71,
     "metadata": {},
     "output_type": "execute_result"
    }
   ],
   "source": [
    "df.style.apply(highlight_max, axis=0)"
   ]
  },
  {
   "cell_type": "code",
   "execution_count": 72,
   "metadata": {},
   "outputs": [
    {
     "data": {
      "text/html": [
       "<style  type=\"text/css\" >\n",
       "    #T_d13b0c1c_33f8_11eb_a435_e4a7a0668667row0_col0 {\n",
       "            : ;\n",
       "            color:  red;\n",
       "        }    #T_d13b0c1c_33f8_11eb_a435_e4a7a0668667row0_col1 {\n",
       "            : ;\n",
       "            color:  red;\n",
       "        }    #T_d13b0c1c_33f8_11eb_a435_e4a7a0668667row0_col2 {\n",
       "            : ;\n",
       "            color:  red;\n",
       "        }    #T_d13b0c1c_33f8_11eb_a435_e4a7a0668667row1_col0 {\n",
       "            : ;\n",
       "            color:  red;\n",
       "        }    #T_d13b0c1c_33f8_11eb_a435_e4a7a0668667row1_col1 {\n",
       "            : ;\n",
       "            color:  red;\n",
       "        }    #T_d13b0c1c_33f8_11eb_a435_e4a7a0668667row1_col2 {\n",
       "            : ;\n",
       "            color:  white;\n",
       "        }    #T_d13b0c1c_33f8_11eb_a435_e4a7a0668667row2_col0 {\n",
       "            background-color:  blue;\n",
       "            color:  white;\n",
       "        }    #T_d13b0c1c_33f8_11eb_a435_e4a7a0668667row2_col1 {\n",
       "            : ;\n",
       "            color:  red;\n",
       "        }    #T_d13b0c1c_33f8_11eb_a435_e4a7a0668667row2_col2 {\n",
       "            : ;\n",
       "            color:  white;\n",
       "        }    #T_d13b0c1c_33f8_11eb_a435_e4a7a0668667row3_col0 {\n",
       "            : ;\n",
       "            color:  red;\n",
       "        }    #T_d13b0c1c_33f8_11eb_a435_e4a7a0668667row3_col1 {\n",
       "            : ;\n",
       "            color:  white;\n",
       "        }    #T_d13b0c1c_33f8_11eb_a435_e4a7a0668667row3_col2 {\n",
       "            : ;\n",
       "            color:  red;\n",
       "        }    #T_d13b0c1c_33f8_11eb_a435_e4a7a0668667row4_col0 {\n",
       "            : ;\n",
       "            color:  white;\n",
       "        }    #T_d13b0c1c_33f8_11eb_a435_e4a7a0668667row4_col1 {\n",
       "            : ;\n",
       "            color:  white;\n",
       "        }    #T_d13b0c1c_33f8_11eb_a435_e4a7a0668667row4_col2 {\n",
       "            : ;\n",
       "            color:  red;\n",
       "        }    #T_d13b0c1c_33f8_11eb_a435_e4a7a0668667row5_col0 {\n",
       "            : ;\n",
       "            color:  red;\n",
       "        }    #T_d13b0c1c_33f8_11eb_a435_e4a7a0668667row5_col1 {\n",
       "            : ;\n",
       "            color:  red;\n",
       "        }    #T_d13b0c1c_33f8_11eb_a435_e4a7a0668667row5_col2 {\n",
       "            background-color:  blue;\n",
       "            color:  white;\n",
       "        }    #T_d13b0c1c_33f8_11eb_a435_e4a7a0668667row6_col0 {\n",
       "            : ;\n",
       "            color:  white;\n",
       "        }    #T_d13b0c1c_33f8_11eb_a435_e4a7a0668667row6_col1 {\n",
       "            : ;\n",
       "            color:  red;\n",
       "        }    #T_d13b0c1c_33f8_11eb_a435_e4a7a0668667row6_col2 {\n",
       "            : ;\n",
       "            color:  white;\n",
       "        }    #T_d13b0c1c_33f8_11eb_a435_e4a7a0668667row7_col0 {\n",
       "            : ;\n",
       "            color:  red;\n",
       "        }    #T_d13b0c1c_33f8_11eb_a435_e4a7a0668667row7_col1 {\n",
       "            background-color:  blue;\n",
       "            color:  white;\n",
       "        }    #T_d13b0c1c_33f8_11eb_a435_e4a7a0668667row7_col2 {\n",
       "            : ;\n",
       "            color:  red;\n",
       "        }</style><table id=\"T_d13b0c1c_33f8_11eb_a435_e4a7a0668667\" ><thead>    <tr>        <th class=\"blank level0\" ></th>        <th class=\"col_heading level0 col0\" >a</th>        <th class=\"col_heading level0 col1\" >b</th>        <th class=\"col_heading level0 col2\" >c</th>    </tr></thead><tbody>\n",
       "                <tr>\n",
       "                        <th id=\"T_d13b0c1c_33f8_11eb_a435_e4a7a0668667level0_row0\" class=\"row_heading level0 row0\" >2000-01-01</th>\n",
       "                        <td id=\"T_d13b0c1c_33f8_11eb_a435_e4a7a0668667row0_col0\" class=\"data row0 col0\" >-1.318834</td>\n",
       "                        <td id=\"T_d13b0c1c_33f8_11eb_a435_e4a7a0668667row0_col1\" class=\"data row0 col1\" >-2.097691</td>\n",
       "                        <td id=\"T_d13b0c1c_33f8_11eb_a435_e4a7a0668667row0_col2\" class=\"data row0 col2\" >-0.716669</td>\n",
       "            </tr>\n",
       "            <tr>\n",
       "                        <th id=\"T_d13b0c1c_33f8_11eb_a435_e4a7a0668667level0_row1\" class=\"row_heading level0 row1\" >2000-01-02</th>\n",
       "                        <td id=\"T_d13b0c1c_33f8_11eb_a435_e4a7a0668667row1_col0\" class=\"data row1 col0\" >-0.521646</td>\n",
       "                        <td id=\"T_d13b0c1c_33f8_11eb_a435_e4a7a0668667row1_col1\" class=\"data row1 col1\" >-1.305941</td>\n",
       "                        <td id=\"T_d13b0c1c_33f8_11eb_a435_e4a7a0668667row1_col2\" class=\"data row1 col2\" >0.457848</td>\n",
       "            </tr>\n",
       "            <tr>\n",
       "                        <th id=\"T_d13b0c1c_33f8_11eb_a435_e4a7a0668667level0_row2\" class=\"row_heading level0 row2\" >2000-01-03</th>\n",
       "                        <td id=\"T_d13b0c1c_33f8_11eb_a435_e4a7a0668667row2_col0\" class=\"data row2 col0\" >0.687019</td>\n",
       "                        <td id=\"T_d13b0c1c_33f8_11eb_a435_e4a7a0668667row2_col1\" class=\"data row2 col1\" >-2.834824</td>\n",
       "                        <td id=\"T_d13b0c1c_33f8_11eb_a435_e4a7a0668667row2_col2\" class=\"data row2 col2\" >0.863355</td>\n",
       "            </tr>\n",
       "            <tr>\n",
       "                        <th id=\"T_d13b0c1c_33f8_11eb_a435_e4a7a0668667level0_row3\" class=\"row_heading level0 row3\" >2000-01-04</th>\n",
       "                        <td id=\"T_d13b0c1c_33f8_11eb_a435_e4a7a0668667row3_col0\" class=\"data row3 col0\" >-0.116238</td>\n",
       "                        <td id=\"T_d13b0c1c_33f8_11eb_a435_e4a7a0668667row3_col1\" class=\"data row3 col1\" >0.369267</td>\n",
       "                        <td id=\"T_d13b0c1c_33f8_11eb_a435_e4a7a0668667row3_col2\" class=\"data row3 col2\" >-0.723051</td>\n",
       "            </tr>\n",
       "            <tr>\n",
       "                        <th id=\"T_d13b0c1c_33f8_11eb_a435_e4a7a0668667level0_row4\" class=\"row_heading level0 row4\" >2000-01-05</th>\n",
       "                        <td id=\"T_d13b0c1c_33f8_11eb_a435_e4a7a0668667row4_col0\" class=\"data row4 col0\" >0.038618</td>\n",
       "                        <td id=\"T_d13b0c1c_33f8_11eb_a435_e4a7a0668667row4_col1\" class=\"data row4 col1\" >0.007272</td>\n",
       "                        <td id=\"T_d13b0c1c_33f8_11eb_a435_e4a7a0668667row4_col2\" class=\"data row4 col2\" >-1.255520</td>\n",
       "            </tr>\n",
       "            <tr>\n",
       "                        <th id=\"T_d13b0c1c_33f8_11eb_a435_e4a7a0668667level0_row5\" class=\"row_heading level0 row5\" >2000-01-06</th>\n",
       "                        <td id=\"T_d13b0c1c_33f8_11eb_a435_e4a7a0668667row5_col0\" class=\"data row5 col0\" >-1.598275</td>\n",
       "                        <td id=\"T_d13b0c1c_33f8_11eb_a435_e4a7a0668667row5_col1\" class=\"data row5 col1\" >-0.080297</td>\n",
       "                        <td id=\"T_d13b0c1c_33f8_11eb_a435_e4a7a0668667row5_col2\" class=\"data row5 col2\" >2.000208</td>\n",
       "            </tr>\n",
       "            <tr>\n",
       "                        <th id=\"T_d13b0c1c_33f8_11eb_a435_e4a7a0668667level0_row6\" class=\"row_heading level0 row6\" >2000-01-07</th>\n",
       "                        <td id=\"T_d13b0c1c_33f8_11eb_a435_e4a7a0668667row6_col0\" class=\"data row6 col0\" >0.423290</td>\n",
       "                        <td id=\"T_d13b0c1c_33f8_11eb_a435_e4a7a0668667row6_col1\" class=\"data row6 col1\" >-0.333091</td>\n",
       "                        <td id=\"T_d13b0c1c_33f8_11eb_a435_e4a7a0668667row6_col2\" class=\"data row6 col2\" >0.141600</td>\n",
       "            </tr>\n",
       "            <tr>\n",
       "                        <th id=\"T_d13b0c1c_33f8_11eb_a435_e4a7a0668667level0_row7\" class=\"row_heading level0 row7\" >2000-01-08</th>\n",
       "                        <td id=\"T_d13b0c1c_33f8_11eb_a435_e4a7a0668667row7_col0\" class=\"data row7 col0\" >-1.729768</td>\n",
       "                        <td id=\"T_d13b0c1c_33f8_11eb_a435_e4a7a0668667row7_col1\" class=\"data row7 col1\" >0.710826</td>\n",
       "                        <td id=\"T_d13b0c1c_33f8_11eb_a435_e4a7a0668667row7_col2\" class=\"data row7 col2\" >-0.977843</td>\n",
       "            </tr>\n",
       "    </tbody></table>"
      ],
      "text/plain": [
       "<pandas.io.formats.style.Styler at 0x2394525b988>"
      ]
     },
     "execution_count": 72,
     "metadata": {},
     "output_type": "execute_result"
    }
   ],
   "source": [
    "df.style.apply(highlight_max, axis=0).applymap(color_negative_red)"
   ]
  },
  {
   "cell_type": "markdown",
   "metadata": {},
   "source": [
    "## Nowe kolumny"
   ]
  },
  {
   "cell_type": "code",
   "execution_count": 73,
   "metadata": {},
   "outputs": [
    {
     "name": "stderr",
     "output_type": "stream",
     "text": [
      "C:\\Users\\sesa443784\\AppData\\Local\\Continuum\\anaconda3\\envs\\py3k\\lib\\site-packages\\ipykernel_launcher.py:1: UserWarning: Pandas doesn't allow columns to be created via a new attribute name - see https://pandas.pydata.org/pandas-docs/stable/indexing.html#attribute-access\n",
      "  \"\"\"Entry point for launching an IPython kernel.\n"
     ]
    }
   ],
   "source": [
    "df.suma = df.a + df.b + df.c"
   ]
  },
  {
   "cell_type": "code",
   "execution_count": 74,
   "metadata": {},
   "outputs": [],
   "source": [
    "df['suma'] = df.a + df.b + df.c"
   ]
  },
  {
   "cell_type": "code",
   "execution_count": 75,
   "metadata": {},
   "outputs": [
    {
     "data": {
      "text/html": [
       "<div>\n",
       "<style scoped>\n",
       "    .dataframe tbody tr th:only-of-type {\n",
       "        vertical-align: middle;\n",
       "    }\n",
       "\n",
       "    .dataframe tbody tr th {\n",
       "        vertical-align: top;\n",
       "    }\n",
       "\n",
       "    .dataframe thead th {\n",
       "        text-align: right;\n",
       "    }\n",
       "</style>\n",
       "<table border=\"1\" class=\"dataframe\">\n",
       "  <thead>\n",
       "    <tr style=\"text-align: right;\">\n",
       "      <th></th>\n",
       "      <th>a</th>\n",
       "      <th>b</th>\n",
       "      <th>c</th>\n",
       "      <th>suma</th>\n",
       "    </tr>\n",
       "  </thead>\n",
       "  <tbody>\n",
       "    <tr>\n",
       "      <th>2000-01-01</th>\n",
       "      <td>-1.318834</td>\n",
       "      <td>-2.097691</td>\n",
       "      <td>-0.716669</td>\n",
       "      <td>-4.133193</td>\n",
       "    </tr>\n",
       "    <tr>\n",
       "      <th>2000-01-02</th>\n",
       "      <td>-0.521646</td>\n",
       "      <td>-1.305941</td>\n",
       "      <td>0.457848</td>\n",
       "      <td>-1.369738</td>\n",
       "    </tr>\n",
       "    <tr>\n",
       "      <th>2000-01-03</th>\n",
       "      <td>0.687019</td>\n",
       "      <td>-2.834824</td>\n",
       "      <td>0.863355</td>\n",
       "      <td>-1.284450</td>\n",
       "    </tr>\n",
       "    <tr>\n",
       "      <th>2000-01-04</th>\n",
       "      <td>-0.116238</td>\n",
       "      <td>0.369267</td>\n",
       "      <td>-0.723051</td>\n",
       "      <td>-0.470023</td>\n",
       "    </tr>\n",
       "    <tr>\n",
       "      <th>2000-01-05</th>\n",
       "      <td>0.038618</td>\n",
       "      <td>0.007272</td>\n",
       "      <td>-1.255520</td>\n",
       "      <td>-1.209629</td>\n",
       "    </tr>\n",
       "    <tr>\n",
       "      <th>2000-01-06</th>\n",
       "      <td>-1.598275</td>\n",
       "      <td>-0.080297</td>\n",
       "      <td>2.000208</td>\n",
       "      <td>0.321636</td>\n",
       "    </tr>\n",
       "    <tr>\n",
       "      <th>2000-01-07</th>\n",
       "      <td>0.423290</td>\n",
       "      <td>-0.333091</td>\n",
       "      <td>0.141600</td>\n",
       "      <td>0.231799</td>\n",
       "    </tr>\n",
       "    <tr>\n",
       "      <th>2000-01-08</th>\n",
       "      <td>-1.729768</td>\n",
       "      <td>0.710826</td>\n",
       "      <td>-0.977843</td>\n",
       "      <td>-1.996785</td>\n",
       "    </tr>\n",
       "  </tbody>\n",
       "</table>\n",
       "</div>"
      ],
      "text/plain": [
       "                   a         b         c      suma\n",
       "2000-01-01 -1.318834 -2.097691 -0.716669 -4.133193\n",
       "2000-01-02 -0.521646 -1.305941  0.457848 -1.369738\n",
       "2000-01-03  0.687019 -2.834824  0.863355 -1.284450\n",
       "2000-01-04 -0.116238  0.369267 -0.723051 -0.470023\n",
       "2000-01-05  0.038618  0.007272 -1.255520 -1.209629\n",
       "2000-01-06 -1.598275 -0.080297  2.000208  0.321636\n",
       "2000-01-07  0.423290 -0.333091  0.141600  0.231799\n",
       "2000-01-08 -1.729768  0.710826 -0.977843 -1.996785"
      ]
     },
     "execution_count": 75,
     "metadata": {},
     "output_type": "execute_result"
    }
   ],
   "source": [
    "df"
   ]
  },
  {
   "cell_type": "markdown",
   "metadata": {},
   "source": [
    "### Zadanie 1"
   ]
  },
  {
   "cell_type": "markdown",
   "metadata": {},
   "source": [
    "Podsumować dane dla zespołu `Packers` (stworzyć `DataFrame` z danymi tego zespołu)"
   ]
  },
  {
   "cell_type": "markdown",
   "metadata": {},
   "source": [
    "### Zadanie 2"
   ]
  },
  {
   "cell_type": "markdown",
   "metadata": {},
   "source": [
    "Dodać do DataFrame `football` kolumnę `games_played`"
   ]
  },
  {
   "cell_type": "markdown",
   "metadata": {},
   "source": [
    "### Zadanie 3"
   ]
  },
  {
   "cell_type": "markdown",
   "metadata": {},
   "source": [
    "Dodać do DataFrame `football` kolumnę `percentage_games_won`"
   ]
  },
  {
   "cell_type": "markdown",
   "metadata": {},
   "source": [
    "## Zadanie 4\n",
    "\n",
    "Wyświetlić dane dla zespołu `Packers` z lat parzystych"
   ]
  }
 ],
 "metadata": {
  "kernelspec": {
   "display_name": "Python 3",
   "language": "python",
   "name": "python3"
  },
  "language_info": {
   "codemirror_mode": {
    "name": "ipython",
    "version": 3
   },
   "file_extension": ".py",
   "mimetype": "text/x-python",
   "name": "python",
   "nbconvert_exporter": "python",
   "pygments_lexer": "ipython3",
   "version": "3.7.5"
  },
  "widgets": {
   "application/vnd.jupyter.widget-state+json": {
    "state": {},
    "version_major": 2,
    "version_minor": 0
   }
  }
 },
 "nbformat": 4,
 "nbformat_minor": 4
}
