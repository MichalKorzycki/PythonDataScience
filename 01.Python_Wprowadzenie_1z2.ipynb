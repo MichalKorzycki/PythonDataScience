{
 "cells": [
  {
   "cell_type": "markdown",
   "metadata": {},
   "source": [
    "# Warsztaty Python w Data Science"
   ]
  },
  {
   "cell_type": "markdown",
   "metadata": {},
   "source": [
    "***"
   ]
  },
  {
   "cell_type": "markdown",
   "metadata": {},
   "source": [
    "# Blok 1 - Wprowadzenie\n",
    "## Python (1 z 2)"
   ]
  },
  {
   "cell_type": "markdown",
   "metadata": {},
   "source": [
    "***"
   ]
  },
  {
   "cell_type": "markdown",
   "metadata": {},
   "source": [
    "# https://github.com/MichalKorzycki/PythonDataScience\n",
    "![github](img/githubzip.png)"
   ]
  },
  {
   "cell_type": "markdown",
   "metadata": {},
   "source": [
    "***"
   ]
  },
  {
   "cell_type": "markdown",
   "metadata": {},
   "source": [
    "# Python"
   ]
  },
  {
   "cell_type": "markdown",
   "metadata": {},
   "source": [
    "Język Python jest:\n",
    "- dynamicznym, silnie typowanym językiem skryptowym\n",
    "- napędza takie sajty jak Youtube, Dropbox, Netflix czy Instagram\n",
    "- są dwie \"konkurencyjne\" wersje języka - 2.7 (przestarzała) i tzw. py3k  (3.7, 3.8, 3.9)\n",
    "- na wykładzie korzystamy z 3.7 ale późniejsze wersje też są OK\n",
    "- może pracować jako skrypty (samodzielny program)\n",
    "- albo notebook (to co widzimy)\n",
    "- poważnym językiem programowania"
   ]
  },
  {
   "cell_type": "markdown",
   "metadata": {},
   "source": [
    "![title](img/rossum.jpg)"
   ]
  },
  {
   "cell_type": "markdown",
   "metadata": {
    "jupyter": {
     "source_hidden": true
    }
   },
   "source": [
    "![title](img/gosling.jpg)"
   ]
  },
  {
   "cell_type": "markdown",
   "metadata": {
    "jupyter": {
     "source_hidden": true
    }
   },
   "source": [
    "![title](img/stroustrup.jpg)"
   ]
  },
  {
   "cell_type": "markdown",
   "metadata": {
    "jupyter": {
     "source_hidden": true
    }
   },
   "source": [
    "![title](img/wall.jpg)"
   ]
  },
  {
   "cell_type": "markdown",
   "metadata": {},
   "source": [
    "(Źródła zdjęć: wikipedia)"
   ]
  },
  {
   "cell_type": "code",
   "execution_count": null,
   "metadata": {},
   "outputs": [],
   "source": [
    "print (\"Hello World\")"
   ]
  },
  {
   "cell_type": "code",
   "execution_count": null,
   "metadata": {},
   "outputs": [],
   "source": [
    "import sys\n",
    "print (sys.version)"
   ]
  },
  {
   "cell_type": "markdown",
   "metadata": {},
   "source": [
    "![title](img/python_growth.png)"
   ]
  },
  {
   "cell_type": "markdown",
   "metadata": {},
   "source": [
    "Żródło: https://stackoverflow.blog/2017/09/06/incredible-growth-python/"
   ]
  },
  {
   "cell_type": "markdown",
   "metadata": {},
   "source": [
    "![tiobe](img/tiobe.png)"
   ]
  },
  {
   "cell_type": "markdown",
   "metadata": {},
   "source": [
    "Źródło: https://www.tiobe.com/tiobe-index/"
   ]
  },
  {
   "cell_type": "markdown",
   "metadata": {},
   "source": [
    "***"
   ]
  },
  {
   "cell_type": "markdown",
   "metadata": {},
   "source": [
    "# Program Wykładu\n",
    "## Język Python - wprowadzenie (2 spotkania)\n",
    "- ### Podstawowe elementy składni\n",
    "- ### Środowisko pracy do pracy z danymi – anaconda, jupyter\n",
    "- ### Struktury danych\n",
    "- ### Instrukcje sterujące\n",
    "\n",
    "## Data Wrangling (4 spotkania)\n",
    "- ### Tidy Data – co to jest\n",
    "- ### Data wrangling, munging, tidying - podstawowe operacje\n",
    "- ### Biblioteka Pandas \n",
    "- ### Czytanie danych\n",
    "- ### Wybieranie kolumn i „krojenie danych”\n",
    "- ### Czyszczenie danych\n",
    "- ### Agregacja, grupowanie\n",
    "\n",
    "## Wizualizacja danych (2 spotkania)\n",
    "- ### Proste wykresy\n",
    "- ### Konfiguracja wykresu, sztuczki i kruczki\n",
    " \n",
    "## Zewnętrzne źródła danych (2 spotkania)\n",
    "- ### Pojęcie API i korzystanie z nich. JSON\n",
    "- ### Samodzielne pobieranie danych\n",
    "- ### Konsumowanie API\n",
    "- ### Scraping, Ściąganie danych z sieci\n",
    "- ### Biblioteki Scrapy, Beautiful Soup, lxml\n",
    "- ### Biblioteki \n",
    "\n",
    "## Machine Learning (4 spotkania)\n",
    "- ### Regresja w ML\n",
    "- ### Klasyfikacja w ML\n",
    "- ### Inżynieria cech (Feature Engineering)\n",
    "- ### Metryki skuteczności optymalizacja modeli\n",
    "- ### Trening klasyfikatorów\n",
    "- ### Wybór optymalnego modelu, walidacja krzyżowa\n",
    "- ### Specyfika danych tekstowych\n",
    "- ### Postawowe metryki dla danych tekstowych\n"
   ]
  },
  {
   "cell_type": "markdown",
   "metadata": {},
   "source": [
    "---\n",
    "# Jupyter Notebooks\n",
    "\n",
    "... bo **Jupyter** jest *prosty* ale _**potężny**_"
   ]
  },
  {
   "cell_type": "markdown",
   "metadata": {},
   "source": [
    "$$\\sum_{i=1}^\\infty \\frac{1}{2^i} = 1$$"
   ]
  },
  {
   "cell_type": "markdown",
   "metadata": {},
   "source": [
    "A to: $P(A \\mid B) = \\frac{P(B \\mid A)P(A)}{P(B)}$ jest wzór _**Bayesa**_"
   ]
  },
  {
   "cell_type": "code",
   "execution_count": null,
   "metadata": {},
   "outputs": [],
   "source": [
    "import pandas as pd\n",
    "import numpy as np\n",
    "\n",
    "df = pd.DataFrame(np.random.randint(1,100, 100).reshape(-1, 10))\n",
    "df.columns=[chr(i) for i in range(ord('A'),ord('J')+1)]\n",
    "\n",
    "df[\"max\"] = df.apply(max,axis=1)\n",
    "df"
   ]
  },
  {
   "cell_type": "code",
   "execution_count": null,
   "metadata": {},
   "outputs": [],
   "source": [
    "%matplotlib inline\n",
    "import matplotlib.pyplot as plt\n",
    "import numpy as np\n",
    "\n",
    "plt.style.use(\"dark_background\")\n",
    "\n",
    "x = np.linspace(0, 10, 100)\n",
    "fig = plt.figure(figsize=(20,4))\n",
    "plt.plot(x, np.sin(x), '-')\n",
    "plt.plot(x, np.cos(x), '.');"
   ]
  },
  {
   "cell_type": "markdown",
   "metadata": {},
   "source": [
    "# https://www.anaconda.com/download/\n",
    "---"
   ]
  },
  {
   "cell_type": "markdown",
   "metadata": {},
   "source": [
    "# Składnia języka"
   ]
  },
  {
   "cell_type": "markdown",
   "metadata": {},
   "source": [
    "## Zmienne i ich Typy"
   ]
  },
  {
   "cell_type": "code",
   "execution_count": null,
   "metadata": {},
   "outputs": [],
   "source": [
    "s = 'Ala ma kota'"
   ]
  },
  {
   "cell_type": "code",
   "execution_count": null,
   "metadata": {},
   "outputs": [],
   "source": [
    "s"
   ]
  },
  {
   "cell_type": "markdown",
   "metadata": {},
   "source": [
    "## Typy zmiennych\n",
    "### Podstawowe\n",
    "- liczby całkowite (int)\n",
    "- liczby zmiennoprzecinkowe (float)\n",
    "- Łańcuchy znaków (str)\n",
    "- Boolowskie (True i False)\n",
    "\n",
    "### Złożone\n",
    "- listy - (list)\n",
    "- krotki - (tuple)\n",
    "- słowniki - (dict)\n",
    "- ...\n"
   ]
  },
  {
   "cell_type": "code",
   "execution_count": null,
   "metadata": {},
   "outputs": [],
   "source": [
    "7+2"
   ]
  },
  {
   "cell_type": "code",
   "execution_count": null,
   "metadata": {},
   "outputs": [],
   "source": [
    "7/2"
   ]
  },
  {
   "cell_type": "markdown",
   "metadata": {},
   "source": [
    "### Dzielenie całkowite"
   ]
  },
  {
   "cell_type": "code",
   "execution_count": null,
   "metadata": {},
   "outputs": [],
   "source": [
    "7//2"
   ]
  },
  {
   "cell_type": "markdown",
   "metadata": {},
   "source": [
    "### Operacja modulo (reszta z dzielenia)"
   ]
  },
  {
   "cell_type": "code",
   "execution_count": null,
   "metadata": {},
   "outputs": [],
   "source": [
    "7%2"
   ]
  },
  {
   "cell_type": "markdown",
   "metadata": {},
   "source": [
    "## Python jest językiem dynamicznym\n"
   ]
  },
  {
   "cell_type": "code",
   "execution_count": null,
   "metadata": {},
   "outputs": [],
   "source": [
    "s = 3\n",
    "s"
   ]
  },
  {
   "cell_type": "code",
   "execution_count": null,
   "metadata": {},
   "outputs": [],
   "source": [
    "s = \"Ala ma \""
   ]
  },
  {
   "cell_type": "code",
   "execution_count": null,
   "metadata": {},
   "outputs": [],
   "source": [
    "s = s + \"kota\"\n",
    "s"
   ]
  },
  {
   "cell_type": "code",
   "execution_count": null,
   "metadata": {},
   "outputs": [],
   "source": [
    "n = 3"
   ]
  },
  {
   "cell_type": "code",
   "execution_count": null,
   "metadata": {},
   "outputs": [],
   "source": [
    "s = \"Ala ma \" + n + \"koty\"\n",
    "s"
   ]
  },
  {
   "cell_type": "markdown",
   "metadata": {},
   "source": [
    "## Python jest SILNIE typowany\n",
    "\n",
    "Ale zawsze można skorzystać z konwersji"
   ]
  },
  {
   "cell_type": "code",
   "execution_count": null,
   "metadata": {},
   "outputs": [],
   "source": [
    "s = 'Ala ma ' + str(n) + ' koty '\n",
    "s"
   ]
  },
  {
   "cell_type": "code",
   "execution_count": null,
   "metadata": {},
   "outputs": [],
   "source": [
    "s * 4"
   ]
  },
  {
   "cell_type": "code",
   "execution_count": null,
   "metadata": {},
   "outputs": [],
   "source": [
    "\"10\""
   ]
  },
  {
   "cell_type": "code",
   "execution_count": null,
   "metadata": {},
   "outputs": [],
   "source": [
    "int(\"10\")"
   ]
  },
  {
   "cell_type": "markdown",
   "metadata": {},
   "source": [
    "## Formatowanie napisów"
   ]
  },
  {
   "cell_type": "code",
   "execution_count": null,
   "metadata": {},
   "outputs": [],
   "source": [
    "'%d jest liczbą' % 3"
   ]
  },
  {
   "cell_type": "code",
   "execution_count": null,
   "metadata": {},
   "outputs": [],
   "source": [
    "'Liczba Pi to jest mniej więcej %.2f'  % 3.141526"
   ]
  },
  {
   "cell_type": "code",
   "execution_count": null,
   "metadata": {},
   "outputs": [],
   "source": [
    "'%d jest liczbą, i %d też jest liczbą' % (3,7)"
   ]
  },
  {
   "cell_type": "code",
   "execution_count": null,
   "metadata": {},
   "outputs": [],
   "source": [
    "str(3) + ' jest liczbą, i ' + str(7) + ' też jest liczbą'"
   ]
  },
  {
   "cell_type": "code",
   "execution_count": null,
   "metadata": {},
   "outputs": [],
   "source": [
    "n = 3\n",
    "m = 11117\n",
    "f'{n} jest liczbą, i {m} też jest liczbą'"
   ]
  },
  {
   "cell_type": "markdown",
   "metadata": {},
   "source": [
    "## Typ logiczny Boolean"
   ]
  },
  {
   "cell_type": "code",
   "execution_count": null,
   "metadata": {},
   "outputs": [],
   "source": [
    "n == 3"
   ]
  },
  {
   "cell_type": "code",
   "execution_count": null,
   "metadata": {},
   "outputs": [],
   "source": [
    "n != 3"
   ]
  },
  {
   "cell_type": "code",
   "execution_count": null,
   "metadata": {},
   "outputs": [],
   "source": [
    "not n == 3"
   ]
  },
  {
   "cell_type": "code",
   "execution_count": null,
   "metadata": {},
   "outputs": [],
   "source": [
    "n == 3 or n != 3"
   ]
  },
  {
   "cell_type": "code",
   "execution_count": null,
   "metadata": {},
   "outputs": [],
   "source": [
    "n == 3 and n != 3"
   ]
  },
  {
   "cell_type": "code",
   "execution_count": null,
   "metadata": {},
   "outputs": [],
   "source": [
    "if n == 3:\n",
    "    print( \"Trzy\" )"
   ]
  },
  {
   "cell_type": "code",
   "execution_count": null,
   "metadata": {},
   "outputs": [],
   "source": [
    "if n == 4:\n",
    "    print (\"Cztery\")\n",
    "else:\n",
    "    print(\"To nie cztery\")"
   ]
  },
  {
   "cell_type": "code",
   "execution_count": null,
   "metadata": {},
   "outputs": [],
   "source": [
    "if n == 4:\n",
    "    print (\"Cztery\")\n",
    "elif n == 3:\n",
    "    print (\"Trzy\")\n",
    "else:\n",
    "    print(\"Ani trzy ani cztery\")"
   ]
  },
  {
   "cell_type": "markdown",
   "metadata": {},
   "source": [
    "## Listy"
   ]
  },
  {
   "cell_type": "code",
   "execution_count": null,
   "metadata": {},
   "outputs": [],
   "source": [
    "a = [3,5,6,7]\n",
    "a"
   ]
  },
  {
   "cell_type": "code",
   "execution_count": null,
   "metadata": {},
   "outputs": [],
   "source": [
    "a[1]"
   ]
  },
  {
   "cell_type": "code",
   "execution_count": null,
   "metadata": {},
   "outputs": [],
   "source": [
    "a[0]"
   ]
  },
  {
   "cell_type": "code",
   "execution_count": null,
   "metadata": {},
   "outputs": [],
   "source": [
    "a[0:2]"
   ]
  },
  {
   "cell_type": "code",
   "execution_count": null,
   "metadata": {},
   "outputs": [],
   "source": [
    "a[-1]"
   ]
  },
  {
   "cell_type": "code",
   "execution_count": null,
   "metadata": {},
   "outputs": [],
   "source": [
    "a[1:-1]"
   ]
  },
  {
   "cell_type": "raw",
   "metadata": {},
   "source": [
    "  0   1   2   3\n",
    "\n",
    "  |   |   |   |\n",
    "\n",
    "[ 4 , 5 , 6 , 7 ]\n",
    " \n",
    "  |   |   |   |\n",
    "\n",
    " -4  -3  -2  -1"
   ]
  },
  {
   "cell_type": "code",
   "execution_count": null,
   "metadata": {},
   "outputs": [],
   "source": [
    "a[-4]"
   ]
  },
  {
   "cell_type": "code",
   "execution_count": null,
   "metadata": {},
   "outputs": [],
   "source": [
    "a[:-1]"
   ]
  },
  {
   "cell_type": "code",
   "execution_count": null,
   "metadata": {},
   "outputs": [],
   "source": [
    "a[1:-1]+a[0:-1]"
   ]
  },
  {
   "cell_type": "code",
   "execution_count": null,
   "metadata": {},
   "outputs": [],
   "source": [
    "len(a)"
   ]
  },
  {
   "cell_type": "code",
   "execution_count": null,
   "metadata": {},
   "outputs": [],
   "source": [
    "for i in a:\n",
    "    print (i)\n",
    "    print(\".\")"
   ]
  },
  {
   "cell_type": "code",
   "execution_count": null,
   "metadata": {},
   "outputs": [],
   "source": [
    "for i in range(len(a)):\n",
    "    print(i)"
   ]
  },
  {
   "cell_type": "code",
   "execution_count": null,
   "metadata": {},
   "outputs": [],
   "source": [
    "for i in range(len(a)):\n",
    "    print(a[i])"
   ]
  },
  {
   "cell_type": "code",
   "execution_count": null,
   "metadata": {},
   "outputs": [],
   "source": [
    "a.append(8)\n",
    "a"
   ]
  },
  {
   "cell_type": "code",
   "execution_count": null,
   "metadata": {},
   "outputs": [],
   "source": [
    "a + a"
   ]
  },
  {
   "cell_type": "code",
   "execution_count": null,
   "metadata": {},
   "outputs": [],
   "source": [
    "a * 3"
   ]
  },
  {
   "cell_type": "code",
   "execution_count": null,
   "metadata": {},
   "outputs": [],
   "source": [
    "s"
   ]
  },
  {
   "cell_type": "code",
   "execution_count": null,
   "metadata": {},
   "outputs": [],
   "source": [
    "s[0]"
   ]
  },
  {
   "cell_type": "code",
   "execution_count": null,
   "metadata": {},
   "outputs": [],
   "source": [
    "\" - \".join( [\"Ala\", \"ma\", \"kota\"] )"
   ]
  },
  {
   "cell_type": "code",
   "execution_count": null,
   "metadata": {},
   "outputs": [],
   "source": [
    "\"\".join( [\"Ala\", \"ma\", \"kota\"] )"
   ]
  },
  {
   "cell_type": "code",
   "execution_count": null,
   "metadata": {},
   "outputs": [],
   "source": [
    "s2 = '.|.'"
   ]
  },
  {
   "cell_type": "code",
   "execution_count": null,
   "metadata": {},
   "outputs": [],
   "source": [
    "s2.join([\"Ala\", \"ma\", \"kota\"] )"
   ]
  },
  {
   "cell_type": "markdown",
   "metadata": {},
   "source": [
    "## Krotki (tuple)"
   ]
  },
  {
   "cell_type": "code",
   "execution_count": null,
   "metadata": {},
   "outputs": [],
   "source": [
    "t = (1, 2, 3, 4)\n",
    "t"
   ]
  },
  {
   "cell_type": "markdown",
   "metadata": {},
   "source": [
    "## Funkcje"
   ]
  },
  {
   "cell_type": "code",
   "execution_count": null,
   "metadata": {},
   "outputs": [],
   "source": [
    "def dodaj_2(x):\n",
    "    wynik = x + 2\n",
    "    return wynik"
   ]
  },
  {
   "cell_type": "code",
   "execution_count": null,
   "metadata": {},
   "outputs": [],
   "source": [
    "dodaj_2(5)"
   ]
  },
  {
   "cell_type": "code",
   "execution_count": null,
   "metadata": {},
   "outputs": [],
   "source": [
    "def is_odd(x):\n",
    "    print (\"*\" * x)\n",
    "    return (x % 2) == 1"
   ]
  },
  {
   "cell_type": "code",
   "execution_count": null,
   "metadata": {},
   "outputs": [],
   "source": [
    "is_odd(25)"
   ]
  },
  {
   "cell_type": "code",
   "execution_count": null,
   "metadata": {},
   "outputs": [],
   "source": [
    "is_odd(8)"
   ]
  },
  {
   "cell_type": "code",
   "execution_count": null,
   "metadata": {},
   "outputs": [],
   "source": [
    "def slownie(n):\n",
    "    jednosci = { 0: \"zero\", 1: \"jeden\", 2: \"dwa\", 3: \"trzy\", 4: \"cztery\", 5: \"pięć\", 6: \"sześć\", 7: \"siedem\", 8: \"osiem\", 9: \"dziewięć\"}\n",
    "    return jednosci[n]"
   ]
  },
  {
   "cell_type": "code",
   "execution_count": null,
   "metadata": {},
   "outputs": [],
   "source": [
    "slownie(6)"
   ]
  },
  {
   "cell_type": "code",
   "execution_count": null,
   "metadata": {},
   "outputs": [],
   "source": [
    "def dodaj_2_slownie(n):\n",
    "    wynik = dodaj_2(n)\n",
    "    return slownie(wynik)"
   ]
  },
  {
   "cell_type": "code",
   "execution_count": null,
   "metadata": {},
   "outputs": [],
   "source": [
    "dodaj_2_slownie(4)"
   ]
  },
  {
   "cell_type": "markdown",
   "metadata": {},
   "source": [
    "## Słowniki (dict)"
   ]
  },
  {
   "cell_type": "code",
   "execution_count": null,
   "metadata": {},
   "outputs": [],
   "source": [
    "m = { 'a': 1, 'b': 2 }"
   ]
  },
  {
   "cell_type": "code",
   "execution_count": null,
   "metadata": {},
   "outputs": [],
   "source": [
    "m.keys()"
   ]
  },
  {
   "cell_type": "code",
   "execution_count": null,
   "metadata": {},
   "outputs": [],
   "source": [
    "m.values()"
   ]
  },
  {
   "cell_type": "code",
   "execution_count": null,
   "metadata": {},
   "outputs": [],
   "source": [
    "m['a']"
   ]
  },
  {
   "cell_type": "code",
   "execution_count": null,
   "metadata": {},
   "outputs": [],
   "source": [
    "m['c']"
   ]
  },
  {
   "cell_type": "code",
   "execution_count": null,
   "metadata": {},
   "outputs": [],
   "source": [
    "m.get('c', 0)"
   ]
  },
  {
   "cell_type": "code",
   "execution_count": null,
   "metadata": {},
   "outputs": [],
   "source": [
    "m = dict( [(\"a\", 1), (\"b\", 2)] )"
   ]
  },
  {
   "cell_type": "code",
   "execution_count": null,
   "metadata": {},
   "outputs": [],
   "source": [
    "m"
   ]
  },
  {
   "cell_type": "code",
   "execution_count": null,
   "metadata": {},
   "outputs": [],
   "source": [
    "l = [ \"a\", \"a\", \"a\" ]\n",
    "l"
   ]
  },
  {
   "cell_type": "code",
   "execution_count": null,
   "metadata": {},
   "outputs": [],
   "source": [
    "list(zip( range(len(l)),l ))"
   ]
  },
  {
   "cell_type": "code",
   "execution_count": null,
   "metadata": {},
   "outputs": [],
   "source": [
    "li = list(range(len(l)))\n",
    "li"
   ]
  },
  {
   "cell_type": "code",
   "execution_count": null,
   "metadata": {},
   "outputs": [],
   "source": [
    "l"
   ]
  },
  {
   "cell_type": "code",
   "execution_count": null,
   "metadata": {},
   "outputs": [],
   "source": [
    "list(zip(li, l))"
   ]
  },
  {
   "cell_type": "code",
   "execution_count": null,
   "metadata": {},
   "outputs": [],
   "source": [
    "m = dict(zip( range(len(l)), l))\n",
    "m"
   ]
  },
  {
   "cell_type": "code",
   "execution_count": null,
   "metadata": {},
   "outputs": [],
   "source": [
    "for k in m.keys():\n",
    "    print (k, m[k])"
   ]
  },
  {
   "cell_type": "code",
   "execution_count": null,
   "metadata": {},
   "outputs": [],
   "source": [
    "for k in m:\n",
    "    print( k, m[k])"
   ]
  },
  {
   "cell_type": "code",
   "execution_count": null,
   "metadata": {},
   "outputs": [],
   "source": [
    "{ (1,2): \"a\", (1,2,3): \"b\"}"
   ]
  },
  {
   "cell_type": "code",
   "execution_count": null,
   "metadata": {},
   "outputs": [],
   "source": [
    "{ [1,2]: \"a\", [1,2,3]: \"b\"}"
   ]
  },
  {
   "cell_type": "code",
   "execution_count": null,
   "metadata": {},
   "outputs": [],
   "source": [
    "list(range(12))"
   ]
  },
  {
   "cell_type": "code",
   "execution_count": null,
   "metadata": {},
   "outputs": [],
   "source": [
    "l = [\"a\"] * 7\n",
    "l"
   ]
  },
  {
   "cell_type": "code",
   "execution_count": null,
   "metadata": {},
   "outputs": [],
   "source": [
    "li = list(range(7))\n",
    "li"
   ]
  },
  {
   "cell_type": "code",
   "execution_count": null,
   "metadata": {},
   "outputs": [],
   "source": [
    "list(zip(li,l))"
   ]
  },
  {
   "cell_type": "code",
   "execution_count": null,
   "metadata": {},
   "outputs": [],
   "source": [
    "len(l)"
   ]
  },
  {
   "cell_type": "markdown",
   "metadata": {},
   "source": [
    "---\n",
    "## Zadanie 1 - łatwe"
   ]
  },
  {
   "cell_type": "raw",
   "metadata": {},
   "source": [
    "Napisać funkcję co policzy ilość wystąpień na liście\n",
    "\n",
    "Przykład:\n",
    "zlicz( [1, 2, 3, 4, 1, 2, 1] )\n",
    "\n",
    "{ 1: 3, 2: 2, 3: 1, 4: 1 }"
   ]
  },
  {
   "cell_type": "markdown",
   "metadata": {},
   "source": [
    "## Zadanie 2 - średnie"
   ]
  },
  {
   "cell_type": "raw",
   "metadata": {},
   "source": [
    "\n",
    "Napisać funkcję co wypisze choinkę o odpowiedniej wysokości\n",
    "\n",
    "Przykład:\n",
    "choinka(7)\n",
    "\n",
    "       *\n",
    "      ***\n",
    "     *****\n",
    "    *******\n",
    "   *********\n",
    "  ***********\n",
    " *************\n",
    "       *\n",
    "      ***\n",
    "\n",
    "choinka(4)\n",
    "        \n",
    "    *\n",
    "   ***\n",
    "  *****\n",
    " *******\n",
    "    *\n",
    "   ***\n",
    "\n"
   ]
  },
  {
   "cell_type": "markdown",
   "metadata": {},
   "source": [
    "## Zadanie 3 - trudne"
   ]
  },
  {
   "cell_type": "raw",
   "metadata": {},
   "source": [
    "\n",
    "Napisać funkcję co wypiszę liczbę naturalną słownie dla liczb od 0 do 999999.\n",
    "\n",
    "slownie(1984)\n",
    "'tysiąc dziewięćset osiemdziesiąt cztery'\n",
    "\n",
    "Wskazówki: \n",
    "- podzielić na wiele prostych funkcji \n",
    "- skorzystać z dzielenia całkowitego (//) i modulo (%)\n",
    "- \"if-else\"\n"
   ]
  },
  {
   "cell_type": "markdown",
   "metadata": {},
   "source": [
    "# Literatura (darmowe wersje online)"
   ]
  },
  {
   "cell_type": "markdown",
   "metadata": {},
   "source": [
    "## Książki wprowadzające\n",
    "- [Python 101](http://python101.pythonlibrary.org/) – pierwsze 10 rozdziałów wystarczy by zacząc efektywnie pracować z Pythonem\n",
    "- [Automate the Boring Stuff with Python](https://automatetheboringstuff.com/) – bardzo praktyczne podejście do Pythona. Gorąco polecam.\n",
    "- [Python Docs](https://docs.python.org/3/) – Dokumentacja do Pythona\n",
    "\n",
    "## Książki dla osób z pewnym doświadczeniem\n",
    "- [Python Data Science Handbook](https://jakevdp.github.io/PythonDataScienceHandbook/) – Prawie wszystko co może potrzebować data scientist do pracy\n",
    "- [Dive into Python](https://diveintopython3.problemsolving.io/) –  Świetna książka do Pythona\n",
    "    - [Zanurkuj w Pythonie](https://pl.wikibooks.org/wiki/Zanurkuj_w_Pythonie) – Polska wersja\n",
    "- [Think Bayes](https://greenteapress.com/wp/think-bayes/) – Wprowadzenie do statystyki Bayesowskiej\n",
    "- [Think Stats](https://greenteapress.com/wp/think-stats-2e/) – Wprowadzenie do statystyki Bayesowskiej\n",
    "- [Natural Language Processing in Python](https://www.nltk.org/book/) – wprowadzenie do przetwarzania języka naturalnego w Pythonie\n",
    "\n",
    "## Zaawansowane tematy\n",
    "- [The Elements of Statistical Learning](https://web.stanford.edu/~hastie/Papers/ESLII.pdf) – prawdopodobnie najbardziej wyczerpująca książka o Machine Learning\n",
    "- [Foundations of Statistical NLP](https://nlp.stanford.edu/fsnlp/) – książka o statystycznym przetwarzaniu języka naturalnego\n",
    "- [Introduction to Information Retrieval](https://nlp.stanford.edu/IR-book/) – Podstawy formalne ekstrakcji informacji  \n",
    "\n",
    "## Polecane lektury\n",
    "- [Peter Norvig - The Unreasonable Effectiveness of Data](https://static.googleusercontent.com/media/research.google.com/en//pubs/archive/35179.pdf)\n",
    "- [Andrew Ng – Machine Learning Yearning](https://www.deeplearning.ai/machine-learning-yearning/)\n",
    "- [Tidy Data](https://vita.had.co.nz/papers/tidy-data.pdf) - Klasyczny artykuł o tym jak doprowadzić dane do najlepszej postaci pod kątem analiz\n"
   ]
  }
 ],
 "metadata": {
  "kernelspec": {
   "display_name": "Python 3",
   "language": "python",
   "name": "python3"
  },
  "language_info": {
   "codemirror_mode": {
    "name": "ipython",
    "version": 3
   },
   "file_extension": ".py",
   "mimetype": "text/x-python",
   "name": "python",
   "nbconvert_exporter": "python",
   "pygments_lexer": "ipython3",
   "version": "3.7.5"
  },
  "widgets": {
   "application/vnd.jupyter.widget-state+json": {
    "state": {},
    "version_major": 2,
    "version_minor": 0
   }
  }
 },
 "nbformat": 4,
 "nbformat_minor": 4
}
