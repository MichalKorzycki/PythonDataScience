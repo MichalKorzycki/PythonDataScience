{
 "cells": [
  {
   "cell_type": "markdown",
   "metadata": {},
   "source": [
    "# Warsztaty Python w Data Science\n",
    "\n",
    "---\n",
    "## Data Wrangling z Biblioteką Pandas \n",
    "### Część 3 z 3 - Tidy Data"
   ]
  },
  {
   "cell_type": "markdown",
   "metadata": {},
   "source": [
    "[Hadley Wickham - **Tidy Data**](https://www.jstatsoft.org/index.php/jss/article/view/v059i10/v59i10.pdf)\n",
    "\n",
    "\n",
    "[Wikipedia - Tidy Data](https://en.wikipedia.org/wiki/Tidy_data)  \n",
    "\n"
   ]
  },
  {
   "cell_type": "markdown",
   "metadata": {},
   "source": [
    "---\n",
    "\n",
    "### Zadanie 2\n",
    "\n",
    "Do poniższego DataFrame:\n",
    "    \n",
    "`df = pd.DataFrame(np.random.randint(1,100, 80).reshape(8, 10))`\n",
    "\n",
    "Dołożyć:\n",
    "    \n",
    "- kolumnę z sumą po wierszach\n",
    "- wiersz z sumą po kolumnach"
   ]
  },
  {
   "cell_type": "code",
   "execution_count": null,
   "metadata": {},
   "outputs": [],
   "source": [
    "import pandas as pd\n",
    "import numpy as np\n",
    "\n",
    "df = pd.DataFrame(np.random.randint(1,100, 80).reshape(8, 10))"
   ]
  },
  {
   "cell_type": "code",
   "execution_count": null,
   "metadata": {},
   "outputs": [],
   "source": [
    "df"
   ]
  },
  {
   "cell_type": "code",
   "execution_count": null,
   "metadata": {},
   "outputs": [],
   "source": [
    "def sumy(df):\n",
    "    df['Total'] = df.sum(axis=1)\n",
    "    i, j = df.shape\n",
    "    df.loc[i+1] = df.sum(axis=0)\n",
    "    return df\n",
    "\n",
    "sumy(df)"
   ]
  },
  {
   "cell_type": "markdown",
   "metadata": {},
   "source": [
    "#### Zadanie 3\n",
    "\n",
    "Przerobic DataFrame:"
   ]
  },
  {
   "cell_type": "code",
   "execution_count": null,
   "metadata": {},
   "outputs": [],
   "source": [
    "data = {'weekday': [\"Monday\", \"Tuesday\", \"Wednesday\", \n",
    "         \"Thursday\", \"Friday\", \"Saturday\", \"Sunday\"],\n",
    "        'Person 1': [12, 6, 5, 8, 11, 6, 4],\n",
    "        'Person 2': [10, 6, 11, 5, 8, 9, 12],\n",
    "        'Person 3': [8, 5, 7, 3, 7, 11, 15]}\n",
    "df = pd.DataFrame(data, columns=['weekday',\n",
    "        'Person 1', 'Person 2', 'Person 3'])"
   ]
  },
  {
   "cell_type": "code",
   "execution_count": null,
   "metadata": {},
   "outputs": [],
   "source": [
    "df"
   ]
  },
  {
   "cell_type": "markdown",
   "metadata": {},
   "source": [
    "Na postać \"tidy\" (1 wiersz na ocenę)"
   ]
  },
  {
   "cell_type": "code",
   "execution_count": null,
   "metadata": {},
   "outputs": [],
   "source": [
    "melted = pd.melt(df, id_vars=[\"weekday\"], \n",
    "                 var_name=\"Person\", value_name=\"Score\")\n",
    "melted"
   ]
  },
  {
   "cell_type": "markdown",
   "metadata": {},
   "source": [
    "#### Zadanie 4\n",
    "\n",
    "Biorąc następujący DataFrame:"
   ]
  },
  {
   "cell_type": "code",
   "execution_count": null,
   "metadata": {},
   "outputs": [],
   "source": [
    "df = pd.DataFrame(data = {\n",
    "    'Day' : ['MON', 'TUE', 'WED', 'THU', 'FRI'], \n",
    "    'Google' : [1129,1132,1134,1152,1152], \n",
    "    'Apple' : [191,192,190,190,188] \n",
    "})\n",
    "df"
   ]
  },
  {
   "cell_type": "code",
   "execution_count": null,
   "metadata": {},
   "outputs": [],
   "source": [
    "reshaped_df = df.melt(id_vars=['Day'], var_name='Company', value_name='Closing Price')\n",
    "reshaped_df"
   ]
  },
  {
   "cell_type": "markdown",
   "metadata": {},
   "source": [
    "Stworzyć korzystając z `reshaped_df` przy uzyciu `pivot` DataFrame identyczny z `df`"
   ]
  },
  {
   "cell_type": "code",
   "execution_count": null,
   "metadata": {},
   "outputs": [],
   "source": [
    "original_df = reshaped_df.pivot(index='Day', columns='Company')['Closing Price'].reset_index()\n",
    "original_df.columns.name = None\n",
    "original_df"
   ]
  },
  {
   "cell_type": "markdown",
   "metadata": {},
   "source": [
    "---\n",
    "## Grupowanie "
   ]
  },
  {
   "cell_type": "code",
   "execution_count": null,
   "metadata": {},
   "outputs": [],
   "source": [
    "import numpy as np\n",
    "\n",
    "df = pd.DataFrame({'value': np.random.randint(0, 100, 20)})\n",
    "df"
   ]
  },
  {
   "cell_type": "code",
   "execution_count": null,
   "metadata": {},
   "outputs": [],
   "source": [
    "labels = [\"{0} - {1}\".format(i, i + 9) for i in range(0, 100, 10)]\n",
    "labels"
   ]
  },
  {
   "cell_type": "code",
   "execution_count": null,
   "metadata": {},
   "outputs": [],
   "source": [
    "pd.cut(df.value, range(0, 105, 10), right=False)"
   ]
  },
  {
   "cell_type": "code",
   "execution_count": null,
   "metadata": {},
   "outputs": [],
   "source": [
    "pd.cut(df.value, range(0, 105, 10), right=False, labels=labels)"
   ]
  },
  {
   "cell_type": "code",
   "execution_count": null,
   "metadata": {},
   "outputs": [],
   "source": [
    "df['Group'] = pd.cut(df.value, range(0, 105, 10), right=False, labels=labels)\n",
    "df"
   ]
  },
  {
   "cell_type": "code",
   "execution_count": null,
   "metadata": {},
   "outputs": [],
   "source": [
    "df.groupby('Group').count()"
   ]
  },
  {
   "cell_type": "code",
   "execution_count": null,
   "metadata": {},
   "outputs": [],
   "source": [
    "df.groupby('Group').sum()"
   ]
  },
  {
   "cell_type": "code",
   "execution_count": null,
   "metadata": {},
   "outputs": [],
   "source": [
    "df.groupby('Group').agg({'value': ['count', sum]})"
   ]
  },
  {
   "cell_type": "code",
   "execution_count": null,
   "metadata": {},
   "outputs": [],
   "source": [
    "import functools\n",
    "\n",
    "def test_sum(series):\n",
    "       return functools.reduce(lambda x, y: x + y, series, 0)\n",
    "\n",
    "test_sum(range(10))"
   ]
  },
  {
   "cell_type": "code",
   "execution_count": null,
   "metadata": {},
   "outputs": [],
   "source": [
    "df.groupby('Group').agg({'value': ['count', test_sum]})"
   ]
  },
  {
   "cell_type": "markdown",
   "metadata": {},
   "source": [
    "#### Zadanie 1\n",
    "\n",
    "Napraw `df_e` biorąc maksimum wartości `baz` dla pary `foo`, `bar` (odrzuć konflikty)"
   ]
  },
  {
   "cell_type": "code",
   "execution_count": null,
   "metadata": {},
   "outputs": [],
   "source": [
    "df_e = pd.DataFrame({\"foo\": ['one', 'one', 'two', 'two'],\n",
    "                   \"bar\": ['A', 'A', 'B', 'C'],\n",
    "                   \"baz\": [1, 2, 3, 4]})"
   ]
  },
  {
   "cell_type": "code",
   "execution_count": null,
   "metadata": {},
   "outputs": [],
   "source": [
    "df_e"
   ]
  },
  {
   "cell_type": "code",
   "execution_count": null,
   "metadata": {},
   "outputs": [],
   "source": [
    "df_e.groupby(['foo','bar']).aggregate('max')"
   ]
  },
  {
   "cell_type": "code",
   "execution_count": null,
   "metadata": {},
   "outputs": [],
   "source": [
    "df_e.groupby(['foo','bar']).aggregate('max').reset_index()"
   ]
  },
  {
   "cell_type": "markdown",
   "metadata": {},
   "source": [
    "---\n",
    "## Tidy Data\n",
    "### Pamiętajmy o podstawowych zasadach:  \n",
    "1. Każda zmienna tworzy kolumnę.\n",
    "2. Każda obserwacja stanowi wiersz.\n",
    "3. Dane w jednej kolumnie są przechowywane w jednym formacie."
   ]
  },
  {
   "cell_type": "code",
   "execution_count": null,
   "metadata": {},
   "outputs": [],
   "source": [
    "url1 = 'https://s3.amazonaws.com/assets.datacamp.com/production/course_1273/datasets/df1.csv'\n",
    "url2 = 'https://s3.amazonaws.com/assets.datacamp.com/production/course_1273/datasets/df2.csv'\n",
    "\n",
    "df1 = pd.read_csv(url1, sep = ',')\n",
    "df2 = pd.read_csv(url2, sep = ',')"
   ]
  },
  {
   "cell_type": "markdown",
   "metadata": {},
   "source": [
    "#### Jakie zasady nie spełniają załadowane tabele?"
   ]
  },
  {
   "cell_type": "code",
   "execution_count": null,
   "metadata": {},
   "outputs": [],
   "source": [
    "df1"
   ]
  },
  {
   "cell_type": "code",
   "execution_count": null,
   "metadata": {},
   "outputs": [],
   "source": [
    "df2"
   ]
  },
  {
   "cell_type": "markdown",
   "metadata": {},
   "source": [
    "\n",
    "df2 --> reguła 2  \n",
    "Obserwujemy coś w jakimś momencie, dlatego czasowe dane nie mogą stanowić nagłówków.\n",
    "\n"
   ]
  },
  {
   "cell_type": "markdown",
   "metadata": {},
   "source": [
    "#### Zrób dane bardziej 'tidy'"
   ]
  },
  {
   "cell_type": "code",
   "execution_count": null,
   "metadata": {},
   "outputs": [],
   "source": [
    "df2_melted = pd.melt(df2, id_vars=['Country'])\n",
    "df2_melted"
   ]
  },
  {
   "cell_type": "markdown",
   "metadata": {},
   "source": [
    "#### Metoda 'split'"
   ]
  },
  {
   "cell_type": "code",
   "execution_count": null,
   "metadata": {},
   "outputs": [],
   "source": [
    "df1.columns"
   ]
  },
  {
   "cell_type": "code",
   "execution_count": null,
   "metadata": {},
   "outputs": [],
   "source": [
    "columns = [c if c != 'owner' else 'name' for c in df1.columns]\n",
    "columns"
   ]
  },
  {
   "cell_type": "code",
   "execution_count": null,
   "metadata": {},
   "outputs": [],
   "source": [
    "df1['surnames'] = ['Escobar', 'Potter', 'Connor']\n",
    "df1"
   ]
  },
  {
   "cell_type": "code",
   "execution_count": null,
   "metadata": {},
   "outputs": [],
   "source": [
    "df1['full name'] = df1.owner + ' ' + df1.surnames\n",
    "df1 = df1.drop(['owner', 'surnames'], axis=1)\n",
    "df1"
   ]
  },
  {
   "cell_type": "code",
   "execution_count": null,
   "metadata": {},
   "outputs": [],
   "source": [
    "'Jason Escobar'.split()"
   ]
  },
  {
   "cell_type": "code",
   "execution_count": null,
   "metadata": {},
   "outputs": [],
   "source": [
    "# error\n",
    "df1['name'] = df1['full name'].split(' ')"
   ]
  },
  {
   "cell_type": "code",
   "execution_count": null,
   "metadata": {},
   "outputs": [],
   "source": [
    "def f(x):\n",
    "    return x.split()"
   ]
  },
  {
   "cell_type": "code",
   "execution_count": null,
   "metadata": {},
   "outputs": [],
   "source": [
    "df1['name'] = df1['full name'].apply(f)\n",
    "df1"
   ]
  },
  {
   "cell_type": "markdown",
   "metadata": {},
   "source": [
    "## Lambda"
   ]
  },
  {
   "cell_type": "code",
   "execution_count": null,
   "metadata": {},
   "outputs": [],
   "source": [
    "df1['name'] = df1['full name'].apply(lambda x: x.split(' '))\n",
    "df1"
   ]
  },
  {
   "cell_type": "code",
   "execution_count": null,
   "metadata": {},
   "outputs": [],
   "source": [
    "df1['name'] = df1['full name'].apply(lambda x: x.split(' ')[0])\n",
    "df1"
   ]
  },
  {
   "cell_type": "code",
   "execution_count": null,
   "metadata": {},
   "outputs": [],
   "source": [
    "df2_tidy = df2_melted.rename(columns = {'variable': 'Year', 'value': 'Income'})\n",
    "df2_tidy"
   ]
  },
  {
   "cell_type": "code",
   "execution_count": null,
   "metadata": {},
   "outputs": [],
   "source": [
    "df2_melted"
   ]
  },
  {
   "cell_type": "code",
   "execution_count": null,
   "metadata": {},
   "outputs": [],
   "source": [
    "df2_melted.rename(columns = {'variable': 'Year', 'value': 'Income'}, inplace=True)\n",
    "df2_melted"
   ]
  },
  {
   "cell_type": "markdown",
   "metadata": {},
   "source": [
    "#### Formatowanie"
   ]
  },
  {
   "cell_type": "code",
   "execution_count": null,
   "metadata": {
    "scrolled": true
   },
   "outputs": [],
   "source": [
    "df2_melted.dtypes"
   ]
  },
  {
   "cell_type": "code",
   "execution_count": null,
   "metadata": {},
   "outputs": [],
   "source": [
    "df2_melted['Year'] = df2_melted['Year'].apply(lambda x: x[1:5])\n",
    "df2_melted"
   ]
  },
  {
   "cell_type": "code",
   "execution_count": null,
   "metadata": {},
   "outputs": [],
   "source": [
    "df2_melted['Year'].apply(pd.to_numeric)"
   ]
  },
  {
   "cell_type": "code",
   "execution_count": null,
   "metadata": {},
   "outputs": [],
   "source": [
    "df2_melted['Year'].astype('int64')\n",
    "df2_melted"
   ]
  },
  {
   "cell_type": "markdown",
   "metadata": {},
   "source": [
    "### Więcej zabawy z danymi"
   ]
  },
  {
   "cell_type": "code",
   "execution_count": null,
   "metadata": {},
   "outputs": [],
   "source": [
    "messy = pd.DataFrame({'First' : ['John', 'Jane', 'Mary'], \n",
    "                      'Last' : ['Smith', 'Doe', 'Johnson'], \n",
    "                      'Treatment A' : [np.nan, 16, 3], \n",
    "                      'Treatment B' : [2, 11, 1]})\n",
    "messy"
   ]
  },
  {
   "cell_type": "code",
   "execution_count": null,
   "metadata": {},
   "outputs": [],
   "source": [
    "messy.transpose()"
   ]
  },
  {
   "cell_type": "code",
   "execution_count": null,
   "metadata": {},
   "outputs": [],
   "source": [
    "messy.T"
   ]
  },
  {
   "cell_type": "code",
   "execution_count": null,
   "metadata": {},
   "outputs": [],
   "source": [
    "tidy = pd.melt(messy, \n",
    "               id_vars=['First','Last'], \n",
    "               var_name='treatment', \n",
    "               value_name='result')\n",
    "tidy"
   ]
  },
  {
   "cell_type": "code",
   "execution_count": null,
   "metadata": {},
   "outputs": [],
   "source": [
    "tidy['Name'] = tidy['First'] + ' ' + tidy['Last']"
   ]
  },
  {
   "cell_type": "code",
   "execution_count": null,
   "metadata": {},
   "outputs": [],
   "source": [
    "messy1 = tidy.pivot(index='Name',columns='treatment',values='result')\n",
    "messy1"
   ]
  },
  {
   "cell_type": "code",
   "execution_count": null,
   "metadata": {},
   "outputs": [],
   "source": [
    "messy1.index"
   ]
  },
  {
   "cell_type": "code",
   "execution_count": null,
   "metadata": {},
   "outputs": [],
   "source": [
    "messy1.reset_index(inplace=True)\n",
    "messy1"
   ]
  },
  {
   "cell_type": "markdown",
   "metadata": {},
   "source": [
    "#### Braki danych"
   ]
  },
  {
   "cell_type": "code",
   "execution_count": null,
   "metadata": {},
   "outputs": [],
   "source": [
    "missing_f = pd.DataFrame([[1,1,1,1,2,2,2,2],[1,np.nan,np.nan,np.nan,2,np.nan,np.nan,np.nan]])\n",
    "missing_b = pd.DataFrame([[1,1,1,1,2,2,2,2],[np.nan,np.nan,np.nan,1,np.nan,np.nan,np.nan,2]])\n",
    "display(missing_f)"
   ]
  },
  {
   "cell_type": "code",
   "execution_count": null,
   "metadata": {},
   "outputs": [],
   "source": [
    "missing_f.T"
   ]
  },
  {
   "cell_type": "code",
   "execution_count": null,
   "metadata": {},
   "outputs": [],
   "source": [
    "missing_f.T.fillna(method='ffill')"
   ]
  },
  {
   "cell_type": "markdown",
   "metadata": {},
   "source": [
    "##### Uzupełnić braki w missing_b metodą 'bfill'"
   ]
  },
  {
   "cell_type": "code",
   "execution_count": null,
   "metadata": {},
   "outputs": [],
   "source": [
    "missing_b.T"
   ]
  },
  {
   "cell_type": "code",
   "execution_count": null,
   "metadata": {},
   "outputs": [],
   "source": [
    "missing_b.T.fillna(method='bfill')"
   ]
  },
  {
   "cell_type": "markdown",
   "metadata": {},
   "source": [
    "---"
   ]
  },
  {
   "cell_type": "code",
   "execution_count": null,
   "metadata": {},
   "outputs": [],
   "source": [
    "pd.read_excel('data/Matma1.xlsx', index_col=0)"
   ]
  },
  {
   "cell_type": "markdown",
   "metadata": {},
   "source": [
    "`conda install xlrd`"
   ]
  },
  {
   "cell_type": "markdown",
   "metadata": {},
   "source": [
    "#### Zadanie 1. Przedstaw sprawozdanie z ankiety studenckiej\n",
    "- Wyczyść w/w dane (doprowadź do postaci Tidy; prawdopodobnie rozbijając na kilka zbiorów danych)\n",
    "- Przedstaw wnioski z ankiety - \"Dlaczego wybrałeś studia w SGH?\", który wykład był najciekawszy itd. itd."
   ]
  }
 ],
 "metadata": {
  "kernelspec": {
   "display_name": "Python 3",
   "language": "python",
   "name": "python3"
  },
  "language_info": {
   "codemirror_mode": {
    "name": "ipython",
    "version": 3
   },
   "file_extension": ".py",
   "mimetype": "text/x-python",
   "name": "python",
   "nbconvert_exporter": "python",
   "pygments_lexer": "ipython3",
   "version": "3.7.5"
  }
 },
 "nbformat": 4,
 "nbformat_minor": 4
}
