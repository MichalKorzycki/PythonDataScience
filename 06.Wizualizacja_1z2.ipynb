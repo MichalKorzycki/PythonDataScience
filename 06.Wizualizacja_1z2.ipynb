{
 "cells": [
  {
   "cell_type": "markdown",
   "metadata": {},
   "source": [
    "# Warsztaty Python w Data Science\n",
    "\n",
    "---\n",
    "## Wizualizacja danych\n",
    "### Część 1 z 2 \n",
    "\n",
    "- Wykresy w matplotlib\n",
    "- Matplotlib a pandas\n",
    "- Mapy - Dane Geograficzne \n",
    "- Facetting - różne wizualizacje dla _*1*_ zbioru danych\n",
    "---\n",
    "#### Zadanie 1. Przedstaw sprawozdanie z ankiety studenckiej\n",
    "- Wyczyść w/w dane (doprowadź do postaci Tidy; prawdopodobnie rozbijając na kilka zbiorów danych)\n",
    "- Przedstaw wnioski z ankiety - \"Dlaczego wybrałeś studia w SGH?\", który wykład był najciekawszy itd. itd."
   ]
  },
  {
   "cell_type": "code",
   "execution_count": null,
   "metadata": {},
   "outputs": [],
   "source": [
    "import xlrd\n",
    "import pandas as pd\n",
    "df = pd.read_excel('data\\Matma1.xlsx', index_col=0)"
   ]
  },
  {
   "cell_type": "code",
   "execution_count": null,
   "metadata": {},
   "outputs": [],
   "source": [
    "df.head()"
   ]
  },
  {
   "cell_type": "code",
   "execution_count": null,
   "metadata": {},
   "outputs": [],
   "source": [
    "df.reset_index(inplace=True)\n",
    "df"
   ]
  },
  {
   "cell_type": "code",
   "execution_count": null,
   "metadata": {},
   "outputs": [],
   "source": [
    "df = df.dropna(axis=1, how='all', thresh=None, subset=None, inplace=False)"
   ]
  },
  {
   "cell_type": "code",
   "execution_count": null,
   "metadata": {},
   "outputs": [],
   "source": [
    "students = df.iloc[:,0:24]"
   ]
  },
  {
   "cell_type": "code",
   "execution_count": null,
   "metadata": {},
   "outputs": [],
   "source": [
    "students.head()"
   ]
  },
  {
   "cell_type": "code",
   "execution_count": null,
   "metadata": {},
   "outputs": [],
   "source": [
    "opinions1 = df.iloc[:,[21]]"
   ]
  },
  {
   "cell_type": "code",
   "execution_count": null,
   "metadata": {},
   "outputs": [],
   "source": [
    "opinions1"
   ]
  },
  {
   "cell_type": "code",
   "execution_count": null,
   "metadata": {},
   "outputs": [],
   "source": [
    "opinions2 = df.iloc[:,36:]"
   ]
  },
  {
   "cell_type": "code",
   "execution_count": null,
   "metadata": {},
   "outputs": [],
   "source": [
    "opinions2.head()"
   ]
  },
  {
   "cell_type": "code",
   "execution_count": null,
   "metadata": {},
   "outputs": [],
   "source": [
    "opinions = pd.concat([opinions1, opinions2], axis=1)"
   ]
  },
  {
   "cell_type": "code",
   "execution_count": null,
   "metadata": {},
   "outputs": [],
   "source": [
    "opinions"
   ]
  },
  {
   "cell_type": "code",
   "execution_count": null,
   "metadata": {},
   "outputs": [],
   "source": [
    "naglowki = list(opinions.columns)\n",
    "naglowki"
   ]
  },
  {
   "cell_type": "code",
   "execution_count": null,
   "metadata": {},
   "outputs": [],
   "source": [
    "opinions.columns"
   ]
  },
  {
   "cell_type": "code",
   "execution_count": null,
   "metadata": {},
   "outputs": [],
   "source": [
    "naglowki[0] = \"Wykladowca\""
   ]
  },
  {
   "cell_type": "code",
   "execution_count": null,
   "metadata": {},
   "outputs": [],
   "source": [
    "opinions.columns=naglowki\n",
    "opinions"
   ]
  },
  {
   "cell_type": "code",
   "execution_count": null,
   "metadata": {},
   "outputs": [],
   "source": [
    "long_opinions = pd.melt(opinions,id_vars=['Wykladowca'],var_name=\"oldcolumn\")"
   ]
  },
  {
   "cell_type": "code",
   "execution_count": null,
   "metadata": {},
   "outputs": [],
   "source": [
    "long_opinions"
   ]
  },
  {
   "cell_type": "code",
   "execution_count": null,
   "metadata": {},
   "outputs": [],
   "source": [
    "long_opinions.drop([\"oldcolumn\"], axis=1,inplace=True)"
   ]
  },
  {
   "cell_type": "code",
   "execution_count": null,
   "metadata": {},
   "outputs": [],
   "source": [
    "long_opinions"
   ]
  },
  {
   "cell_type": "code",
   "execution_count": null,
   "metadata": {},
   "outputs": [],
   "source": [
    "long_opinions.dropna(how='any', axis=0, inplace=True)"
   ]
  },
  {
   "cell_type": "code",
   "execution_count": null,
   "metadata": {},
   "outputs": [],
   "source": [
    "long_opinions"
   ]
  },
  {
   "cell_type": "code",
   "execution_count": null,
   "metadata": {},
   "outputs": [],
   "source": [
    "long_opinions.groupby(\"Wykladowca\").count()"
   ]
  },
  {
   "cell_type": "code",
   "execution_count": null,
   "metadata": {},
   "outputs": [],
   "source": [
    "long_opinions.groupby(\"value\").count().sort_values(by = 'Wykladowca', ascending=False)"
   ]
  },
  {
   "cell_type": "code",
   "execution_count": null,
   "metadata": {},
   "outputs": [],
   "source": [
    "long_opinions.groupby(['Wykladowca','value']).count()"
   ]
  },
  {
   "cell_type": "code",
   "execution_count": null,
   "metadata": {},
   "outputs": [],
   "source": [
    "long_opinions['cnt']=1"
   ]
  },
  {
   "cell_type": "code",
   "execution_count": null,
   "metadata": {},
   "outputs": [],
   "source": [
    "long_opinions"
   ]
  },
  {
   "cell_type": "code",
   "execution_count": null,
   "metadata": {},
   "outputs": [],
   "source": [
    "long_opinions.groupby(['Wykladowca','value']).count()"
   ]
  },
  {
   "cell_type": "markdown",
   "metadata": {},
   "source": [
    "---"
   ]
  },
  {
   "cell_type": "markdown",
   "metadata": {},
   "source": [
    "#  Matplotlib"
   ]
  },
  {
   "cell_type": "code",
   "execution_count": null,
   "metadata": {},
   "outputs": [],
   "source": [
    "%matplotlib inline\n",
    "import matplotlib.pyplot as plt"
   ]
  },
  {
   "cell_type": "code",
   "execution_count": null,
   "metadata": {},
   "outputs": [],
   "source": [
    "import numpy as np\n",
    "plt.style.use(\"classic\")\n",
    "x = np.linspace(0, 10, 100)\n",
    "\n",
    "fig = plt.figure()\n",
    "plt.plot(x, np.sin(x), '-')\n",
    "plt.plot(x, np.cos(x), '--');"
   ]
  },
  {
   "cell_type": "code",
   "execution_count": null,
   "metadata": {},
   "outputs": [],
   "source": [
    "import numpy as np\n",
    "plt.style.use(\"fivethirtyeight\")\n",
    "x = np.linspace(0, 10, 100)\n",
    "\n",
    "fig = plt.figure()\n",
    "plt.plot(x, np.sin(x), '-')\n",
    "plt.plot(x, np.cos(x), '--');"
   ]
  },
  {
   "cell_type": "code",
   "execution_count": null,
   "metadata": {},
   "outputs": [],
   "source": [
    "print(plt.style.available)"
   ]
  },
  {
   "cell_type": "code",
   "execution_count": null,
   "metadata": {},
   "outputs": [],
   "source": [
    "plt.style.use(\"dark_background\")\n",
    "plt.plot(x, x + 0, linestyle='solid')\n",
    "plt.plot(x, x + 1, linestyle='dashed')\n",
    "plt.plot(x, x + 2, linestyle='dashdot')\n",
    "plt.plot(x, x + 3, linestyle='dotted');\n",
    "\n",
    "# For short, you can use the following codes:\n",
    "plt.plot(x, x + 4, linestyle='-')  # solid\n",
    "plt.plot(x, x + 5, linestyle='--') # dashed\n",
    "plt.plot(x, x + 6, linestyle='-.') # dashdot\n",
    "plt.plot(x, x + 7, linestyle=':');  # dotted"
   ]
  },
  {
   "cell_type": "code",
   "execution_count": null,
   "metadata": {},
   "outputs": [],
   "source": [
    "plt.style.use(\"dark_background\")\n",
    "plt.grid(None)\n",
    "plt.plot(x, x + 0, linestyle='solid')\n",
    "plt.plot(x, x + 1, linestyle='dashed')\n",
    "plt.plot(x, x + 2, linestyle='dashdot')\n",
    "plt.plot(x, x + 3, linestyle='dotted');\n",
    "\n",
    "# For short, you can use the following codes:\n",
    "plt.plot(x, x + 4, linestyle='-')  # solid\n",
    "plt.plot(x, x + 5, linestyle='--') # dashed\n",
    "plt.plot(x, x + 6, linestyle='-.') # dashdot\n",
    "plt.plot(x, x + 7, linestyle=':');  # dotted\n"
   ]
  },
  {
   "cell_type": "code",
   "execution_count": null,
   "metadata": {},
   "outputs": [],
   "source": [
    "x = np.linspace(0, 10, 30)\n",
    "y = np.sin(x)\n",
    "plt.grid(axis=\"x\")\n",
    "plt.plot(x, y, 'o', color='yellow');"
   ]
  },
  {
   "cell_type": "code",
   "execution_count": null,
   "metadata": {},
   "outputs": [],
   "source": [
    "x = np.linspace(0, 10, 30)\n",
    "y = np.sin(x)\n",
    "plt.grid(axis=\"y\")\n",
    "\n",
    "plt.plot(x, y, 'o', color='yellow');"
   ]
  },
  {
   "cell_type": "code",
   "execution_count": null,
   "metadata": {},
   "outputs": [],
   "source": [
    "plt.figure(figsize=(20,10))\n",
    "plt.style.use(\"dark_background\")\n",
    "x = np.linspace(0, 10, 30)\n",
    "y = np.sin(x)\n",
    "plt.grid(axis=\"y\")\n",
    "\n",
    "plt.plot(x, y, 'o', color='yellow');"
   ]
  },
  {
   "cell_type": "code",
   "execution_count": null,
   "metadata": {},
   "outputs": [],
   "source": [
    "import matplotlib.pyplot as plt\n",
    "fig = plt.figure()\n",
    "ax = fig.add_axes([0,0,1,1])\n",
    "langs = ['C', 'C++', 'Java', 'Python', 'PHP']\n",
    "students = [23,17,35,29,12]\n",
    "ax.bar(langs,students, color=\"green\")\n",
    "plt.show()"
   ]
  },
  {
   "cell_type": "code",
   "execution_count": null,
   "metadata": {},
   "outputs": [],
   "source": [
    "import matplotlib.pyplot as plt\n",
    "fig = plt.figure()\n",
    "ax = fig.add_axes([0,0,2,1])\n",
    "langs = ['C', 'C++', 'Java', 'Python', 'PHP']\n",
    "students = [23,17,35,29,12]\n",
    "ax.bar(langs,students, color=\"green\")\n",
    "plt.show()"
   ]
  },
  {
   "cell_type": "code",
   "execution_count": null,
   "metadata": {},
   "outputs": [],
   "source": [
    "import matplotlib.pyplot as plt\n",
    "fig = plt.figure()\n",
    "ax = fig.add_axes([0,0,2,1])\n",
    "langs = ['C', 'C++', 'Java', 'Python', 'PHP']\n",
    "students = [23,17,35,29,12]\n",
    "ax.bar(langs,students, alpha=.3)\n",
    "ax.plot(students)\n",
    "plt.show()"
   ]
  },
  {
   "cell_type": "code",
   "execution_count": null,
   "metadata": {},
   "outputs": [],
   "source": [
    "import numpy as np\n",
    "import matplotlib.pyplot as plt\n",
    "data = [[30, 25, 50, 20],\n",
    "[40, 23, 51, 17],\n",
    "[35, 22, 45, 19]]\n",
    "X = np.arange(4)\n",
    "fig = plt.figure()\n",
    "ax = fig.add_axes([0,0,2,1])\n",
    "ax.bar(X + 0.00, data[0], color = 'b', width = 0.25)\n",
    "ax.bar(X + 0.25, data[1], color = 'g', width = 0.25)\n",
    "ax.bar(X + 0.50, data[2], color = 'r', width = 0.25)"
   ]
  },
  {
   "cell_type": "code",
   "execution_count": null,
   "metadata": {},
   "outputs": [],
   "source": [
    "import numpy as np\n",
    "import matplotlib.pyplot as plt\n",
    "N = 5\n",
    "menMeans = (20, 35, 30, 35, 27)\n",
    "womenMeans = (25, 32, 34, 20, 25)\n",
    "ind = np.arange(N) # the x locations for the groups\n",
    "width = 0.35\n",
    "fig = plt.figure()\n",
    "ax = fig.add_axes([0,0,2,1])\n",
    "\n",
    "ax.bar(ind, menMeans, width, color='b')\n",
    "ax.bar(ind, womenMeans, width,bottom=menMeans, color='r')\n",
    "\n",
    "ax.set_ylabel('Scores')\n",
    "ax.set_title('Scores by group and gender')\n",
    "ax.set_xticklabels(['', 'G1', 'G2', 'G3', 'G4', 'G5'])\n",
    "ax.set_yticks(np.arange(0, 81, 10))\n",
    "ax.legend(labels=['Men', 'Women'])\n",
    "plt.show()"
   ]
  },
  {
   "cell_type": "code",
   "execution_count": null,
   "metadata": {},
   "outputs": [],
   "source": [
    "import matplotlib.pyplot as plt\n",
    "import numpy as np\n",
    "fig = plt.figure()\n",
    "a1 = fig.add_axes([0,0,2,1])\n",
    "x = np.arange(1,11)\n",
    "a1.plot(x,np.exp(x))\n",
    "a1.set_ylabel('exp')\n",
    "a2 = a1.twinx()\n",
    "a2.plot(x, np.log(x),'ro-')\n",
    "a2.set_ylabel('log')\n",
    "fig.legend(labels = ('exp','log'),loc='upper left')\n",
    "plt.show()"
   ]
  },
  {
   "cell_type": "markdown",
   "metadata": {},
   "source": [
    "## Pandas a matplotlib"
   ]
  },
  {
   "cell_type": "code",
   "execution_count": null,
   "metadata": {},
   "outputs": [],
   "source": [
    "import pandas as pd\n",
    "ts = pd.Series(np.random.randn(1000), index=pd.date_range('1/1/2000', periods=1000))"
   ]
  },
  {
   "cell_type": "code",
   "execution_count": null,
   "metadata": {},
   "outputs": [],
   "source": [
    "ts"
   ]
  },
  {
   "cell_type": "code",
   "execution_count": null,
   "metadata": {},
   "outputs": [],
   "source": [
    "ts.cumsum()"
   ]
  },
  {
   "cell_type": "code",
   "execution_count": null,
   "metadata": {},
   "outputs": [],
   "source": [
    "df = pd.DataFrame(np.random.randn(1000, 4), index=ts.index, columns=list('ABCD'))"
   ]
  },
  {
   "cell_type": "code",
   "execution_count": null,
   "metadata": {},
   "outputs": [],
   "source": [
    "df = df.cumsum()"
   ]
  },
  {
   "cell_type": "code",
   "execution_count": null,
   "metadata": {},
   "outputs": [],
   "source": [
    "df"
   ]
  },
  {
   "cell_type": "code",
   "execution_count": null,
   "metadata": {},
   "outputs": [],
   "source": [
    "df.plot();"
   ]
  },
  {
   "cell_type": "code",
   "execution_count": null,
   "metadata": {},
   "outputs": [],
   "source": [
    "import pandas as pd\n",
    "import numpy as np\n",
    "import matplotlib.pyplot as plt\n",
    "%matplotlib inline\n",
    "\n",
    "\n",
    "drange = pd.date_range(start='2015-07-01', end='2015-07-10', freq='D')\n",
    "df = pd.DataFrame(data=np.random.random_sample((10, 3)), index=drange, columns=['col1', 'col2', 'col3'])\n",
    "\n",
    "fig, ax = plt.subplots()\n",
    "\n",
    "df[['col1', 'col2']].plot(kind='bar', ax=ax, stacked=True)\n",
    "\n",
    "ax.grid(True)\n",
    "\n",
    "x = ax.legend(loc='best')"
   ]
  },
  {
   "cell_type": "markdown",
   "metadata": {},
   "source": [
    "---"
   ]
  },
  {
   "cell_type": "markdown",
   "metadata": {},
   "source": [
    "## Mapy - Dane Geograficzne "
   ]
  },
  {
   "cell_type": "markdown",
   "metadata": {},
   "source": [
    "https://matplotlib.org/basemap"
   ]
  },
  {
   "cell_type": "code",
   "execution_count": null,
   "metadata": {},
   "outputs": [],
   "source": [
    "from mpl_toolkits.basemap import Basemap\n",
    "import matplotlib.pyplot as plt\n",
    "import numpy as np\n",
    "import warnings\n",
    "warnings.filterwarnings('ignore')\n",
    "import pandas as pd\n",
    "\n",
    "# set up orthographic map projection with\n",
    "# perspective of satellite looking down at 50N, 100W.\n",
    "# use low resolution coastlines.\n",
    "map = Basemap(projection='ortho',lat_0=45,lon_0=-100,resolution='l')\n",
    "# draw coastlines, country boundaries, fill continents.\n",
    "map.drawcoastlines(linewidth=0.25)\n",
    "map.drawcountries(linewidth=0.25)\n",
    "map.fillcontinents(color='coral',lake_color='aqua')\n",
    "\n",
    "# draw the edge of the map projection region (the projection limb)\n",
    "map.drawmapboundary(fill_color='aqua')\n",
    "\n",
    "# draw lat/lon grid lines every 30 degrees.\n",
    "map.drawmeridians(np.arange(0,360,30))\n",
    "map.drawparallels(np.arange(-90,90,30))\n",
    "\n",
    "# make up some data on a regular lat/lon grid.\n",
    "nlats = 73; nlons = 145; delta = 2.*np.pi/(nlons-1)\n",
    "lats = (0.5*np.pi-delta*np.indices((nlats,nlons))[0,:,:])\n",
    "lons = (delta*np.indices((nlats,nlons))[1,:,:])\n",
    "wave = 0.75*(np.sin(2.*lats)**8*np.cos(4.*lons))\n",
    "mean = 0.5*np.cos(2.*lats)*((np.sin(2.*lats))**2 + 2.)\n",
    "\n",
    "# compute native map projection coordinates of lat/lon grid.\n",
    "x, y = map(lons*180./np.pi, lats*180./np.pi)\n",
    "# contour data over the map.\n",
    "cs = map.contour(x,y,wave+mean,15,linewidths=1.5)\n",
    "plt.title('Contour Lines over Filled Continent Background', color=\"white\")\n",
    "plt.show()"
   ]
  },
  {
   "cell_type": "code",
   "execution_count": null,
   "metadata": {},
   "outputs": [],
   "source": [
    "from mpl_toolkits.basemap import Basemap\n",
    "import matplotlib.pyplot as plt\n",
    "import warnings\n",
    "warnings.filterwarnings('ignore')\n",
    "# setup Lambert Conformal basemap.\n",
    "# set resolution=None to skip processing of boundary datasets.\n",
    "m = Basemap(width=12000000,height=9000000,projection='lcc',\n",
    "            resolution=None,lat_1=45.,lat_2=55,lat_0=50,lon_0=20.)\n",
    "m.etopo()\n",
    "plt.show()"
   ]
  },
  {
   "cell_type": "code",
   "execution_count": null,
   "metadata": {},
   "outputs": [],
   "source": [
    "from mpl_toolkits.basemap import Basemap\n",
    "import matplotlib.pyplot as plt\n",
    "# setup Lambert Conformal basemap.\n",
    "# set resolution=None to skip processing of boundary datasets.\n",
    "m = Basemap(width=12000000,height=9000000,projection='lcc',\n",
    "            resolution=None,lat_1=45.,lat_2=55,lat_0=50,lon_0=20.)\n",
    "m.bluemarble()\n",
    "plt.show()"
   ]
  },
  {
   "cell_type": "code",
   "execution_count": null,
   "metadata": {},
   "outputs": [],
   "source": [
    "import mpl_toolkits\n",
    "\n",
    "from mpl_toolkits.basemap import Basemap\n",
    "import matplotlib.pyplot as plt\n",
    "import numpy as np\n",
    "import warnings\n",
    "warnings.filterwarnings('ignore')\n",
    "plt.style.use(\"classic\")\n",
    "miasta = {\n",
    "    'Gdansk': {'pos': (54.36, 18.64), 'ilosc': 15, 'symbol': 'r+'},\n",
    "    'Krakow': {'pos': (50.06, 19.96), 'ilosc': 20, 'symbol': 'bs'},\n",
    "    'Lodz': {'pos': (51.77, 19.46), 'ilosc': 15, 'symbol': 'go'},\n",
    "    'Wroclaw': {'pos': (51.11, 17.03), 'ilosc': 10, 'symbol': 'ro'},\n",
    "    'Warszawa': {'pos': (52.2370, 21.0175), 'ilosc': 25, 'symbol': 'g*'}   \n",
    "}\n",
    "\n",
    "# zakres mapy (Polska)\n",
    "lat_min, lat_max = 48.8, 55.0\n",
    "lon_min, lon_max = 13.8, 24.4\n",
    "\n",
    "# wymiary rysunku\n",
    "fig = plt.figure(figsize=(10.0, 9.0))\n",
    "\n",
    "# marginesy\n",
    "plt.subplots_adjust(left=0.10, right=0.90, top=0.90, bottom=0.10, wspace=0.15, hspace=0.05)\n",
    "\n",
    "# tworzenie mapy dla Polski\n",
    "m = Basemap(resolution='i', projection='merc', llcrnrlat=lat_min, urcrnrlat=lat_max, llcrnrlon=lon_min, urcrnrlon=lon_max)\n",
    "\n",
    "# grubość granic i linii wybrzeży\n",
    "m.drawcountries(linewidth=0.5)\n",
    "m.drawcoastlines(linewidth=0.5)\n",
    "\n",
    "m.drawrivers()\n",
    "\n",
    "# równoleżniki i południki\n",
    "m.drawparallels(np.arange(lat_min, lat_max, 1.), labels=[1,0,0,0], color='black', dashes=[1,5], labelstyle='+/-', linewidth=0.2)\n",
    "m.drawmeridians(np.arange(lon_min, lon_max, 1.), labels=[0,0,0,1], color='black', dashes=[1,5], labelstyle='+/-', linewidth=0.2)\n",
    "\n",
    "# rysowanie danych\n",
    "for nazwa, dane in miasta.items():\n",
    "    # współrzędne w odwrotnej kolejności\n",
    "    x, y = m(dane['pos'][1], dane['pos'][0])\n",
    "\n",
    "    # narysowanie symbolu\n",
    "    m.plot(x, y, dane['symbol'], markersize=dane['ilosc'])\n",
    "\n",
    "    # wypisanie etykiety (z przesunięciem)\n",
    "    plt.text(x+(dane['ilosc']*1000), y+(dane['ilosc']*1000), nazwa)\n",
    "\n",
    "# tytul\n",
    "plt.title(\"Miasta na terenie Polski\")\n",
    "\n",
    "# i wyslanie na ekran\n",
    "plt.show();"
   ]
  },
  {
   "cell_type": "markdown",
   "metadata": {},
   "source": [
    "---"
   ]
  },
  {
   "cell_type": "markdown",
   "metadata": {},
   "source": [
    "## Facetting\n",
    "\n",
    "Facetting - rozdzielenie wykresu na kilka wykresów o tych samych osiach"
   ]
  },
  {
   "cell_type": "code",
   "execution_count": null,
   "metadata": {},
   "outputs": [],
   "source": [
    "%matplotlib inline\n",
    "import numpy as np\n",
    "import matplotlib.pyplot as plt\n",
    "\n",
    "x = np.linspace(0, 5)\n",
    "fig = plt.figure()\n",
    "\n",
    "fig.add_subplot(221)   #top left\n",
    "plt.plot(np.cos(x))\n",
    "fig.add_subplot(222)   #top right\n",
    "plt.plot(np.sin(x))\n",
    "fig.add_subplot(223)   #bottom left\n",
    "plt.plot(np.tan(x))\n",
    "fig.add_subplot(224)   #bottom right \n",
    "plt.plot(x)\n",
    "plt.show()\n"
   ]
  },
  {
   "cell_type": "markdown",
   "metadata": {},
   "source": [
    "https://archive.ics.uci.edu/ml/datasets/bike+sharing+dataset"
   ]
  },
  {
   "cell_type": "markdown",
   "metadata": {},
   "source": [
    "https://www.kdnuggets.com/2019/04/data-visualization-python-matplotlib-seaborn.html"
   ]
  },
  {
   "cell_type": "code",
   "execution_count": null,
   "metadata": {},
   "outputs": [],
   "source": [
    "import matplotlib.pyplot as plt\n",
    "%matplotlib inline\n",
    "import numpy as np\n",
    "import pandas as pd\n",
    "\n",
    "day = pd.read_csv('data\\day.csv')"
   ]
  },
  {
   "cell_type": "code",
   "execution_count": null,
   "metadata": {},
   "outputs": [],
   "source": [
    "day"
   ]
  },
  {
   "cell_type": "code",
   "execution_count": null,
   "metadata": {},
   "outputs": [],
   "source": [
    "plt.scatter('temp', 'cnt', data=day)\n",
    "plt.xlabel('Znormalizowana Temperatura', fontsize='large')\n",
    "plt.ylabel('Ilość wypożyczeń rowerów', fontsize='large');"
   ]
  },
  {
   "cell_type": "code",
   "execution_count": null,
   "metadata": {},
   "outputs": [],
   "source": [
    "plt.scatter('temp', 'cnt', data=day, c='season')\n",
    "plt.xlabel('Znormalizowana Temperatura', fontsize='large')\n",
    "plt.ylabel('Ilość wypożyczeń rowerów', fontsize='large');"
   ]
  },
  {
   "cell_type": "code",
   "execution_count": null,
   "metadata": {},
   "outputs": [],
   "source": [
    "plt.rcParams['figure.figsize'] = [15, 10]\n",
    "\n",
    "fontdict={'fontsize': 18,\n",
    "          'weight' : 'bold',\n",
    "         'horizontalalignment': 'center'}\n",
    "\n",
    "fontdictx={'fontsize': 18,\n",
    "          'weight' : 'bold',\n",
    "          'horizontalalignment': 'center'}\n",
    "\n",
    "fontdicty={'fontsize': 16,\n",
    "          'weight' : 'bold',\n",
    "          'verticalalignment': 'baseline',\n",
    "          'horizontalalignment': 'center'}\n",
    "\n",
    "spring = plt.scatter('temp', 'cnt', data=day[day['season']==1], marker='o', color='green')\n",
    "summer = plt.scatter('temp', 'cnt', data=day[day['season']==2], marker='o', color='orange')\n",
    "autumn = plt.scatter('temp', 'cnt', data=day[day['season']==3], marker='o', color='brown')\n",
    "winter = plt.scatter('temp', 'cnt', data=day[day['season']==4], marker='o', color='blue')\n",
    "\n",
    "plt.legend(handles=(spring,summer,autumn,winter),\n",
    "           labels=('Wiosna', 'Lato', 'Jesień', 'Zima'),\n",
    "           title=\"Pora roku\", title_fontsize=16,\n",
    "           scatterpoints=1,\n",
    "           bbox_to_anchor=(1, 0.7), loc=2, borderaxespad=1.,\n",
    "           ncol=1,\n",
    "           fontsize=14)\n",
    "\n",
    "plt.title('Ilość wypożyczeń rowerów względem temperatury', fontdict=fontdict, color=\"black\")\n",
    "plt.xlabel(\"Znormalizowana temperatura\", fontdict=fontdictx)\n",
    "plt.ylabel(\"Ilość Wypozyczeń\", fontdict=fontdicty);"
   ]
  },
  {
   "cell_type": "markdown",
   "metadata": {},
   "source": [
    "### Ten wykres ma chyba następujące problemy\n",
    "- dane się nakładają na siebie\n",
    "- jest nieczytelny\n",
    "- nie widać dobrze różnic między porami roku\n",
    "- nie widać trendów\n",
    "- wydaje się, że temperatura jest pozytywnie skorelowana z z ilością wypożyczeń"
   ]
  },
  {
   "cell_type": "code",
   "execution_count": null,
   "metadata": {},
   "outputs": [],
   "source": [
    "fig = plt.figure()\n",
    "\n",
    "plt.rcParams['figure.figsize'] = [15,10]\n",
    "plt.rcParams[\"font.weight\"] = \"bold\"\n",
    "\n",
    "fontdict={'fontsize': 25,\n",
    "          'weight' : 'bold'}\n",
    "\n",
    "fontdicty={'fontsize': 18,\n",
    "          'weight' : 'bold',\n",
    "          'verticalalignment': 'baseline',\n",
    "          'horizontalalignment': 'center'}\n",
    "\n",
    "fontdictx={'fontsize': 18,\n",
    "          'weight' : 'bold',\n",
    "          'horizontalalignment': 'center'}\n",
    "\n",
    "plt.subplots_adjust(wspace=0.2, hspace=0.2)\n",
    "\n",
    "fig.suptitle('Ilość wypożyczeń rowerów względem temperatury\\nz rozbiciem na pory roku', fontsize=25,fontweight=\"bold\", color=\"black\", \n",
    "             position=(0.5,1.01))\n",
    "\n",
    "ax1 = fig.add_subplot(221)\n",
    "ax1.scatter('temp', 'cnt', data=day[day['season']==1], c=\"green\")\n",
    "ax1.set_title('Wiosna', fontdict=fontdict, color=\"green\")\n",
    "ax1.set_ylabel(\"Ilość wypożyczeń\", fontdict=fontdicty, position=(0,-0.1))\n",
    "\n",
    "\n",
    "ax2 = fig.add_subplot(222)\n",
    "ax2.scatter('temp', 'cnt', data=day[day['season']==2], c=\"orange\")\n",
    "ax2.set_title('Lato', fontdict=fontdict, color=\"orange\")\n",
    "\n",
    "\n",
    "\n",
    "ax3 = fig.add_subplot(223)\n",
    "ax3.scatter('temp', 'cnt', data=day[day['season']==3], c=\"brown\")\n",
    "ax3.set_title('Jesień', fontdict=fontdict, color=\"brown\")\n",
    "\n",
    "\n",
    "ax4 = fig.add_subplot(224)\n",
    "ax4.scatter('temp', 'cnt', data=day[day['season']==4], c=\"blue\")\n",
    "ax4.set_title(\"Zima\", fontdict=fontdict, color=\"blue\")\n",
    "ax4.set_xlabel(\"Znormalizowana temperatura\", fontdict=fontdictx, position=(-0.1,0));"
   ]
  },
  {
   "cell_type": "markdown",
   "metadata": {},
   "source": [
    "## Tym razem\n",
    "- Na wiosnę jest pozytywna korelacja\n",
    "- Ale w lecie i zimie lekka korelacja kwadratowa (?)\n",
    "- Na jesień nie ma widać jakichś trendów\n",
    "\n",
    "\n"
   ]
  },
  {
   "cell_type": "code",
   "execution_count": null,
   "metadata": {},
   "outputs": [],
   "source": [
    "fig = plt.figure()\n",
    "\n",
    "plt.rcParams['figure.figsize'] = [12,12]\n",
    "plt.rcParams[\"font.weight\"] = \"bold\"\n",
    "\n",
    "plt.subplots_adjust(hspace=0.60)\n",
    "\n",
    "\n",
    "fontdicty={'fontsize': 20,\n",
    "          'weight' : 'bold',\n",
    "          'verticalalignment': 'baseline',\n",
    "          'horizontalalignment': 'center'}\n",
    "\n",
    "fontdictx={'fontsize': 20,\n",
    "          'weight' : 'bold',\n",
    "          'horizontalalignment': 'center'}\n",
    "\n",
    "fig.suptitle('Ilość wypożyczeń rowerów względem temperatury\\nz rozbiciem na pory roku', fontsize=25,fontweight=\"bold\", color=\"black\", \n",
    "             position=(0.5,1.0))\n",
    "\n",
    "#ax2 is defined first because the other plots are sharing its x-axis\n",
    "ax2 = fig.add_subplot(412, sharex=ax2)\n",
    "ax2.scatter('temp', 'cnt', data=day.loc[day['season']==2], c=\"orange\")\n",
    "ax2.set_title('Lato', fontdict=fontdict, color=\"orange\")\n",
    "ax2.set_ylabel(\"Ilość wypożyczeń\", fontdict=fontdicty, position=(-0.3,-0.2))\n",
    "\n",
    "\n",
    "ax1 = fig.add_subplot(411, sharex=ax2)\n",
    "ax1.scatter('temp', 'cnt', data=day.loc[day['season']==1], c=\"green\")\n",
    "ax1.set_title('Wiosna', fontdict=fontdict, color=\"green\")\n",
    "\n",
    "\n",
    "ax3 = fig.add_subplot(413, sharex=ax2)\n",
    "ax3.scatter('temp', 'cnt', data=day.loc[day['season']==3], c=\"brown\")\n",
    "ax3.set_title('Jesień', fontdict=fontdict, color=\"brown\")\n",
    "\n",
    "\n",
    "ax4 = fig.add_subplot(414, sharex=ax2)\n",
    "ax4.scatter('temp', 'cnt', data=day.loc[day['season']==4], c=\"blue\")\n",
    "ax4.set_title('Zima', fontdict=fontdict, color=\"blue\")\n",
    "ax4.set_xlabel(\"Znormalizowana temperatura\", fontdict=fontdictx);"
   ]
  },
  {
   "cell_type": "markdown",
   "metadata": {},
   "source": [
    "- Wiosna ma najniższe temperatury!\n",
    "- Jesień ma najwyższe temperatury\n",
    "- Jesienią i latem relacja jest kwadratowa (parabola)\n",
    "- W niższych temperaturach - zawsze jest mniej pożyczanych rowerów\n",
    "- Na wiosnę jest wyraźna pozytywna korelacja \n",
    "- Jesienią mamy lekko negatywną korelację"
   ]
  },
  {
   "cell_type": "code",
   "execution_count": null,
   "metadata": {},
   "outputs": [],
   "source": [
    "fig = plt.figure()\n",
    "\n",
    "plt.rcParams['figure.figsize'] = [10,10]\n",
    "plt.rcParams[\"font.weight\"] = \"bold\"\n",
    "\n",
    "plt.subplots_adjust(wspace=0.5)\n",
    "fontdicty1={'fontsize': 18,\n",
    "          'weight' : 'bold'}\n",
    "\n",
    "fontdictx1={'fontsize': 18,\n",
    "          'weight' : 'bold',\n",
    "          'horizontalalignment': 'center'}\n",
    "\n",
    "fig.suptitle('Ilość wypożyczeń rowerów względem temperatury\\nz rozbiciem na pory roku', fontsize=25,fontweight=\"bold\", color=\"black\", \n",
    "             position=(0.5,1.0))\n",
    "\n",
    "ax3 = fig.add_subplot(143, sharey=ax3)\n",
    "ax3.scatter('temp', 'cnt', data=day.loc[day['season']==3], c=\"brown\")\n",
    "ax3.set_title('Jesień', fontdict=fontdict,color=\"brown\")\n",
    "\n",
    "\n",
    "ax1 = fig.add_subplot(141, sharey=ax3)\n",
    "ax1.scatter('temp', 'cnt', data=day.loc[day['season']==1], c=\"green\")\n",
    "ax1.set_title('Wiosna', fontdict=fontdict, color=\"green\")\n",
    "ax1.set_ylabel(\"Count of Total Rental Bikes\", fontdict=fontdicty1, position=(0.5,0.5))\n",
    "\n",
    "\n",
    "ax2 = fig.add_subplot(142, sharey=ax3)\n",
    "ax2.scatter('temp', 'cnt', data=day.loc[day['season']==2], c=\"orange\")\n",
    "ax2.set_title('Lato', fontdict=fontdict, color=\"orange\")\n",
    "\n",
    "\n",
    "ax4 = fig.add_subplot(144, sharey=ax3)\n",
    "ax4.scatter('temp', 'cnt', data=day.loc[day['season']==4], c=\"blue\")\n",
    "ax4.set_title('Zima', fontdict=fontdict, color=\"blue\")\n",
    "ax4.set_xlabel(\"Znormalizowana temperatura\", fontdict=fontdictx, position=(-1.5,0));"
   ]
  },
  {
   "cell_type": "markdown",
   "metadata": {},
   "source": [
    "- W każdej porze roku dochodzi się do 8000 wypożyczeń\n",
    "- Wiosna i jesień na wyraźnie clustry\n",
    "- Latem i zimą jest największy rozstrzał\n",
    "\n",
    "Wygląda na to, że jesienią i latem jest ujemna korelacja - ale jak wiemy z wcześniejszej analizy - tak nie jest."
   ]
  },
  {
   "cell_type": "markdown",
   "metadata": {},
   "source": [
    "---"
   ]
  },
  {
   "cell_type": "markdown",
   "metadata": {},
   "source": [
    "# Zadanie 1\n",
    "\n",
    "Narysuj wykres o kształcie okręgu"
   ]
  },
  {
   "cell_type": "markdown",
   "metadata": {},
   "source": [
    "---"
   ]
  },
  {
   "cell_type": "markdown",
   "metadata": {},
   "source": [
    "# Zadanie 2\n",
    "\n",
    "Korzystając z następujących danych:\n",
    "    \n",
    "http://astronomia.zagan.pl/art/wspolrzedne.html\n",
    "https://pl.wikipedia.org/wiki/Dane_statystyczne_o_miastach_w_Polsce\n",
    "    \n",
    "    \n",
    "Zamieść na mapie Polski 50 największych miast, ze wielkością znacznika odpowiadającą liczbie mieszkańców"
   ]
  }
 ],
 "metadata": {
  "kernelspec": {
   "display_name": "Python 3",
   "language": "python",
   "name": "python3"
  },
  "language_info": {
   "codemirror_mode": {
    "name": "ipython",
    "version": 3
   },
   "file_extension": ".py",
   "mimetype": "text/x-python",
   "name": "python",
   "nbconvert_exporter": "python",
   "pygments_lexer": "ipython3",
   "version": "3.7.5"
  },
  "widgets": {
   "application/vnd.jupyter.widget-state+json": {
    "state": {},
    "version_major": 2,
    "version_minor": 0
   }
  }
 },
 "nbformat": 4,
 "nbformat_minor": 4
}
