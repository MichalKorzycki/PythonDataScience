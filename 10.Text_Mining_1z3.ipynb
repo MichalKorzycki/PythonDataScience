{
 "cells": [
  {
   "cell_type": "markdown",
   "metadata": {},
   "source": [
    "# Warsztaty Python w Data Science\n",
    "\n",
    "---\n",
    "## Text Mining - część 1 z 3  \n",
    "\n",
    "- ### Tokenizacja\n",
    "- ### Statystyka\n",
    "- ### Prosta Lemmatyzacja\n",
    "- ### TF-IDF"
   ]
  },
  {
   "cell_type": "markdown",
   "metadata": {},
   "source": [
    "https://github.com/MichalKorzycki/WarsztatPythonDataScience"
   ]
  },
  {
   "cell_type": "markdown",
   "metadata": {},
   "source": [
    "https://drive.google.com/drive/folders/1HR8VCledCwD7BRMO1AucUM3x7cYC-AVT?usp=sharing"
   ]
  },
  {
   "cell_type": "markdown",
   "metadata": {},
   "source": [
    "---\n",
    "# Zadanie 1.\n",
    "Wyciągnąć z _*kilku*_ ogłoszeń ich tytuły i treści"
   ]
  },
  {
   "cell_type": "code",
   "execution_count": null,
   "metadata": {},
   "outputs": [],
   "source": [
    "import scrapy\n",
    "import datetime\n",
    "import pandas as pd\n",
    "import scrapy.crawler as crawler\n",
    "from bs4 import BeautifulSoup\n",
    "from scrapy.exporters import CsvItemExporter\n",
    "from scrapy.crawler import CrawlerProcess\n",
    "\n",
    "url_results = []\n",
    "desc_results = []\n",
    "title_results = []\n",
    "\n",
    "\n",
    "class GumtreeApartmentsSpider(scrapy.Spider):\n",
    "    name = 'gumtreeapartmentsspider'\n",
    "    start_urls = [ \n",
    "    \n",
    "        'https://www.gumtree.pl/s-mieszkania-i-domy-sprzedam-i-kupie/mazowieckie/page-'+str(i)+'/v1c9073l3200001p'+str(i)  for i in range(2, 11)\n",
    "        ]\n",
    "    start_urls.append(\n",
    "        'https://www.gumtree.pl/s-mieszkania-i-domy-sprzedam-i-kupie/mazowieckie/v1c9073l3200001p1'\n",
    "    )\n",
    "    found_apartments = []\n",
    "   \n",
    "    custom_settings = {\n",
    "        'DOWNLOAD_DELAY': '2.0',\n",
    "        'ROBOTSTXT_OBEY': True,\n",
    "        'AUTOTHROTTLE_ENABLED': True,\n",
    "        'USER_AGENT': 'My Bot (email@myemail.com)'\n",
    "    }\n",
    "\n",
    "    top_url = 'https://www.gumtree.pl'\n",
    "    def parse(self, response):\n",
    "        self.logger.info('Got successful response from {}'.format(response.url))\n",
    "        soup = BeautifulSoup(response.body, 'lxml')\n",
    "        titles = [flat.next_element for flat in soup.find_all('a', class_ = \"href-link tile-title-text\")] \n",
    "        links = ['https://www.gumtree.pl' + link.get('href')\n",
    "                for link in soup.find_all('a', class_ =\"href-link tile-title-text\")]\n",
    "            \n",
    "        for item_url in links:\n",
    "            yield scrapy.Request(item_url, self.parse_item)\n",
    "        \n",
    "    def parse_item(self, response): \n",
    "        self.logger.info('Got successful response from {}'.format(response.url))\n",
    "        soup = BeautifulSoup(response.body, 'lxml')\n",
    "        title = soup.find('span', class_ =\"myAdTitle\")\n",
    "        description = soup.find('div', class_ =\"description\")\n",
    "        item = {\n",
    "            \"url\": response.url,\n",
    "            \"title\": title,\n",
    "            \"description\": description,\n",
    "        }\n",
    "\n",
    "        url_results.append(response.url)\n",
    "        desc_results.append(description)\n",
    "        title_results.append(title)\n",
    "        \n",
    "    def spider_closed(self, spider):\n",
    "        spider.logger.info('Spider closed: %s', spider.name)\n",
    "        \n",
    "        df = pd.Dataframe({\n",
    "            \"title\": title_results,\n",
    "            \"description\": desc_results,\n",
    "            \"url\": url_results\n",
    "        })\n",
    "        fname = f\"gumtree-{now}.csv\"\n",
    "        print(fname)\n",
    "        df.to_csv(fname)"
   ]
  },
  {
   "cell_type": "code",
   "execution_count": null,
   "metadata": {},
   "outputs": [],
   "source": [
    "process = CrawlerProcess()\n",
    "process.crawl(GumtreeApartmentsSpider)\n",
    "process.start()"
   ]
  },
  {
   "cell_type": "code",
   "execution_count": null,
   "metadata": {},
   "outputs": [],
   "source": [
    "df = pd.DataFrame({\n",
    "            \"title\": title_results,\n",
    "            \"description\": desc_results,\n",
    "            \"url\": url_results\n",
    "        })"
   ]
  },
  {
   "cell_type": "code",
   "execution_count": null,
   "metadata": {},
   "outputs": [],
   "source": [
    "now = datetime.datetime.now().strftime(\"%Y-%m-%d\")\n",
    "fname = f\"data\\gumtree-{now}.csv\"\n",
    "print(fname)\n",
    "df.to_csv(fname, sep=\"|\")"
   ]
  },
  {
   "cell_type": "markdown",
   "metadata": {},
   "source": [
    "---\n",
    "# Tokenizacja"
   ]
  },
  {
   "cell_type": "code",
   "execution_count": 1,
   "metadata": {},
   "outputs": [
    {
     "data": {
      "text/html": [
       "<div>\n",
       "<style scoped>\n",
       "    .dataframe tbody tr th:only-of-type {\n",
       "        vertical-align: middle;\n",
       "    }\n",
       "\n",
       "    .dataframe tbody tr th {\n",
       "        vertical-align: top;\n",
       "    }\n",
       "\n",
       "    .dataframe thead th {\n",
       "        text-align: right;\n",
       "    }\n",
       "</style>\n",
       "<table border=\"1\" class=\"dataframe\">\n",
       "  <thead>\n",
       "    <tr style=\"text-align: right;\">\n",
       "      <th></th>\n",
       "      <th>title</th>\n",
       "      <th>description</th>\n",
       "      <th>url</th>\n",
       "    </tr>\n",
       "    <tr>\n",
       "      <th>Unnamed: 0</th>\n",
       "      <th></th>\n",
       "      <th></th>\n",
       "      <th></th>\n",
       "    </tr>\n",
       "  </thead>\n",
       "  <tbody>\n",
       "    <tr>\n",
       "      <th>0</th>\n",
       "      <td>&lt;span class=\"myAdTitle\"&gt;Kawalerka Geodetów Och...</td>\n",
       "      <td>&lt;div class=\"description\" data-phone-mask=\"fals...</td>\n",
       "      <td>https://www.gumtree.pl/a-mieszkania-i-domy-spr...</td>\n",
       "    </tr>\n",
       "    <tr>\n",
       "      <th>1</th>\n",
       "      <td>&lt;span class=\"myAdTitle\"&gt;Mieszkanie 2 pokojowe ...</td>\n",
       "      <td>&lt;div class=\"description\" data-phone-mask=\"fals...</td>\n",
       "      <td>https://www.gumtree.pl/a-mieszkania-i-domy-spr...</td>\n",
       "    </tr>\n",
       "    <tr>\n",
       "      <th>2</th>\n",
       "      <td>&lt;span class=\"myAdTitle\"&gt;Wyjątkowa Inwestycja N...</td>\n",
       "      <td>&lt;div class=\"description\" data-phone-mask=\"fals...</td>\n",
       "      <td>https://www.gumtree.pl/a-mieszkania-i-domy-spr...</td>\n",
       "    </tr>\n",
       "    <tr>\n",
       "      <th>3</th>\n",
       "      <td>&lt;span class=\"myAdTitle\"&gt;5 pokoi z ogródkiem, n...</td>\n",
       "      <td>&lt;div class=\"description\" data-phone-mask=\"fals...</td>\n",
       "      <td>https://www.gumtree.pl/a-mieszkania-i-domy-spr...</td>\n",
       "    </tr>\n",
       "    <tr>\n",
       "      <th>4</th>\n",
       "      <td>&lt;span class=\"myAdTitle\"&gt;2-pokojowe mieszkanie ...</td>\n",
       "      <td>&lt;div class=\"description\" data-phone-mask=\"fals...</td>\n",
       "      <td>https://www.gumtree.pl/a-mieszkania-i-domy-spr...</td>\n",
       "    </tr>\n",
       "    <tr>\n",
       "      <th>...</th>\n",
       "      <td>...</td>\n",
       "      <td>...</td>\n",
       "      <td>...</td>\n",
       "    </tr>\n",
       "    <tr>\n",
       "      <th>219</th>\n",
       "      <td>&lt;span class=\"myAdTitle\"&gt;Gotowe do odbioru 3 po...</td>\n",
       "      <td>&lt;div class=\"description\" data-phone-mask=\"fals...</td>\n",
       "      <td>https://www.gumtree.pl/a-mieszkania-i-domy-spr...</td>\n",
       "    </tr>\n",
       "    <tr>\n",
       "      <th>220</th>\n",
       "      <td>&lt;span class=\"myAdTitle\"&gt;Stary Mokotów, blisko ...</td>\n",
       "      <td>&lt;div class=\"description\" data-phone-mask=\"fals...</td>\n",
       "      <td>https://www.gumtree.pl/a-mieszkania-i-domy-spr...</td>\n",
       "    </tr>\n",
       "    <tr>\n",
       "      <th>221</th>\n",
       "      <td>&lt;span class=\"myAdTitle\"&gt;Przestronne mieszkanie...</td>\n",
       "      <td>&lt;div class=\"description\" data-phone-mask=\"fals...</td>\n",
       "      <td>https://www.gumtree.pl/a-mieszkania-i-domy-spr...</td>\n",
       "    </tr>\n",
       "    <tr>\n",
       "      <th>222</th>\n",
       "      <td>&lt;span class=\"myAdTitle\"&gt;REZERWACJA - Rondo Wia...</td>\n",
       "      <td>&lt;div class=\"description\" data-phone-mask=\"fals...</td>\n",
       "      <td>https://www.gumtree.pl/a-mieszkania-i-domy-spr...</td>\n",
       "    </tr>\n",
       "    <tr>\n",
       "      <th>223</th>\n",
       "      <td>&lt;span class=\"myAdTitle\"&gt;Stary Mokotów, Metro P...</td>\n",
       "      <td>&lt;div class=\"description\" data-phone-mask=\"fals...</td>\n",
       "      <td>https://www.gumtree.pl/a-mieszkania-i-domy-spr...</td>\n",
       "    </tr>\n",
       "  </tbody>\n",
       "</table>\n",
       "<p>224 rows × 3 columns</p>\n",
       "</div>"
      ],
      "text/plain": [
       "                                                        title  \\\n",
       "Unnamed: 0                                                      \n",
       "0           <span class=\"myAdTitle\">Kawalerka Geodetów Och...   \n",
       "1           <span class=\"myAdTitle\">Mieszkanie 2 pokojowe ...   \n",
       "2           <span class=\"myAdTitle\">Wyjątkowa Inwestycja N...   \n",
       "3           <span class=\"myAdTitle\">5 pokoi z ogródkiem, n...   \n",
       "4           <span class=\"myAdTitle\">2-pokojowe mieszkanie ...   \n",
       "...                                                       ...   \n",
       "219         <span class=\"myAdTitle\">Gotowe do odbioru 3 po...   \n",
       "220         <span class=\"myAdTitle\">Stary Mokotów, blisko ...   \n",
       "221         <span class=\"myAdTitle\">Przestronne mieszkanie...   \n",
       "222         <span class=\"myAdTitle\">REZERWACJA - Rondo Wia...   \n",
       "223         <span class=\"myAdTitle\">Stary Mokotów, Metro P...   \n",
       "\n",
       "                                                  description  \\\n",
       "Unnamed: 0                                                      \n",
       "0           <div class=\"description\" data-phone-mask=\"fals...   \n",
       "1           <div class=\"description\" data-phone-mask=\"fals...   \n",
       "2           <div class=\"description\" data-phone-mask=\"fals...   \n",
       "3           <div class=\"description\" data-phone-mask=\"fals...   \n",
       "4           <div class=\"description\" data-phone-mask=\"fals...   \n",
       "...                                                       ...   \n",
       "219         <div class=\"description\" data-phone-mask=\"fals...   \n",
       "220         <div class=\"description\" data-phone-mask=\"fals...   \n",
       "221         <div class=\"description\" data-phone-mask=\"fals...   \n",
       "222         <div class=\"description\" data-phone-mask=\"fals...   \n",
       "223         <div class=\"description\" data-phone-mask=\"fals...   \n",
       "\n",
       "                                                          url  \n",
       "Unnamed: 0                                                     \n",
       "0           https://www.gumtree.pl/a-mieszkania-i-domy-spr...  \n",
       "1           https://www.gumtree.pl/a-mieszkania-i-domy-spr...  \n",
       "2           https://www.gumtree.pl/a-mieszkania-i-domy-spr...  \n",
       "3           https://www.gumtree.pl/a-mieszkania-i-domy-spr...  \n",
       "4           https://www.gumtree.pl/a-mieszkania-i-domy-spr...  \n",
       "...                                                       ...  \n",
       "219         https://www.gumtree.pl/a-mieszkania-i-domy-spr...  \n",
       "220         https://www.gumtree.pl/a-mieszkania-i-domy-spr...  \n",
       "221         https://www.gumtree.pl/a-mieszkania-i-domy-spr...  \n",
       "222         https://www.gumtree.pl/a-mieszkania-i-domy-spr...  \n",
       "223         https://www.gumtree.pl/a-mieszkania-i-domy-spr...  \n",
       "\n",
       "[224 rows x 3 columns]"
      ]
     },
     "execution_count": 1,
     "metadata": {},
     "output_type": "execute_result"
    }
   ],
   "source": [
    "import pandas as pd\n",
    "\n",
    "data = pd.read_csv('data\\gumtree-2021-03-09.csv', sep='|')\n",
    "data.set_index('Unnamed: 0')"
   ]
  },
  {
   "cell_type": "code",
   "execution_count": 36,
   "metadata": {},
   "outputs": [
    {
     "data": {
      "text/plain": [
       "'<div class=\"description\" data-phone-mask=\"false\"><span class=\"pre\" style=\"font-family: inherit; white-space: pre-wrap;\"><p>Na sprzedaż piękna kawalerka o powierzchni 24 m2 na ostatnim piętrze 10 piętrowego bloku z oknem wychodzącym na spokojną stronę osiedla. Bardzo dobrze skomunikowane z centrum (tramwaje ,autobusy).</p><p>W pobliżu znajduje się dobra infrastruktura: sklepy, apteka, szkoła, targowisko ( hala Banacha),oraz park szczęśliwicki (5 minut na piechotę).Mieszkanie słoneczne i bardzo ustawne ,budynek po wymianie windy i elektryki w częściach wspólnych.</p><p>Serdecznie zapraszamy do kontaktu.</p></span></div>'"
      ]
     },
     "execution_count": 36,
     "metadata": {},
     "output_type": "execute_result"
    }
   ],
   "source": [
    "opis = data['description'][0]\n",
    "opis"
   ]
  },
  {
   "cell_type": "code",
   "execution_count": 37,
   "metadata": {},
   "outputs": [
    {
     "data": {
      "text/plain": [
       "'Na sprzedaż piękna kawalerka o powierzchni 24 m2 na ostatnim piętrze 10 piętrowego bloku z oknem wychodzącym na spokojną stronę osiedla. Bardzo dobrze skomunikowane z centrum (tramwaje ,autobusy).W pobliżu znajduje się dobra infrastruktura: sklepy, apteka, szkoła, targowisko ( hala Banacha),oraz park szczęśliwicki (5 minut na piechotę).Mieszkanie słoneczne i bardzo ustawne ,budynek po wymianie windy i elektryki w częściach wspólnych.Serdecznie zapraszamy do kontaktu.'"
      ]
     },
     "execution_count": 37,
     "metadata": {},
     "output_type": "execute_result"
    }
   ],
   "source": [
    "import re\n",
    "\n",
    "def no_tags(s):\n",
    "    return re.sub(r'<[^<]+?>','',s)\n",
    "\n",
    "opis = no_tags(opis)\n",
    "opis"
   ]
  },
  {
   "cell_type": "code",
   "execution_count": 38,
   "metadata": {},
   "outputs": [
    {
     "data": {
      "text/plain": [
       "\"['Na', 'sprzedaż', 'piękna', 'kawalerka', 'o', 'powierzchni', '24', 'm2', 'na', 'ostatnim', 'piętrze', '10', 'piętrowego', 'bloku', 'z', 'oknem', 'wychodzącym', 'na', 'spokojną', 'stronę', 'osiedla', 'Bardzo', 'dobrze', 'skomunikowane', 'z', 'centrum', 'tramwaje', 'autobusy', 'W', 'pobliżu', 'znajduje', 'się', 'dobra', 'infrastruktura', 'sklepy', 'apteka', 'szkoła', 'targowisko', 'hala', 'Banacha', 'oraz', 'park', 'szczęśliwicki', '5', 'minut', 'na', 'piechotę', 'Mieszkanie', 'słoneczne', 'i', 'bardzo', 'ustawne', 'budynek', 'po', 'wymianie', 'windy', 'i', 'elektryki', 'w', 'częściach', 'wspólnych', 'Serdecznie', 'zapraszamy', 'do', 'kontaktu', '']\""
      ]
     },
     "execution_count": 38,
     "metadata": {},
     "output_type": "execute_result"
    }
   ],
   "source": [
    "import re\n",
    "\n",
    "tokenizer = re.compile(r'[^ąąćęńłóóśśżżź\\w]+')\n",
    "tokenized = tokenizer.split(opis)\n",
    "str(tokenized)"
   ]
  },
  {
   "cell_type": "code",
   "execution_count": 39,
   "metadata": {},
   "outputs": [
    {
     "data": {
      "text/plain": [
       "\"['na', 'sprzedaż', 'piękna', 'kawalerka', 'o', 'powierzchni', '24', 'm2', 'na', 'ostatnim', 'piętrze', '10', 'piętrowego', 'bloku', 'z', 'oknem', 'wychodzącym', 'na', 'spokojną', 'stronę', 'osiedla', 'bardzo', 'dobrze', 'skomunikowane', 'z', 'centrum', 'tramwaje', 'autobusy', 'w', 'pobliżu', 'znajduje', 'się', 'dobra', 'infrastruktura', 'sklepy', 'apteka', 'szkoła', 'targowisko', 'hala', 'banacha', 'oraz', 'park', 'szczęśliwicki', '5', 'minut', 'na', 'piechotę', 'mieszkanie', 'słoneczne', 'i', 'bardzo', 'ustawne', 'budynek', 'po', 'wymianie', 'windy', 'i', 'elektryki', 'w', 'częściach', 'wspólnych', 'serdecznie', 'zapraszamy', 'do', 'kontaktu', '']\""
      ]
     },
     "execution_count": 39,
     "metadata": {},
     "output_type": "execute_result"
    }
   ],
   "source": [
    "tokenized = [ x.lower() for x in tokenized ]\n",
    "str(tokenized)"
   ]
  },
  {
   "cell_type": "code",
   "execution_count": 40,
   "metadata": {},
   "outputs": [],
   "source": [
    "def preprocessing(opis):\n",
    "    opis = no_tags(opis)\n",
    "    tokenized = tokenizer.split(opis)\n",
    "    l = list(tokenized)\n",
    "    l = [ x.lower() for x in l ]\n",
    "    return l"
   ]
  },
  {
   "cell_type": "code",
   "execution_count": 41,
   "metadata": {},
   "outputs": [
    {
     "name": "stdout",
     "output_type": "stream",
     "text": [
      "['na', 'sprzedaż', 'piękna', 'kawalerka', 'o', 'powierzchni', '24', 'm2', 'na', 'ostatnim', 'piętrze', '10', 'piętrowego', 'bloku', 'z', 'oknem', 'wychodzącym', 'na', 'spokojną', 'stronę', 'osiedla', 'bardzo', 'dobrze', 'skomunikowane', 'z', 'centrum', 'tramwaje', 'autobusy', 'w', 'pobliżu', 'znajduje', 'się', 'dobra', 'infrastruktura', 'sklepy', 'apteka', 'szkoła', 'targowisko', 'hala', 'banacha', 'oraz', 'park', 'szczęśliwicki', '5', 'minut', 'na', 'piechotę', 'mieszkanie', 'słoneczne', 'i', 'bardzo', 'ustawne', 'budynek', 'po', 'wymianie', 'windy', 'i', 'elektryki', 'w', 'częściach', 'wspólnych', 'serdecznie', 'zapraszamy', 'do', 'kontaktu', '']\n",
      "\n",
      "['mieszkanie', 'dwupokojowe', 'własnościowe', 'z', '1971', 'r', 'na', 'pierwszym', 'piętrze', 'w', 'bloku', '4', 'piętrowym', 'z', 'ładnym', 'widokiem', 'na', 'podwórko', 'ciche', 'duże', 'podwórko', 'i', 'sporo', 'miejsc', 'parkingowych', 'salon', 'z', 'aneksem', 'kuchennym', '22', 'mkw', 'sypialnia', '9', 'mkw', 'łazienka', 'i', 'korytarz', 'mieszkanie', 'ma', 'mały', 'balkon', 'z', 'widokiem', 'na', 'podwórko', 'okna', 'wychodzą', 'na', 'podwórko', 'mieszkanie', 'jest', 'ciche', 'w', 'mieszkaniu', 'mogą', 'zostać', 'meble', 'na', 'życzenie', 'kupującego', 'mieszkanie', 'odnowione', 'i', 'umeblowane', 'do', 'mieszkania', 'przynależy', 'piwnica', '4', 'mkw', 'do', 'centrum', 'warszawy', '2', 'km', 'blisko', 'metro', 'młyńska', 'bliska', 'wola', 'ul', 'wieluńska', 'wokoło', 'zieleń', '4', 'parki', 'sowińskiego', 'szymanowskiego', 'park', 'moczydło', 'z', 'basenami', 'odkrytymi', 'oraz', 'bazarek', 'olimpia', 'super', 'lokalizacja', 'dużo', 'zieleni', 'i', 'ścieżek', 'rowerowych', '']\n",
      "\n",
      "['opis', 'inwestycji', 'power', 'invest', 'ma', 'przyjemność', 'zaprezentować', 'państwu', '3', 'pokojowe', 'mieszkanie', 'o', 'powierzchni', '65', '57', 'm2', 'z', 'balkonem', 'w', 'nowo', 'powstającej', 'inwestycji', 'przewidziany', 'termin', 'zakończenia', 'budowy', 'to', 'iii', 'kwartał', '2022', 'roku', 'w', 'tej', 'wyjątkowej', 'inwestycji', 'na', 'białołęce', 'tuż', 'przy', 'centrum', 'handlowym', 'galeria', 'północna', 'mieszkańcy', 'będą', 'mieli', 'do', 'dyspozycji', '127', 'mieszkań', 'o', 'wysokości', '2', '70', 'm', 'dostępne', 'będą', 'tu', 'najbardziej', 'poszukiwane', 'kawalerki', 'mieszkania', 'dwu', 'i', 'trzypokojowe', 'oraz', 'przestronne', 'mieszkania', 'czteropokojowe', 'bliskość', 'linii', 'autobusowych', 'tramwajowych', 'trasy', 'mostu', 'północnego', 'zapewni', 'szybką', 'i', 'wygodną', 'komunikację', 'z', 'centrum', 'warszawy', 'tuż', 'przy', 'powstającym', 'budynku', 'znajduje', 'się', 'nowoczesne', 'centrum', 'handlowe', 'galeria', 'północna', 'pełne', 'sklepów', 'w', 'szerokim', 'asortymencie', 'pozwalające', 'wygodnie', 'zrobić', 'codzienne', 'zakupy', 'bliskość', 'lasów', 'miejskich', 'parków', 'i', 'rezerwatów', 'zapewnia', 'z', 'kolei', 'tak', 'upragniony', 'odpoczynek', 'od', 'codziennego', 'zgiełku', 'dużego', 'miasta', 'całkowita', 'powierzchnia', 'mieszkania', '65', '57m2', 'w', 'tym', 'salon', 'aneks', 'kuchenny', '31', '45', 'm2', 'pokój', '11', '10m2', 'pokój', '10', '10m2', 'łazienka', '4', '03m2', 'łazienka', '2', '94m2', 'hall', '3', '82m2', 'pow', 'śc', 'działowych', '2', '13m2', 'balkon', '3', '77m2', 'garaże', 'w', 'inwestycji', 'będą', 'dostępne', 'miejsca', 'postojowe', 'w', 'cenie', '36', '900', '00', 'pln', 'brutto', 'za', 'm2', 'oraz', 'komórki', 'lokatorskie', 'w', 'cenie', '3996', '00', 'pln', 'brutto', 'za', 'm2', 'lokalizacja', 'w', 'najbliższej', 'okolicy', 'powstającego', 'budynku', 'znajduję', 'się', 'wszystko', 'czego', 'potrzeba', 'w', 'codziennym', 'życiu', 'm', 'in', 'apteka', 'przychodnia', 'sklepy', 'markety', 'kino', 'restauracje', 'szkoła', 'przedszkole', 'urząd', 'dzielnicy', 'białołęka', 'galeria', 'północna', 'komunikacja', 'autobus', '270', 'metrów', 'tramwaj', '400', 'metrów', 'merto', '4', '5', 'km', 'odległość', 'od', 'centrum', '14', '1', 'km', 'posiadamy', 'pakiety', 'wykończeniowe', 'w', 'preferencyjnych', 'cenach', 'zapraszam', 'po', 'szczegóły', 'nasi', 'doradcy', 'z', 'power', 'finances', 'pomogą', 'w', 'uzyskaniu', 'najlepszego', 'finansowania', 'kontakt', 'zachęcam', 'do', 'kontaktu', 'z', 'przyjemnością', 'odpowiem', 'na', 'wszelkie', 'pytania', 'oraz', 'zorganizuje', 'prezentację', 'w', 'dogodnym', 'dla', 'państwa', 'terminie', 'anna', 'lisowska', 'tel', '577', '284', '769', 'e', 'mail', 'anna', 'lisowska', 'powerinvest', 'pl', 'treść', 'niniejsza', 'ogłoszenia', 'nie', 'stanowi', 'oferty', 'handlowej', 'w', 'rozumieniu', 'kodeksu', 'cywilnego', 'numer', 'oferty', 'w', 'biurze', '17431', '7649', 'omslokalizacja', 'mazowieckie', 'warszawa', 'białołękaogłoszenie', 'dodane', 'za', 'pomocą', 'trimo', 'pro']\n",
      "\n",
      "['bezpośrednio', 'od', 'dewelopera', 'brak', 'prowizji', '0', 'brak', 'podatku', 'pcc', '2', 'komfortowe', 'dwupoziomowe', 'mieszkanie', '5', 'pokojowe', 'z', 'własnym', 'ogródkiem', 'oraz', '2', 'miejscami', 'postojowymi', 'zamknięte', 'osiedle', 'w', 'otulinie', 'nadwiślańskiego', 'parku', 'krajobrazowego', 'oraz', 'malowniczego', 'rezerwatu', 'przyrody', 'wysp', 'zawadowskich', 'doskonale', 'skomunikowane', 'z', 'bardzo', 'dobrym', 'dojazdem', 'do', 'centrum', 'warszawy', 'około', '20', 'minut', 'w', 'pobliżu', 'znajduje', 'się', 'stacja', 'skm', 'warszawa', 'falenica', 'a', 'także', 'przystanki', 'autobusowe', 'linii', '146', '213', '702', 'n73', 'w', 'pobliżu', 'węzeł', 'trasy', 'mostu', 'południowego', 'którym', 'po', 'oddaniu', 'dojedziemy', 'do', 'sąsiedniego', 'wilanowa', 'w', 'zaledwie', '5', 'minut', 'a', 'do', 'metra', 'w', 'mniej', 'niż', '10', 'min', 'mieszkanie', 'o', 'powierzchni', '127', 'm2', 'składa', 'się', 'z', 'poziom', '1', 'salon', 'z', 'kuchnią', '33', '88', 'm2', 'gabinet', 'sypialnia', '10', '69', 'm2', 'spiżarnia', 'pralnia', 'łazienka', 'wcpoziom', '2', 'sypialni', '16', '05', 'm2', 'z', 'własną', 'łazienką', '4', '48', 'm2', 'i', 'balkonem', '2', 'sypialni', '10', '56', 'm2', 'oraz', '11', '11', 'm2', 'łazienki', '5', '91', 'm2', 'do', 'mieszkania', 'przynależą', '2', 'miejsca', 'postojowe', 'dodatkowo', 'płatne', 'po', '10000', 'złw', 'pobliżu', 'pełna', 'infrastruktura', 'oraz', 'wszystko', 'co', 'potrzebne', 'do', 'wygodnego', 'życia', 'szkoły', 'przedszkola', 'dyskont', 'spożywczy', 'kościół', 'galeria', 'handlowa', 'zakończenie', 'budowy', 'iv', 'kwartał', '2022', 'zapraszam', 'na', 'prezentacjęgrzegorz', 'stopyraalpha', 'nieruchomości574', '077', '400']\n",
      "\n"
     ]
    }
   ],
   "source": [
    "corpus=[]\n",
    "n=4\n",
    "for row in data.iterrows():\n",
    "    opis = row[1][2]\n",
    "    l = preprocessing(opis)\n",
    "    corpus.append(l)\n",
    "    n-=1\n",
    "    if n==0: break\n",
    "\n",
    "for opis in corpus:\n",
    "    print(opis)\n",
    "    print()"
   ]
  },
  {
   "cell_type": "code",
   "execution_count": 43,
   "metadata": {},
   "outputs": [
    {
     "name": "stdout",
     "output_type": "stream",
     "text": [
      "Mamy tekstów: 222\n"
     ]
    }
   ],
   "source": [
    "corpus = []\n",
    "for row in data.iterrows():\n",
    "    opis = row[1][2]\n",
    "    if type(opis) == str:\n",
    "        l = preprocessing(opis)\n",
    "        corpus.append(l)\n",
    "\n",
    "    \n",
    "print(f\"Mamy tekstów: {len(corpus)}\")"
   ]
  },
  {
   "cell_type": "code",
   "execution_count": 44,
   "metadata": {},
   "outputs": [
    {
     "name": "stdout",
     "output_type": "stream",
     "text": [
      "Mamy 46696 wyrazów\n"
     ]
    },
    {
     "data": {
      "text/plain": [
       "['na',\n",
       " 'sprzedaż',\n",
       " 'piękna',\n",
       " 'kawalerka',\n",
       " 'o',\n",
       " 'powierzchni',\n",
       " '24',\n",
       " 'm2',\n",
       " 'na',\n",
       " 'ostatnim',\n",
       " 'piętrze',\n",
       " '10',\n",
       " 'piętrowego',\n",
       " 'bloku',\n",
       " 'z']"
      ]
     },
     "execution_count": 44,
     "metadata": {},
     "output_type": "execute_result"
    }
   ],
   "source": [
    "all_words = []\n",
    "for t in corpus:\n",
    "    all_words += t\n",
    " \n",
    "print(f\"Mamy {len(all_words)} wyrazów\")\n",
    "all_words[:15]"
   ]
  },
  {
   "cell_type": "code",
   "execution_count": 45,
   "metadata": {},
   "outputs": [
    {
     "name": "stdout",
     "output_type": "stream",
     "text": [
      "Mamy 4593 RÓŻNYCH wyrazów\n"
     ]
    }
   ],
   "source": [
    "counter = {}\n",
    "\n",
    "for w in all_words:\n",
    "    counter[w] = counter.get(w,0)+1\n",
    "\n",
    "print(f\"Mamy {len(counter.keys())} RÓŻNYCH wyrazów\")"
   ]
  },
  {
   "cell_type": "code",
   "execution_count": 46,
   "metadata": {},
   "outputs": [
    {
     "data": {
      "text/plain": [
       "[('na', 1048), ('sprzedaż', 15), ('piękna', 5), ('kawalerka', 2)]"
      ]
     },
     "execution_count": 46,
     "metadata": {},
     "output_type": "execute_result"
    }
   ],
   "source": [
    "counted_words= [ (word,cnt) for word,cnt in counter.items() ]\n",
    "counted_words[:4]"
   ]
  },
  {
   "cell_type": "code",
   "execution_count": 47,
   "metadata": {},
   "outputs": [
    {
     "data": {
      "text/plain": [
       "[('w', 1509),\n",
       " ('i', 1293),\n",
       " ('na', 1048),\n",
       " ('z', 1022),\n",
       " ('do', 831),\n",
       " ('się', 457),\n",
       " ('mieszkania', 445),\n",
       " ('pln', 328),\n",
       " ('inwestycji', 313),\n",
       " ('również', 300),\n",
       " ('oraz', 297),\n",
       " ('od', 291),\n",
       " ('premium', 275),\n",
       " ('estates', 274),\n",
       " ('maryla', 274),\n",
       " ('dla', 267),\n",
       " ('jest', 257),\n",
       " ('zapraszamy', 255),\n",
       " ('inwestycja', 234),\n",
       " ('oferty', 231)]"
      ]
     },
     "execution_count": 47,
     "metadata": {},
     "output_type": "execute_result"
    }
   ],
   "source": [
    "from operator import itemgetter\n",
    "\n",
    "counted_words.sort(key=itemgetter(1), reverse=True)\n",
    "counted_words[:20]"
   ]
  },
  {
   "cell_type": "code",
   "execution_count": 48,
   "metadata": {},
   "outputs": [
    {
     "data": {
      "text/plain": [
       "[('kanalizacujna', 1),\n",
       " ('zlikwidowane', 1),\n",
       " ('piecyki', 1),\n",
       " ('zmiany', 1),\n",
       " ('warto', 1),\n",
       " ('powiększyć', 1),\n",
       " ('najmniejszy', 1),\n",
       " ('ścianki', 1),\n",
       " ('działowe', 1),\n",
       " ('zakupić', 1),\n",
       " ('kredytplan', 1),\n",
       " ('zamieszczony', 1),\n",
       " ('chartaker', 1),\n",
       " ('poglądowyzapraszam', 1),\n",
       " ('prezentacji', 1),\n",
       " ('nietuzinkowej', 1),\n",
       " ('dostrzegą', 1),\n",
       " ('zwłaszcza', 1),\n",
       " ('lubujące', 1),\n",
       " ('klimacie', 1)]"
      ]
     },
     "execution_count": 48,
     "metadata": {},
     "output_type": "execute_result"
    }
   ],
   "source": [
    "counted_words[-20:]"
   ]
  },
  {
   "cell_type": "code",
   "execution_count": 49,
   "metadata": {},
   "outputs": [
    {
     "data": {
      "text/plain": [
       "4593"
      ]
     },
     "execution_count": 49,
     "metadata": {},
     "output_type": "execute_result"
    }
   ],
   "source": [
    "counts = [ x[1] for x in counted_words ]\n",
    "len(counts)"
   ]
  },
  {
   "cell_type": "code",
   "execution_count": 50,
   "metadata": {},
   "outputs": [
    {
     "data": {
      "text/plain": [
       "46696"
      ]
     },
     "execution_count": 50,
     "metadata": {},
     "output_type": "execute_result"
    }
   ],
   "source": [
    "sum(counts)"
   ]
  },
  {
   "cell_type": "code",
   "execution_count": 51,
   "metadata": {},
   "outputs": [
    {
     "data": {
      "text/plain": [
       "23292"
      ]
     },
     "execution_count": 51,
     "metadata": {},
     "output_type": "execute_result"
    }
   ],
   "source": [
    "sum(counts[:120])"
   ]
  },
  {
   "cell_type": "code",
   "execution_count": 53,
   "metadata": {},
   "outputs": [
    {
     "data": {
      "text/plain": [
       "[('sportów', 89),\n",
       " ('wyższych', 88),\n",
       " ('teren', 87),\n",
       " ('będzie', 86),\n",
       " ('zabaw', 86),\n",
       " ('30', 86),\n",
       " ('terenie', 85),\n",
       " ('duże', 83),\n",
       " ('dojazdem', 82),\n",
       " ('rozwój', 82),\n",
       " ('natury', 82),\n",
       " ('pok', 82),\n",
       " ('p', 82),\n",
       " ('minut', 81),\n",
       " ('będą', 81),\n",
       " ('dynamiczny', 81),\n",
       " ('ceniących', 81),\n",
       " ('myślą', 81),\n",
       " ('lokalizację', 78),\n",
       " ('ul', 77)]"
      ]
     },
     "execution_count": 53,
     "metadata": {},
     "output_type": "execute_result"
    }
   ],
   "source": [
    "counted_words[110:130]"
   ]
  },
  {
   "cell_type": "code",
   "execution_count": 54,
   "metadata": {},
   "outputs": [
    {
     "data": {
      "text/html": [
       "<div>\n",
       "<style scoped>\n",
       "    .dataframe tbody tr th:only-of-type {\n",
       "        vertical-align: middle;\n",
       "    }\n",
       "\n",
       "    .dataframe tbody tr th {\n",
       "        vertical-align: top;\n",
       "    }\n",
       "\n",
       "    .dataframe thead th {\n",
       "        text-align: right;\n",
       "    }\n",
       "</style>\n",
       "<table border=\"1\" class=\"dataframe\">\n",
       "  <thead>\n",
       "    <tr style=\"text-align: right;\">\n",
       "      <th></th>\n",
       "      <th>0</th>\n",
       "    </tr>\n",
       "  </thead>\n",
       "  <tbody>\n",
       "    <tr>\n",
       "      <th>0</th>\n",
       "      <td>1509</td>\n",
       "    </tr>\n",
       "    <tr>\n",
       "      <th>1</th>\n",
       "      <td>1293</td>\n",
       "    </tr>\n",
       "    <tr>\n",
       "      <th>2</th>\n",
       "      <td>1048</td>\n",
       "    </tr>\n",
       "    <tr>\n",
       "      <th>3</th>\n",
       "      <td>1022</td>\n",
       "    </tr>\n",
       "    <tr>\n",
       "      <th>4</th>\n",
       "      <td>831</td>\n",
       "    </tr>\n",
       "    <tr>\n",
       "      <th>...</th>\n",
       "      <td>...</td>\n",
       "    </tr>\n",
       "    <tr>\n",
       "      <th>115</th>\n",
       "      <td>86</td>\n",
       "    </tr>\n",
       "    <tr>\n",
       "      <th>116</th>\n",
       "      <td>85</td>\n",
       "    </tr>\n",
       "    <tr>\n",
       "      <th>117</th>\n",
       "      <td>83</td>\n",
       "    </tr>\n",
       "    <tr>\n",
       "      <th>118</th>\n",
       "      <td>82</td>\n",
       "    </tr>\n",
       "    <tr>\n",
       "      <th>119</th>\n",
       "      <td>82</td>\n",
       "    </tr>\n",
       "  </tbody>\n",
       "</table>\n",
       "<p>120 rows × 1 columns</p>\n",
       "</div>"
      ],
      "text/plain": [
       "        0\n",
       "0    1509\n",
       "1    1293\n",
       "2    1048\n",
       "3    1022\n",
       "4     831\n",
       "..    ...\n",
       "115    86\n",
       "116    85\n",
       "117    83\n",
       "118    82\n",
       "119    82\n",
       "\n",
       "[120 rows x 1 columns]"
      ]
     },
     "execution_count": 54,
     "metadata": {},
     "output_type": "execute_result"
    }
   ],
   "source": [
    "count_df = pd.DataFrame(counts[:120])\n",
    "count_df"
   ]
  },
  {
   "cell_type": "code",
   "execution_count": 55,
   "metadata": {},
   "outputs": [
    {
     "data": {
      "image/png": "[encoded data removed]",
      "text/plain": [
       "<Figure size 1728x864 with 1 Axes>"
      ]
     },
     "metadata": {},
     "output_type": "display_data"
    }
   ],
   "source": [
    "import numpy as np\n",
    "import seaborn as sns\n",
    "import matplotlib.pyplot as plt\n",
    "import matplotlib.dates as mdates\n",
    "from pandas.plotting import register_matplotlib_converters\n",
    "register_matplotlib_converters()\n",
    "import matplotlib.dates as mdates\n",
    "\n",
    "plt.figure(figsize=(24,12))\n",
    "plt.style.use(\"dark_background\")\n",
    "\n",
    "chart = sns.scatterplot(\n",
    "                     color='purple', \n",
    "                     data=count_df\n",
    "                    )"
   ]
  },
  {
   "cell_type": "markdown",
   "metadata": {},
   "source": [
    "---\n",
    "# Lematyzacja"
   ]
  },
  {
   "cell_type": "markdown",
   "metadata": {},
   "source": [
    "## _Lematyzacja_ - sprowadzenie wyrazu do formy podstawowej tak aby różne formy tego wyrazu (*kot*, *kota*, *kotu*) były rozpatrywane jako ten sam wyraz (*kot*) \n",
    "\n",
    "https://sjp.pl/\n",
    "    \n",
    "Słownik SJP.PL\n",
    "Słownik języka polskiego, ortograficzny, wyrazów obcych i słownik do gier w jednym.\n",
    "\n",
    "Słownik jest rozwijany z myślą o zastosowaniu do sprawdzania pisowni w programach open-source, do gier słownych (np. literaki) i do użytku online jako kilka rodzajów słowników w jednym.\n",
    "\n",
    "Redakcją słownika zajmują się hobbyści.\n",
    "\n",
    "Słownik jest udostępniany na otwartych licencjach (różnych w zależności od wersji)."
   ]
  },
  {
   "cell_type": "raw",
   "metadata": {},
   "source": [
    "...\n",
    "mieszkaniec, mieszkańca, mieszkańcach, mieszkańcami, mieszkańce, mieszkańcem, mieszkańcom, mieszkańcowi, mieszkańców, mieszkańcu, mieszkańcy, mieszkańcze\n",
    "mieszkanie, mieszkania, mieszkaniach, mieszkaniami, mieszkaniem, mieszkaniom, mieszkaniu, mieszkań\n",
    "mieszkaniowy, mieszkaniowa, mieszkaniową, mieszkaniowe, mieszkaniowego, mieszkaniowej, mieszkaniowemu, mieszkaniowi, mieszkaniowo, mieszkaniowych, mieszkaniowym, \n",
    "mieszkaniowymi\n",
    "...\n",
    "(219.228 wyrazów, 4.295.200 form)"
   ]
  },
  {
   "cell_type": "code",
   "execution_count": 19,
   "metadata": {},
   "outputs": [],
   "source": [
    "import gzip\n",
    "import sys\n",
    "import re\n",
    "\n",
    "f = gzip.open('data/odm.txt.gz', 'rt', encoding='utf-8')\n",
    "dictionary = {}\n",
    "\n",
    "for x in f:\n",
    "    t = x.strip().split(',')\n",
    "    tt = [ x.strip().lower() for x in t]\n",
    "    for w in tt[1:]: \n",
    "        dictionary[w]=tt[0]\n"
   ]
  },
  {
   "cell_type": "code",
   "execution_count": 20,
   "metadata": {},
   "outputs": [],
   "source": [
    "def lematize(w):\n",
    "    return dictionary.get(w,w)"
   ]
  },
  {
   "cell_type": "code",
   "execution_count": 21,
   "metadata": {},
   "outputs": [
    {
     "name": "stdout",
     "output_type": "stream",
     "text": [
      "['na', 'sprzedaż', 'piękny', 'kawalerka', 'o', 'powierzchnia', '24', 'm2', 'na', 'ostatni', 'piętro', '10', 'piętrowy', 'blok', 'z', 'okno', 'wychodzić', 'na', 'spokojny', 'strona', 'osiedle', 'bardzo', 'dobry', 'skomunikować', 'z', 'centrum', 'tramwaj', 'autobus', 'w', 'pobliże', 'znajdywać', 'siebie', 'dobry', 'infrastruktura', 'sklep', 'apteka', 'szkoła', 'targowisko', 'hala', 'banach', 'oraz', 'park', 'szczęśliwicki', '5', 'minuta', 'na', 'piechota', 'mieszkać', 'słoneczny', 'i', 'bardzo', 'ustawny', 'budynek', 'po', 'wymian', 'winda', 'i', 'elektryk', 'w', 'część', 'wspólny', 'serdeczny', 'zapraszać', 'do', 'kontakt', '']\n",
      "\n",
      "['mieszkać', 'dwupokojowy', 'własnościowy', 'z', '1971', 'r', 'na', 'pierwszy', 'piętro', 'w', 'blok', '4', 'piętrowy', 'z', 'ładny', 'widok', 'na', 'podwórko', 'cichy', 'duży', 'podwórko', 'i', 'spory', 'miejsce', 'parkingowy', 'salon', 'z', 'aneks', 'kuchenny', '22', 'mkw', 'sypialnia', '9', 'mkw', 'łazienka', 'i', 'korytarz', 'mieszkać', 'mój', 'mały', 'balkon', 'z', 'widok', 'na', 'podwórko', 'okno', 'wychodzić', 'na', 'podwórko', 'mieszkać', 'być', 'cichy', 'w', 'mieszkanie', 'móc', 'zostać', 'mebel', 'na', 'życzyć', 'kupujący', 'mieszkać', 'odnowić', 'i', 'umeblować', 'do', 'mieszkanie', 'przynależeć', 'piwnica', '4', 'mkw', 'do', 'centrum', 'warszawa', '2', 'km', 'bliski', 'metro', 'młyńsko', 'bliski', 'woli', 'ula', 'wieluński', 'wokoło', 'zielenić', '4', 'park', 'sowiński', 'szymanowski', 'park', 'moczydło', 'z', 'basen', 'odkryty', 'oraz', 'bazarek', 'olimpia', 'super', 'lokalizacja', 'duży', 'zielony', 'i', 'ścieżka', 'rowerowy', '']\n",
      "\n",
      "['opis', 'inwestycja', 'power', 'invest', 'mój', 'przyjemność', 'zaprezentować', 'państwo', '3', 'pokojowy', 'mieszkać', 'o', 'powierzchnia', '65', '57', 'm2', 'z', 'balkon', 'w', 'nowy', 'powstawać', 'inwestycja', 'przewidzieć', 'termin', 'zakończyć', 'budowa', 'ten', 'iii', 'kwartał', '2022', 'rok', 'w', 'ten', 'wyjątkowy', 'inwestycja', 'na', 'białołęka', 'tuż', 'przy', 'centrum', 'handlowy', 'galeria', 'północny', 'mieszkaniec', 'być', 'mielić', 'do', 'dyspozycja', '127', 'mieszkanie', 'o', 'wysokość', '2', '70', 'm', 'dostępny', 'być', 'tu', 'najbardziej', 'poszukiwany', 'kawalerka', 'mieszkanie', 'dwa', 'i', 'trzypokojowy', 'oraz', 'przestronny', 'mieszkanie', 'czteropokojowy', 'bliskość', 'linia', 'autobusowy', 'tramwajowy', 'tras', 'most', 'północny', 'zapewnić', 'szybki', 'i', 'wygodny', 'komunikacja', 'z', 'centrum', 'warszawa', 'tuż', 'przy', 'powstawać', 'budynek', 'znajdywać', 'siebie', 'nowoczesny', 'centrum', 'handlowy', 'galeria', 'północny', 'pełny', 'sklep', 'w', 'szeroki', 'asortyment', 'pozwalać', 'wygodny', 'zrobić', 'codzienny', 'zakup', 'bliskość', 'las', 'miejski', 'park', 'i', 'rezerwat', 'zapewniać', 'z', 'kolej', 'taka', 'upragniony', 'odpoczynek', 'oda', 'codzienny', 'zgiełk', 'duży', 'miasto', 'całkowity', 'powierzchnia', 'mieszkanie', '65', '57m2', 'w', 'ten', 'salon', 'aneks', 'kuchenny', '31', '45', 'm2', 'pokój', '11', '10m2', 'pokój', '10', '10m2', 'łazienka', '4', '03m2', 'łazienka', '2', '94m2', 'hall', '3', '82m2', 'pow', 'śc', 'działowy', '2', '13m2', 'balkon', '3', '77m2', 'garaż', 'w', 'inwestycja', 'być', 'dostępny', 'miejsce', 'postojowy', 'w', 'cena', '36', '900', '00', 'pln', 'brutto', 'za', 'm2', 'oraz', 'komórka', 'lokatorski', 'w', 'cena', '3996', '00', 'pln', 'brutto', 'za', 'm2', 'lokalizacja', 'w', 'najbliższy', 'okolica', 'powstawać', 'budynek', 'znajdywać', 'siebie', 'wszystek', 'co', 'potrzeba', 'w', 'codzienny', 'żyć', 'm', 'in', 'apteka', 'przychodzień', 'sklep', 'market', 'kina', 'restauracja', 'szkoła', 'przedszkole', 'urząd', 'dzielnica', 'białołęka', 'galeria', 'północny', 'komunikacja', 'autobus', '270', 'metr', 'tramwaj', '400', 'metr', 'merta', '4', '5', 'km', 'odległość', 'oda', 'centrum', '14', '1', 'km', 'posiadać', 'pakiet', 'wykończeniowy', 'w', 'preferencyjny', 'cena', 'zapraszać', 'po', 'szczegół', 'nasz', 'doradca', 'z', 'power', 'finances', 'pomóc', 'w', 'uzyskać', 'najlepszy', 'finansować', 'kontakt', 'zachęcać', 'do', 'kontakt', 'z', 'przyjemność', 'odpowiedzieć', 'na', 'wszelki', 'pytanie', 'oraz', 'zorganizować', 'prezentacja', 'w', 'dogodny', 'dla', 'państwo', 'termin', 'anna', 'lisowski', 'tel', '577', '284', '769', 'e', 'mail', 'anna', 'lisowski', 'powerinvest', 'pl', 'treść', 'niniejszy', 'ogłoszenie', 'on', 'stan', 'oferta', 'handlowy', 'w', 'rozumienie', 'kodeks', 'cywilny', 'numer', 'oferta', 'w', 'biuro', '17431', '7649', 'omslokalizacja', 'mazowiecki', 'warszawa', 'białołękaogłoszenie', 'dodać', 'za', 'pomoc', 'trimo', 'pro']\n",
      "\n",
      "['bezpośredni', 'oda', 'deweloper', 'brak', 'prowizja', '0', 'brak', 'podatek', 'pcc', '2', 'komfortowy', 'dwupoziomowy', 'mieszkać', '5', 'pokojowy', 'z', 'własny', 'ogródek', 'oraz', '2', 'miejsce', 'postojowy', 'zamknięty', 'osiedle', 'w', 'otulina', 'nadwiślański', 'park', 'krajobrazowy', 'oraz', 'malowniczy', 'rezerwat', 'przyroda', 'wyspa', 'zawadowski', 'doskonały', 'skomunikować', 'z', 'bardzo', 'dobry', 'dojazd', 'do', 'centrum', 'warszawa', 'około', '20', 'minuta', 'w', 'pobliże', 'znajdywać', 'siebie', 'stacja', 'skm', 'warszawa', 'falenica', 'a', 'także', 'przystanek', 'autobusowy', 'linia', '146', '213', '702', 'n73', 'w', 'pobliże', 'węzeł', 'tras', 'most', 'południowy', 'który', 'po', 'oddanie', 'dojechać', 'do', 'sąsiedni', 'wilanów', 'w', 'zaledwie', '5', 'minuta', 'a', 'do', 'metr', 'w', 'mniej', 'nizać', '10', 'mina', 'mieszkać', 'o', 'powierzchnia', '127', 'm2', 'składać', 'siebie', 'z', 'poziom', '1', 'salon', 'z', 'kuchnia', '33', '88', 'm2', 'gabinet', 'sypialnia', '10', '69', 'm2', 'spiżarnia', 'pralnia', 'łazienka', 'wcpoziom', '2', 'sypialny', '16', '05', 'm2', 'z', 'własny', 'łazienka', '4', '48', 'm2', 'i', 'balkon', '2', 'sypialny', '10', '56', 'm2', 'oraz', '11', '11', 'm2', 'łazienka', '5', '91', 'm2', 'do', 'mieszkanie', 'przynależeć', '2', 'miejsce', 'postojowy', 'dodatkowy', 'płatny', 'po', '10000', 'złw', 'pobliże', 'pełny', 'infrastruktura', 'oraz', 'wszystek', 'co', 'potrzebny', 'do', 'wygodny', 'żyć', 'szkoła', 'przedszkole', 'dyskonto', 'spożywczy', 'kościół', 'galeria', 'handlowy', 'zakończyć', 'budowa', 'iv', 'kwartał', '2022', 'zapraszać', 'na', 'prezentacjęgrzegorz', 'stopyraalpha', 'nieruchomości574', '077', '400']\n",
      "\n"
     ]
    }
   ],
   "source": [
    "corpusl = [[ lematize(x) for x in l ] for l in corpus]\n",
    "for opis in corpusl[:4]:\n",
    "    print(opis)\n",
    "    print()"
   ]
  },
  {
   "cell_type": "code",
   "execution_count": 22,
   "metadata": {},
   "outputs": [
    {
     "name": "stdout",
     "output_type": "stream",
     "text": [
      "Mamy 46696 wyrazów\n"
     ]
    },
    {
     "data": {
      "text/plain": [
       "['na',\n",
       " 'sprzedaż',\n",
       " 'piękny',\n",
       " 'kawalerka',\n",
       " 'o',\n",
       " 'powierzchnia',\n",
       " '24',\n",
       " 'm2',\n",
       " 'na',\n",
       " 'ostatni',\n",
       " 'piętro',\n",
       " '10',\n",
       " 'piętrowy',\n",
       " 'blok',\n",
       " 'z']"
      ]
     },
     "execution_count": 22,
     "metadata": {},
     "output_type": "execute_result"
    }
   ],
   "source": [
    "all_words = []\n",
    "for t in corpusl:\n",
    "    all_words += t\n",
    " \n",
    "print(f\"Mamy {len(all_words)} wyrazów\")\n",
    "all_words[:15]"
   ]
  },
  {
   "cell_type": "code",
   "execution_count": 23,
   "metadata": {},
   "outputs": [
    {
     "name": "stdout",
     "output_type": "stream",
     "text": [
      "Mamy 3139 RÓŻNYCH wyrazów\n"
     ]
    }
   ],
   "source": [
    "counter = {}\n",
    "\n",
    "for w in all_words:\n",
    "    counter[w] = counter.get(w,0)+1\n",
    "\n",
    "print(f\"Mamy {len(counter.keys())} RÓŻNYCH wyrazów\")"
   ]
  },
  {
   "cell_type": "code",
   "execution_count": 24,
   "metadata": {},
   "outputs": [
    {
     "data": {
      "text/plain": [
       "[('w', 1509),\n",
       " ('i', 1293),\n",
       " ('na', 1048),\n",
       " ('z', 1022),\n",
       " ('do', 831),\n",
       " ('inwestycja', 553),\n",
       " ('być', 495),\n",
       " ('siebie', 494),\n",
       " ('mieszkanie', 469),\n",
       " ('miejsce', 440),\n",
       " ('oferta', 434),\n",
       " ('warszawa', 376),\n",
       " ('pln', 328),\n",
       " ('zapraszać', 310),\n",
       " ('ten', 309),\n",
       " ('również', 300),\n",
       " ('oraz', 297),\n",
       " ('oda', 291),\n",
       " ('premium', 275),\n",
       " ('estates', 274)]"
      ]
     },
     "execution_count": 24,
     "metadata": {},
     "output_type": "execute_result"
    }
   ],
   "source": [
    "from operator import itemgetter\n",
    "counted_words= [ (word,cnt) for word,cnt in counter.items() ]\n",
    "counted_words.sort(key=itemgetter(1), reverse=True)\n",
    "counted_words[:20]"
   ]
  },
  {
   "cell_type": "code",
   "execution_count": 34,
   "metadata": {},
   "outputs": [
    {
     "data": {
      "image/png": "[encoded data removed]",
      "text/plain": [
       "<Figure size 1728x864 with 1 Axes>"
      ]
     },
     "metadata": {},
     "output_type": "display_data"
    }
   ],
   "source": [
    "import numpy as np\n",
    "import seaborn as sns\n",
    "import matplotlib.pyplot as plt\n",
    "import matplotlib.dates as mdates\n",
    "from pandas.plotting import register_matplotlib_converters\n",
    "register_matplotlib_converters()\n",
    "import matplotlib.dates as mdates\n",
    "\n",
    "counts = [ x[1] for x in counted_words ]\n",
    "count_df = pd.DataFrame(counts[:120])\n",
    "count_df\n",
    "\n",
    "plt.figure(figsize=(24,12))\n",
    "plt.style.use(\"dark_background\")\n",
    "\n",
    "chart = sns.scatterplot(\n",
    "        color='purple', \n",
    "        data=count_df\n",
    "        )"
   ]
  },
  {
   "cell_type": "markdown",
   "metadata": {},
   "source": [
    "---\n",
    "## Metryka TF-IDF\n",
    "ile razy występuję wyraz *i* w tekście *j*\n",
    "$${n}_{ij}$$ \n",
    " ### Term Frequency (TF)\n",
    " \n",
    " $${tf}_{ij} = \\frac{{n}_{ij}}{\\sum{k}{{n}_{ik}}}$$\n",
    " \n",
    " W tekście *j* sprawdzamy ile proporcjonalnie do całości występuje wyraz *i*\n",
    "### Inverted Document Frequency (IDF)\n",
    "\n",
    " $$idf_i = log \\frac{|D|}{ \\{ d: n_i \\in d \\}}$$\n",
    " \n",
    " licznik - liczba dokumentów\n",
    " \n",
    " mianownik - liczba dokumentów w którym wystapił wyraz *i*-ty "
   ]
  },
  {
   "cell_type": "markdown",
   "metadata": {},
   "source": [
    "ile razy występuję wyraz *i* w tekście *j*"
   ]
  },
  {
   "cell_type": "markdown",
   "metadata": {},
   "source": [
    "$${n}_{ij}$$ "
   ]
  },
  {
   "cell_type": "markdown",
   "metadata": {},
   "source": [
    " ### Term Frequency (TF)\n",
    " \n",
    " $${tf}_{ij} = \\frac{{n}_{ij}}{\\sum{k}{{n}_{ik}}}$$\n",
    " \n",
    " W tekście *j* sprawdzamy ile proporcjonalnie do całości występuje wyraz *i*"
   ]
  },
  {
   "cell_type": "markdown",
   "metadata": {},
   "source": [
    "### Inverted Document Frequency (IDF)\n",
    "\n",
    " $$idf_i = log \\frac{|D|}{ \\{ d: n_i \\in d \\}}$$\n",
    " \n",
    " licznik - liczba dokumentów\n",
    " \n",
    " mianownik - liczba dokumentów w którym wystapił wyraz *i*-ty "
   ]
  },
  {
   "cell_type": "markdown",
   "metadata": {},
   "source": [
    "---\n",
    "## Zadanie 1\n",
    "\n",
    "Podać wyrazy z korpusu o największym `TF-IDF` z pominięciem wyrazów które wystepują _**raz**_."
   ]
  },
  {
   "cell_type": "code",
   "execution_count": null,
   "metadata": {},
   "outputs": [],
   "source": []
  }
 ],
 "metadata": {
  "kernelspec": {
   "display_name": "Python 3",
   "language": "python",
   "name": "python3"
  },
  "language_info": {
   "codemirror_mode": {
    "name": "ipython",
    "version": 3
   },
   "file_extension": ".py",
   "mimetype": "text/x-python",
   "name": "python",
   "nbconvert_exporter": "python",
   "pygments_lexer": "ipython3",
   "version": "3.7.5"
  }
 },
 "nbformat": 4,
 "nbformat_minor": 4
}
