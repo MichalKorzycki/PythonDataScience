{
 "cells": [
  {
   "cell_type": "markdown",
   "metadata": {},
   "source": [
    "# Warsztaty Python w Data Science\n",
    "\n",
    "---\n",
    "## Część 2 z 2 - Zaawansowana wizualizacja danych  \n",
    "\n",
    "- ## Pobranie danych\n",
    "   #### - JSON. Pobieranie danych ze zdalnych API.\n",
    "   #### - Data Wrangling\n",
    "\n",
    "- ##  Przykłady _*Feature Engineering*_\n",
    "- ##  Wizualizacja przykładu\n",
    "\n",
    "---\n",
    "\n",
    "# \"'Applied machine learning' is basically feature engineering.” <div style=\"text-align: right\">—  Prof. Andrew Ng.</div> \n",
    "\n",
    "---"
   ]
  },
  {
   "cell_type": "markdown",
   "metadata": {},
   "source": [
    "# Zadanie 1\n",
    "\n",
    "Narysuj wykres o kształcie okręgu\n",
    "\n"
   ]
  },
  {
   "cell_type": "code",
   "execution_count": null,
   "metadata": {},
   "outputs": [],
   "source": [
    "%matplotlib inline\n",
    "import matplotlib.pyplot as plt\n",
    "plt.style.use(\"dark_background\")\n",
    "circle=plt.Circle((0,0),2)\n",
    "# here must be something like circle.plot() or not?\n",
    "ax=plt.gca()\n",
    "ax.add_patch(circle)\n",
    "plt.axis('scaled')\n",
    "plt.show()"
   ]
  },
  {
   "cell_type": "code",
   "execution_count": null,
   "metadata": {},
   "outputs": [],
   "source": [
    "%matplotlib inline\n",
    "import matplotlib.pyplot as plt\n",
    "import numpy as np\n",
    "plt.style.use(\"dark_background\")\n",
    "\n",
    "u = np.linspace(-1, 1, 100)\n",
    "\n",
    "x = 10 * np.outer(np.cos(u), np.sin(u))\n",
    "plt.plot(u,np.sqrt(1-u*u))\n",
    "plt.plot(u,-np.sqrt(1-u*u))\n",
    "plt.show()"
   ]
  },
  {
   "cell_type": "code",
   "execution_count": null,
   "metadata": {},
   "outputs": [],
   "source": [
    "%matplotlib inline\n",
    "import matplotlib.pyplot as plt\n",
    "import numpy as np\n",
    "plt.style.use(\"dark_background\")\n",
    "\n",
    "u = np.linspace(-1, 1, 100)\n",
    "\n",
    "plt.subplot(211)\n",
    "x = 10 * np.outer(np.cos(u), np.sin(u))\n",
    "plt.plot(u,np.sqrt(1-u*u))\n",
    "plt.plot(u,-np.sqrt(1-u*u))\n",
    "\n",
    "plt.subplot(212)\n",
    "x = 10 * np.outer(np.cos(u), np.sin(u))\n",
    "plt.plot(u,np.sqrt(1-u*u))\n",
    "plt.plot(u,-np.sqrt(1-u*u))\n",
    "plt.show()"
   ]
  },
  {
   "cell_type": "code",
   "execution_count": null,
   "metadata": {},
   "outputs": [],
   "source": [
    "\n",
    "import matplotlib.pyplot as plt\n",
    "import numpy as np\n",
    "plt.figure(figsize=(20,10))\n",
    "# Plot circle or radius 3\n",
    "plt.style.use(\"dark_background\")\n",
    "\n",
    "an = np.linspace(0, 2*np.pi, 100)\n",
    "\n",
    "plt.subplot(221)\n",
    "plt.plot(3*np.cos(an), 3*np.sin(an))\n",
    "plt.title('nierówne osie, elipsa', fontsize=10)\n",
    "\n",
    "plt.subplot(222)\n",
    "plt.plot(3*np.cos(an), 3*np.sin(an))\n",
    "plt.axis('equal')\n",
    "plt.title('równe', fontsize=10)\n",
    "\n",
    "plt.subplot(223)\n",
    "plt.plot(3*np.cos(an), 3*np.sin(an))\n",
    "plt.axis('equal')\n",
    "plt.axis([-3, 3, -3, 3])\n",
    "plt.title('okrąg, nawet po zmiane zakresów', fontsize=10)\n",
    "\n",
    "plt.subplot(224)\n",
    "plt.plot(3*np.cos(an), 3*np.sin(an))\n",
    "plt.axis('equal')\n",
    "plt.axis([-3, 3, -3, 3])\n",
    "plt.plot([0, 4], [0, 2])\n",
    "plt.title('równe, i to z linią', fontsize=10)\n",
    "\n",
    "plt.show()"
   ]
  },
  {
   "cell_type": "code",
   "execution_count": null,
   "metadata": {},
   "outputs": [],
   "source": [
    "import numpy as np \n",
    "import matplotlib.pyplot as plt \n",
    "  \n",
    "  \n",
    "# setting the axes projection as polar \n",
    "plt.axes(projection = 'polar') \n",
    "  \n",
    "# setting the radius \n",
    "r = 2\n",
    "  \n",
    "# creating an array containing the \n",
    "# radian values \n",
    "rads = np.arange(0, (4 * np.pi), 0.01) \n",
    "  \n",
    "# plotting the circle \n",
    "for rad in rads: \n",
    "    plt.polar(rad, rad/2, 'r.') \n",
    "  \n",
    "# display the Polar plot \n",
    "plt.show() "
   ]
  },
  {
   "cell_type": "code",
   "execution_count": null,
   "metadata": {},
   "outputs": [],
   "source": [
    "import numpy as np \n",
    "import matplotlib.pyplot as plt \n",
    "  \n",
    "  \n",
    "# setting the axes projection as polar \n",
    "plt.axes(projection = 'polar') \n",
    "  \n",
    "# setting the radius \n",
    "r = 2\n",
    "  \n",
    "# creating an array containing the \n",
    "# radian values \n",
    "rads = np.arange(0, (4 * np.pi), 0.01) \n",
    "  \n",
    "# plotting the circle \n",
    "for rad in rads: \n",
    "    plt.polar(rad, 2, 'r.') \n",
    "  \n",
    "# display the Polar plot \n",
    "plt.show() "
   ]
  },
  {
   "cell_type": "markdown",
   "metadata": {},
   "source": [
    "---"
   ]
  },
  {
   "cell_type": "markdown",
   "metadata": {},
   "source": [
    "# Zadanie 2\n",
    "\n",
    "Korzystając z następujących danych:\n",
    "    \n",
    "http://astronomia.zagan.pl/art/wspolrzedne.html\n",
    "\n",
    "https://pl.wikipedia.org/wiki/Dane_statystyczne_o_miastach_w_Polsce\n",
    "    \n",
    "    \n",
    "Zamieść na mapie Polski 50 największych miast, ze wielkością znacznika odpowiadającą liczbie mieszkańców"
   ]
  },
  {
   "cell_type": "code",
   "execution_count": null,
   "metadata": {},
   "outputs": [],
   "source": [
    "import pandas as pd\n",
    "\n",
    "miasta = pd.read_csv('data\\pl_miasta.csv', delimiter='\\t')"
   ]
  },
  {
   "cell_type": "code",
   "execution_count": null,
   "metadata": {},
   "outputs": [],
   "source": [
    "miasta.head()"
   ]
  },
  {
   "cell_type": "code",
   "execution_count": null,
   "metadata": {},
   "outputs": [],
   "source": [
    "columns = list(miasta.columns)"
   ]
  },
  {
   "cell_type": "code",
   "execution_count": null,
   "metadata": {},
   "outputs": [],
   "source": [
    "columns[3]='powierzchnia'\n",
    "columns[4]='ludnosc'\n",
    "columns[5]='zaludnienie'\n",
    "miasta.columns=columns\n",
    "miasta.head()"
   ]
  },
  {
   "cell_type": "code",
   "execution_count": null,
   "metadata": {},
   "outputs": [],
   "source": [
    "wspolrzedne=pd.read_fwf('data\\pl_wspolrzedne.csv',infer_nrows=3, encoding='utf8')"
   ]
  },
  {
   "cell_type": "code",
   "execution_count": null,
   "metadata": {},
   "outputs": [],
   "source": [
    "wspolrzedne.head()"
   ]
  },
  {
   "cell_type": "code",
   "execution_count": null,
   "metadata": {},
   "outputs": [],
   "source": [
    "wspolrzedne.columns=['Miasto', 'Dlugosc', 'Szerokosc']\n",
    "wspolrzedne.head()"
   ]
  },
  {
   "cell_type": "code",
   "execution_count": null,
   "metadata": {},
   "outputs": [],
   "source": [
    "miasta2=miasta.sort_values(by=['ludnosc'], ascending=False)\n",
    "miasta2.reset_index(inplace=True)\n",
    "miasta2.head()"
   ]
  },
  {
   "cell_type": "code",
   "execution_count": null,
   "metadata": {},
   "outputs": [],
   "source": [
    "miasta=miasta.sort_values(by=['ludnosc'], ascending=False)\n",
    "miasta.reset_index(inplace=True, drop=True)\n",
    "miasta.head()"
   ]
  },
  {
   "cell_type": "code",
   "execution_count": null,
   "metadata": {},
   "outputs": [],
   "source": [
    "miasta=miasta.nlargest(50, ['ludnosc'])"
   ]
  },
  {
   "cell_type": "code",
   "execution_count": null,
   "metadata": {},
   "outputs": [],
   "source": [
    "miasta"
   ]
  },
  {
   "cell_type": "code",
   "execution_count": null,
   "metadata": {},
   "outputs": [],
   "source": [
    "miasta_z_indeksem=miasta.reset_index()\n",
    "miasta_z_indeksem.head()"
   ]
  },
  {
   "cell_type": "code",
   "execution_count": null,
   "metadata": {},
   "outputs": [],
   "source": [
    "import numpy as np\n",
    "import seaborn as sns\n",
    "import matplotlib.pyplot as plt\n",
    "import matplotlib.dates as mdates"
   ]
  },
  {
   "cell_type": "code",
   "execution_count": null,
   "metadata": {},
   "outputs": [],
   "source": [
    "plt.figure(figsize=(20,10))\n",
    "plt.style.use(\"dark_background\")\n",
    "\n",
    "chart = sns.lineplot(x='index',\n",
    "                     y='ludnosc',\n",
    "                     linestyle='-', marker='o',\n",
    "                     palette='bright',  markeredgecolor=\"black\",   \n",
    "                     data=miasta_z_indeksem\n",
    "                    )\n",
    "\n",
    "chart.set_title('Ludnosc miast w Polsce')\n",
    "plt.show();"
   ]
  },
  {
   "cell_type": "code",
   "execution_count": null,
   "metadata": {},
   "outputs": [],
   "source": [
    "df=miasta.set_index('Miasto').join(wspolrzedne.set_index('Miasto'))"
   ]
  },
  {
   "cell_type": "code",
   "execution_count": null,
   "metadata": {},
   "outputs": [],
   "source": [
    "df"
   ]
  },
  {
   "cell_type": "code",
   "execution_count": null,
   "metadata": {},
   "outputs": [],
   "source": [
    "df.reset_index(inplace=True, drop=False)"
   ]
  },
  {
   "cell_type": "code",
   "execution_count": null,
   "metadata": {},
   "outputs": [],
   "source": [
    "df.shape"
   ]
  },
  {
   "cell_type": "code",
   "execution_count": null,
   "metadata": {},
   "outputs": [],
   "source": [
    "df"
   ]
  },
  {
   "cell_type": "code",
   "execution_count": null,
   "metadata": {},
   "outputs": [],
   "source": [
    "miasta_na_wykres = {}\n",
    "\n",
    "for ind in df.index: \n",
    "    print(df['Miasto'][ind], df['Dlugosc'][ind] , df['Szerokosc'][ind] , df['ludnosc'][ind])\n",
    "    "
   ]
  },
  {
   "cell_type": "code",
   "execution_count": null,
   "metadata": {},
   "outputs": [],
   "source": [
    "def geo2float(s):\n",
    "    s=s.replace('°','.')\n",
    "    s=s[:5]\n",
    "    return float(s)"
   ]
  },
  {
   "cell_type": "code",
   "execution_count": null,
   "metadata": {},
   "outputs": [],
   "source": [
    "geo2float(\"19°28'E\")"
   ]
  },
  {
   "cell_type": "code",
   "execution_count": null,
   "metadata": {},
   "outputs": [],
   "source": [
    "import numpy as np\n",
    "\n",
    "miasta_na_wykres = {}\n",
    "\n",
    "for ind in df.index: \n",
    "    try:\n",
    "        miasta_na_wykres[df['Miasto'][ind]] = { 'pos': (\n",
    "                                                     geo2float(df['Szerokosc'][ind]),\n",
    "                                                     geo2float(df['Dlugosc'][ind])\n",
    "                                                   ),\n",
    "                                             'ilosc': df['ludnosc'][ind]//50000,\n",
    "                                             'symbol': 'ro'\n",
    "                                              }\n",
    "    except:\n",
    "        print('Problem w %s'%df['Miasto'][ind] )"
   ]
  },
  {
   "cell_type": "code",
   "execution_count": null,
   "metadata": {},
   "outputs": [],
   "source": [
    "miasta_na_wykres "
   ]
  },
  {
   "cell_type": "code",
   "execution_count": null,
   "metadata": {},
   "outputs": [],
   "source": [
    "import mpl_toolkits\n",
    "\n",
    "from mpl_toolkits.basemap import Basemap\n",
    "import matplotlib.pyplot as plt\n",
    "import numpy as np\n",
    "import warnings\n",
    "warnings.filterwarnings('ignore')\n",
    "plt.style.use(\"classic\")\n",
    "miasta = miasta_na_wykres\n",
    "# zakres mapy (Polska)\n",
    "lat_min, lat_max = 48.8, 55.0\n",
    "lon_min, lon_max = 13.8, 24.4\n",
    "\n",
    "# wymiary rysunku\n",
    "fig = plt.figure(figsize=(10.0, 9.0))\n",
    "\n",
    "# marginesy\n",
    "plt.subplots_adjust(left=0.10, right=0.90, top=0.90, bottom=0.10, wspace=0.15, hspace=0.05)\n",
    "\n",
    "# tworzenie mapy dla Polski\n",
    "m = Basemap(resolution='i', projection='merc', llcrnrlat=lat_min, urcrnrlat=lat_max, llcrnrlon=lon_min, urcrnrlon=lon_max)\n",
    "\n",
    "# grubość granic i linii wybrzeży\n",
    "m.drawcountries(linewidth=0.5)\n",
    "m.drawcoastlines(linewidth=0.5)\n",
    "\n",
    "#m.drawrivers()\n",
    "\n",
    "# równoleżniki i południki\n",
    "m.drawparallels(np.arange(lat_min, lat_max, 1.), labels=[1,0,0,0], color='black', dashes=[1,5], labelstyle='+/-', linewidth=0.2)\n",
    "m.drawmeridians(np.arange(lon_min, lon_max, 1.), labels=[0,0,0,1], color='black', dashes=[1,5], labelstyle='+/-', linewidth=0.2)\n",
    "\n",
    "# rysowanie danych\n",
    "for nazwa, dane in miasta.items():\n",
    "    # współrzędne w odwrotnej kolejności\n",
    "    x, y = m(dane['pos'][1]+0.15, dane['pos'][0]+0.32)\n",
    "\n",
    "    # narysowanie symbolu\n",
    "    m.plot(x, y, dane['symbol'], markersize=dane['ilosc'])\n",
    "\n",
    "    # wypisanie etykiety (z przesunięciem)\n",
    "    plt.text(x+(dane['ilosc']*1000), y+(dane['ilosc']*1000), nazwa)\n",
    "\n",
    "# tytul\n",
    "plt.title(\"Miasta na terenie Polski\")\n",
    "\n",
    "# i wyslanie na ekran\n",
    "plt.show();"
   ]
  },
  {
   "cell_type": "markdown",
   "metadata": {},
   "source": [
    "# ... I już wiem czemu używa się `cartopy`\n",
    "\n",
    "## W `cartopy` mamy `transform` i `projection` jasno zdefiniowane\n",
    "## I ma mniej bugów ... "
   ]
  },
  {
   "cell_type": "markdown",
   "metadata": {},
   "source": [
    "---"
   ]
  },
  {
   "cell_type": "markdown",
   "metadata": {},
   "source": [
    "## Pobranie danych ze zdalnych API"
   ]
  },
  {
   "cell_type": "markdown",
   "metadata": {},
   "source": [
    "API"
   ]
  },
  {
   "cell_type": "markdown",
   "metadata": {},
   "source": [
    "https://api.covid19api.com/"
   ]
  },
  {
   "cell_type": "markdown",
   "metadata": {},
   "source": [
    "## JavaScript Object Notation - JSON"
   ]
  },
  {
   "cell_type": "code",
   "execution_count": null,
   "metadata": {},
   "outputs": [],
   "source": [
    "import json\n",
    "from pprint import pprint\n",
    "\n",
    "data = [ {\"Name\": \"Jan\", \"Surname\": \"Kowalski\", \"Age\": 37}, {\"Name\": \"Marek\", \"Surname\": \"Nowak\", \"Age\": 53}]\n",
    "\n",
    "my_json_string = json.dumps(data)\n",
    "type(my_json_string)\n",
    "pprint(my_json_string)"
   ]
  },
  {
   "cell_type": "code",
   "execution_count": null,
   "metadata": {},
   "outputs": [],
   "source": [
    "my_json_object = json.loads(my_json_string)\n",
    "pprint(my_json_object)"
   ]
  },
  {
   "cell_type": "markdown",
   "metadata": {},
   "source": [
    "# Pobieranie danych ze zdalnych API"
   ]
  },
  {
   "cell_type": "code",
   "execution_count": null,
   "metadata": {},
   "outputs": [],
   "source": [
    "import requests"
   ]
  },
  {
   "cell_type": "code",
   "execution_count": null,
   "metadata": {},
   "outputs": [],
   "source": [
    "import requests\n",
    "\n",
    "url = \"https://api.covid19api.com/\"\n",
    "response = requests.request(method=\"GET\", url=url)\n",
    "print(response.text)"
   ]
  },
  {
   "cell_type": "code",
   "execution_count": null,
   "metadata": {},
   "outputs": [],
   "source": [
    "from pprint import pprint\n",
    "\n",
    "json_response = response.json()\n",
    "pprint(json_response[\"countriesRoute\"])"
   ]
  },
  {
   "cell_type": "code",
   "execution_count": null,
   "metadata": {},
   "outputs": [],
   "source": [
    "url = \"https://api.covid19api.com/countries\"\n",
    "response = requests.request(method=\"GET\", url=url)\n",
    "pprint(response.json()[:15])"
   ]
  },
  {
   "cell_type": "code",
   "execution_count": null,
   "metadata": {},
   "outputs": [],
   "source": [
    "import json\n",
    "import requests \n",
    "import pandas as pd\n",
    "import numpy as np\n",
    "from datetime import datetime \n",
    "import warnings\n",
    "warnings.filterwarnings(\"ignore\")\n",
    "\n",
    "countries = ['us']\n",
    "\n",
    "url = \"https://api.covid19api.com/total/dayone/country/%s\"\n",
    "\n",
    "input_data = []\n",
    "\n",
    "with requests.Session() as s:\n",
    "    for country in countries:\n",
    "        input_data += s.get(url%country).json()\n",
    "        \n",
    "input_data"
   ]
  },
  {
   "cell_type": "code",
   "execution_count": null,
   "metadata": {},
   "outputs": [],
   "source": [
    "import json\n",
    "import requests \n",
    "import pandas as pd\n",
    "import numpy as np\n",
    "from datetime import datetime \n",
    "import warnings\n",
    "warnings.filterwarnings(\"ignore\")\n",
    "\n",
    "countries = ['pl', 'us', 'it', 'uk', 'es', 'cn', 'ir', 'tr', 'se', 'de' ]\n",
    "\n",
    "url = \"https://api.covid19api.com/total/dayone/country/%s\"\n",
    "\n",
    "input_data = []\n",
    "\n",
    "with requests.Session() as s:\n",
    "    for country in countries:\n",
    "        input_data += s.get(url%country).json()\n",
    "\n",
    "now = datetime.now().strftime(\"%Y-%m-%d\")\n",
    "countries.append(now)\n",
    "fname = 'data\\\\'+'-'.join(countries)+\".json\"\n",
    "with open(fname, 'w') as f:\n",
    "    json.dump(input_data, f)\n",
    "    print(f'Zapisałem plik {fname}')\n",
    "\n",
    "print(\"Przeczytano %d wierszy \" % len(input_data) )\n",
    "\n",
    "raw_data = pd.DataFrame(input_data)\n",
    "raw_data"
   ]
  },
  {
   "cell_type": "markdown",
   "metadata": {},
   "source": [
    "---\n",
    "## Parametry sterujące analizą\n",
    "- `DAYS_WINDOW` - za ile dni wstecz od najświeższych danych w zbiorze ma być wykonana analiza np. `DAYS_WINDOW=7` - dane z tygodnia\n",
    "- `N` - dla ilu krajów naraz ma być wykonana analiza\n",
    "- `SET` - dla której _\"N-ki\"_  ma być wykonana analiza; np. przy `N=10` dla `SET=0` będzie to 1-sza dziesiątka, `SET=1` będzie to 2-ga dziesiątka itd.\n",
    "- `ROLL` - za ile dni ma być liczona średnia krocząca\n",
    "- `DELTADAYS` - przy ustalaniu składu kolejnych `N` brana jest wartość `Confirmed` sprzed `DELTADAYS` dni. Przydaje się w sytuacji gdy nie \"spłynęły\" wszystkie dane dla bieżącego dnia\n",
    "---"
   ]
  },
  {
   "cell_type": "code",
   "execution_count": null,
   "metadata": {},
   "outputs": [],
   "source": [
    "DAYS_WINDOW=46\n",
    "N=10 \n",
    "SET=0\n",
    "ROLL=7\n",
    "DELTADAYS=1"
   ]
  },
  {
   "cell_type": "code",
   "execution_count": null,
   "metadata": {},
   "outputs": [],
   "source": [
    "\n",
    "data = raw_data[ [\"Country\", \"CountryCode\", \"Confirmed\", \"Deaths\", \"Recovered\", \"Active\", \"Date\"] ]\n",
    "data['Date'] = pd.to_datetime(data['Date'], errors='coerce', format='%Y-%m-%dT%H:%M:%S') \n",
    "data['Day'] = data['Date'].dt.date\n",
    "\n",
    "data = data.dropna()\n",
    "print(\"Na wejściu mamy %d rekordów i %d kolumn\" % (data.shape[0],data.shape[1]))\n",
    "\n",
    "lastday = max(data[\"Date\"])\n",
    "daysbefore = lastday + pd.Timedelta(days=-DAYS_WINDOW)\n",
    "print(\"Dane od %s do %s\" % (str(daysbefore).split(' ')[0], str(lastday).split(' ')[0]) )\n",
    "\n",
    "lastday = lastday + pd.Timedelta(days=-DELTADAYS)\n",
    "\n",
    "df = data[ data[\"Date\"] > pd.to_datetime(daysbefore) ]\n",
    "print(\"Zostało %d rekordów i %d kolumn\" % (df.shape[0],df.shape[1]))\n",
    "\n",
    "## Czyścimy śmieci\n",
    "df = df.replace('Iran (Islamic Republic of)', 'Iran')\n",
    "df = df.replace('Iran, Islamic Republic of', 'Iran')\n",
    "df = df.replace('Korea, South', 'South Korea')\n",
    "df = df.replace('Korea (South)', 'South Korea')\n",
    "df = df.replace('Republic of Korea', 'South Korea')\n",
    "df = df.replace('Russian Federation', 'Russia')\n",
    "df = df.replace(' Azerbaijan', 'Azerbaijan')\n",
    "df = df.replace('Republic of Ireland', 'Ireland')\n",
    "df = df.replace('Republic of Moldova', 'Moldova')\n",
    "df = df.replace('Hong Kong SAR', 'Hong Kong')\n",
    "df = df.replace('Taipei and environs', 'Taiwan')\n",
    "df = df.replace('Taiwan*', 'Taiwan')\n",
    "\n",
    "\n",
    "confirmed = df[['Country', 'CountryCode', 'Date', 'Day', 'Confirmed']]\n",
    "confirmed[\"status\"] = \"Confirmed\"\n",
    "confirmed.rename(columns={'Confirmed':'cases'}, inplace=True)\n",
    "deaths = df[['Country', 'CountryCode', 'Date', 'Day', 'Deaths']]\n",
    "deaths[\"status\"] = \"Deaths\"\n",
    "deaths.rename(columns={'Deaths':'cases'}, inplace=True)\n",
    "recovered = df[['Country', 'CountryCode', 'Date', 'Day', 'Recovered']]\n",
    "recovered[\"status\"] = \"Recovered\"\n",
    "recovered.rename(columns={'Recovered':'cases'}, inplace=True)\n",
    "active = df[['Country', 'CountryCode', 'Date', 'Day', 'Active']]\n",
    "active[\"status\"] = \"Active\"\n",
    "active.rename(columns={'Active':'cases'}, inplace=True)\n",
    "\n",
    "df = pd.concat([confirmed, deaths, recovered, active], axis=0, sort=False)\n",
    "print(\"Po 'ręcznym' melt mamy %d rekordów i %d kolumn: %s\" % ( df.shape[0],df.shape[1], \" \".join(df.columns) ))\n",
    "\n",
    "df = df.groupby(['Country', 'CountryCode', 'Date', 'Day', 'status', 'cases',]).sum()\n",
    "df.reset_index(inplace=True)\n",
    "print(\"Po agregacji prowincji mamy %d rekordów i %d kolumn: %s\" % ( df.shape[0],df.shape[1], \" \".join(df.columns) ))\n",
    "\n",
    "\n",
    "df = df.pivot_table(\n",
    "        values='cases', \n",
    "        index=['Country', 'CountryCode', 'Date', 'Day'], \n",
    "        columns='status', \n",
    "        aggfunc=np.sum)\n",
    "\n",
    "df.reset_index(inplace=True)\n",
    "\n",
    "print(\"Po operacji pivot mamy %d rekordów i %d kolumn:  %s\" % ( df.shape[0], df.shape[1], \" \".join(df.columns) ))\n",
    "\n",
    "topdf = df[ df[\"Date\"] == lastday ]\n",
    "topdf.reset_index(inplace=True)\n",
    "topdf = topdf.sort_values(by=['Confirmed'], ascending=False)\n",
    "\n",
    "topdf.reset_index(drop=True, inplace=True)\n",
    "\n",
    "first_N_countries = topdf.iloc[N*SET:N*SET+N][\"Country\"]\n",
    "smaller_top_N = topdf.iloc[N*SET:(N*SET+N//2)][\"Country\"]\n",
    "\n",
    "italy = df[ df['Country'] == 'Italy'  ] \n",
    "us = df[ df['Country'] == 'United States of America'  ] \n",
    "\n",
    "df = df[ df['Country'].isin(first_N_countries)  ]\n",
    "df = df.sort_values(by=['Country', 'Date'])\n",
    "df.reset_index(inplace=True)\n",
    "\n",
    "print(\"Po odfiltrowaniu mamy %d rekordów i %d kolumn: %s\" % ( df.shape[0],df.shape[1],\" \".join(df.columns) ))\n",
    "print(\"Przygotowane dane z %d dni dla %d krajów\" % \n",
    "      ( len(df[\"Date\"].value_counts()), len(df[\"Country\"].value_counts()) ))\n",
    "\n",
    "df.head()"
   ]
  },
  {
   "cell_type": "code",
   "execution_count": null,
   "metadata": {},
   "outputs": [],
   "source": [
    "topdf.head(30)"
   ]
  },
  {
   "cell_type": "markdown",
   "metadata": {},
   "source": [
    "# Wizualizacja"
   ]
  },
  {
   "cell_type": "code",
   "execution_count": null,
   "metadata": {},
   "outputs": [],
   "source": [
    "import numpy as np\n",
    "import seaborn as sns\n",
    "import matplotlib.pyplot as plt\n",
    "import matplotlib.dates as mdates"
   ]
  },
  {
   "cell_type": "markdown",
   "metadata": {},
   "source": [
    "Wykres dla `N` krajów"
   ]
  },
  {
   "cell_type": "code",
   "execution_count": null,
   "metadata": {},
   "outputs": [],
   "source": [
    "def fix_legend(chart, marker=\"o\"):\n",
    "    handles, labels = chart.get_legend_handles_labels()\n",
    "    sorting_order = dict(map(lambda x: (x[1],x[0]), enumerate(first_N_countries)))\n",
    "    labels_handles = list(zip(labels,handles))\n",
    "\n",
    "    labels_handles.sort(key = lambda x: sorting_order.get(x[0],-1))\n",
    "    labels = [ x[0] for x in labels_handles[1:]]\n",
    "    handles = [ x[1] for x in labels_handles[1:]]\n",
    "    for handle in handles: \n",
    "        handle.set_marker(marker)\n",
    "        handle.set_markeredgecolor(\"black\")\n",
    "        \n",
    "    return handles, labels"
   ]
  },
  {
   "cell_type": "code",
   "execution_count": null,
   "metadata": {},
   "outputs": [],
   "source": [
    "\n",
    "plt.figure(figsize=(20,10))\n",
    "\n",
    "\n",
    "plt.style.use(\"dark_background\")\n",
    "\n",
    "chart = sns.lineplot(x='Day',\n",
    "                     y='Confirmed',\n",
    "                     hue='Country',linestyle='-', marker='o',\n",
    "                     palette='bright',  markeredgecolor=\"black\",   \n",
    "                     data=df\n",
    "                    )\n",
    "\n",
    "chart.set_title('Confirmed COVID-19 Cases')\n",
    "\n",
    "handles, labels = fix_legend(chart)\n",
    "plt.legend(handles, labels, frameon=False, loc=\"best\")\n",
    "\n",
    "plt.show();"
   ]
  },
  {
   "cell_type": "code",
   "execution_count": null,
   "metadata": {},
   "outputs": [],
   "source": [
    "plt.figure(figsize=(20,10))\n",
    "plt.style.use(\"dark_background\")\n",
    "\n",
    "chart = sns.lineplot(x='Day',\n",
    "                     y='Confirmed',\n",
    "                     hue='Country',linestyle='-', marker='o',\n",
    "                     palette='bright',    markeredgecolor=\"black\",\n",
    "                     data=df\n",
    "                    )\n",
    "\n",
    "chart.set_title('Confirmed COVID-19 Cases')\n",
    "ax.ticklabel_format(style='plain')\n",
    "handles, labels = fix_legend(chart)\n",
    "plt.legend(handles, labels, frameon=False, loc=\"best\")\n",
    "\n",
    "plt.yscale(\"log\")\n",
    "\n",
    "plt.show();"
   ]
  },
  {
   "cell_type": "code",
   "execution_count": null,
   "metadata": {},
   "outputs": [],
   "source": [
    "plt.figure(figsize=(20,10))\n",
    "plt.style.use(\"dark_background\")\n",
    "\n",
    "chart = sns.lineplot(x='Day',\n",
    "                     y='Deaths',\n",
    "                     hue='Country',linestyle='-', marker='s',\n",
    "                     palette='bright',    markeredgecolor=\"black\",\n",
    "                     data=df\n",
    "                    )\n",
    "\n",
    "chart.set_title('COVID-19 Deaths')\n",
    "\n",
    "handles, labels = fix_legend(chart, marker='s')\n",
    "plt.legend(handles, labels, frameon=False, loc=\"best\")\n",
    "\n",
    "plt.show();"
   ]
  },
  {
   "cell_type": "markdown",
   "metadata": {},
   "source": [
    "Dwa zestawy danych "
   ]
  },
  {
   "cell_type": "code",
   "execution_count": null,
   "metadata": {},
   "outputs": [],
   "source": [
    "plotdata=df\n",
    "\n",
    "plt.figure(figsize=(20,10))\n",
    "plt.style.use(\"dark_background\")\n",
    "\n",
    "chart = sns.lineplot(x='Day',\n",
    "                     y='Confirmed',\n",
    "                     hue='Country',linestyle='-', marker='o',\n",
    "                     palette='bright', markeredgecolor=\"black\",    \n",
    "                     data=plotdata\n",
    "                    )\n",
    "\n",
    "\n",
    "chart.set_title('Confirmed COVID-19 cases vs number of deaths for %d countries' % N)\n",
    "\n",
    "handles, labels = fix_legend(chart)\n",
    "plt.legend(handles, labels, frameon=False, loc=2, title=\"Confirmed\")\n",
    "\n",
    "ax2 = chart.twinx()\n",
    "\n",
    "chart2 = sns.lineplot(x='Day',\n",
    "                     y='Deaths',\n",
    "                     hue='Country', linestyle='-', marker='s',\n",
    "                     palette='bright',    \n",
    "                     data=plotdata, markeredgecolor=\"black\",\n",
    "                       ax=ax2\n",
    "                    )\n",
    "\n",
    "handles, labels = fix_legend(chart2, marker=\"s\")\n",
    "legend2 = plt.legend(handles, labels, loc=2, frameon=False, title=\"Deaths\", bbox_to_anchor=(0.15, 1))\n",
    "\n",
    "plt.show();"
   ]
  },
  {
   "cell_type": "markdown",
   "metadata": {},
   "source": [
    "Mniej krajów"
   ]
  },
  {
   "cell_type": "code",
   "execution_count": null,
   "metadata": {},
   "outputs": [],
   "source": [
    "plotdata=smaller_df\n",
    "\n",
    "plt.figure(figsize=(20,10))\n",
    "plt.style.use(\"dark_background\")\n",
    "\n",
    "chart = sns.lineplot(x='Day',\n",
    "                     y='Confirmed',\n",
    "                     hue='Country',linestyle='-', marker='o',\n",
    "                     palette='bright',  markeredgecolor=\"black\",\n",
    "                     data=plotdata\n",
    "                    )\n",
    "\n",
    "\n",
    "chart.set_title('Confirmed COVID-19 cases vs number of deaths for %d countries' % N)\n",
    "\n",
    "handles, labels = fix_legend(chart)\n",
    "plt.legend(handles, labels, frameon=False, loc=2, title=\"Confirmed\")\n",
    "\n",
    "ax2 = chart.twinx()\n",
    "\n",
    "chart2 = sns.lineplot(x='Day',\n",
    "                     y='Deaths',\n",
    "                     hue='Country', linestyle='-', marker='s',\n",
    "                     palette='bright',    markeredgecolor=\"black\",\n",
    "                     data=plotdata,\n",
    "                       ax=ax2\n",
    "                    )\n",
    "\n",
    "handles, labels = fix_legend(chart2, marker=\"s\")\n",
    "legend2 = plt.legend(handles, labels, loc=2, frameon=False, title=\"Deaths\", bbox_to_anchor=(0.15, 1))\n",
    "\n",
    "plt.show();"
   ]
  },
  {
   "cell_type": "markdown",
   "metadata": {},
   "source": [
    "## Dodanie wymiarów - stosunek między wymiarami"
   ]
  },
  {
   "cell_type": "code",
   "execution_count": null,
   "metadata": {},
   "outputs": [],
   "source": [
    "df[\"Mortality\"] = 100*df[\"Deaths\"]    / df[\"Confirmed\"] \n",
    "df[\"Recovery\"]  = 100*df[\"Recovered\"] / df[\"Confirmed\"] "
   ]
  },
  {
   "cell_type": "code",
   "execution_count": null,
   "metadata": {},
   "outputs": [],
   "source": [
    "plt.figure(figsize=(20,10))\n",
    "plt.style.use(\"dark_background\")\n",
    "\n",
    "chart = sns.lineplot(x='Day',\n",
    "                     y='Mortality',\n",
    "                     hue='Country',linestyle='-', marker='o',\n",
    "                     palette='bright',    markeredgecolor=\"black\",\n",
    "                     data=df\n",
    "                    )\n",
    "\n",
    "chart.set_title('COVID-19 Mortality')\n",
    "\n",
    "handles, labels = fix_legend(chart)\n",
    "plt.legend(handles, labels, frameon=False, loc=\"best\")\n",
    "\n",
    "plt.show();"
   ]
  },
  {
   "cell_type": "code",
   "execution_count": null,
   "metadata": {},
   "outputs": [],
   "source": [
    "plotdata=df\n",
    "\n",
    "plt.figure(figsize=(20,10))\n",
    "plt.style.use(\"dark_background\")\n",
    "\n",
    "chart = sns.lineplot(x='Day',\n",
    "                     y='Recovery',\n",
    "                     hue='Country',linestyle='-', marker='o',\n",
    "                     palette='bright',  markeredgecolor=\"black\",\n",
    "                     data=plotdata\n",
    "                    )\n",
    "\n",
    "chart.set_title('COVID-19 Recovery rate')\n",
    "\n",
    "handles, labels = fix_legend(chart)\n",
    "plt.legend(handles, labels, frameon=False, loc=\"best\")\n",
    "\n",
    "plt.show();"
   ]
  },
  {
   "cell_type": "markdown",
   "metadata": {},
   "source": [
    "## Wymiary jako funkcja kilku wierszy - różnica i średnia krocząca "
   ]
  },
  {
   "cell_type": "code",
   "execution_count": null,
   "metadata": {},
   "outputs": [],
   "source": [
    "result = []\n",
    "\n",
    "countries = df[\"Country\"].unique()\n",
    "dataframes = [ df[ df[\"Country\"] == x] for x in countries ] \n",
    "\n",
    "for m_df in dataframes:\n",
    "    country = m_df['Country'].iloc[0]\n",
    "    m_df = m_df[ [\"Day\", \"Confirmed\", \"Deaths\", \"Recovered\"] ]\n",
    "    m_df.set_index(\"Day\", inplace=True)\n",
    "    df_diff = m_df.diff()\n",
    "    df_diff.columns=[\"confirmed change\", \"deaths change\", \"recovered change\"]\n",
    "    \n",
    "    m_df = pd.concat([m_df, df_diff], axis=1, sort=False)\n",
    "    \n",
    "    m_df[\"confirmed pct change\"] = 100.0 * m_df[\"confirmed change\"] / m_df[\"Confirmed\"]\n",
    "    m_df[\"confirmed pct change\"]  = m_df[\"confirmed pct change\"].apply(lambda x: x if x > -50.0 else 0.0)\n",
    "\n",
    "    m_df[\"deaths pct change\"] = 100.0 * m_df[\"deaths change\"] / m_df[\"Deaths\"]\n",
    "    m_df[\"deaths pct change\"]  = m_df[\"deaths pct change\"].apply(lambda x: x if x > -50.0 else 0.0)\n",
    "    m_df[\"deaths pct change\"]  = m_df[\"deaths pct change\"].apply(lambda x: x if x < 399.0 else 0.0)\n",
    "    \n",
    "    m_df[\"rolling deaths change\"] = m_df[\"deaths change\"] .rolling(window=ROLL).mean()\n",
    "    m_df[\"rolling confirmed pct change\"] = m_df[\"confirmed pct change\"] .rolling(window=ROLL).mean()\n",
    "    m_df[\"rolling deaths pct change\"] = m_df[\"deaths pct change\"] .rolling(window=ROLL).mean()\n",
    "    m_df = m_df.dropna()\n",
    "    \n",
    "    m_df = m_df.sort_values(by=\"Day\")\n",
    "    m_df[\"Country\"] = country\n",
    "    m_df.reset_index(inplace=True)\n",
    "    result.append(m_df)\n",
    "    \n",
    "new_df = pd.concat(result, axis=0, sort=False)\n",
    "today = max(new_df[\"Day\"])\n",
    "d=new_df[ new_df[\"Day\"] == today].sort_values(by=['Confirmed'], ascending=False).reset_index()\n",
    "d[\"index\"] = d[\"Country\"]\n",
    "d.drop([\"Country\"], axis=1, inplace=True)\n",
    "d.head(N)"
   ]
  },
  {
   "cell_type": "code",
   "execution_count": null,
   "metadata": {},
   "outputs": [],
   "source": [
    "plotdata=new_df\n",
    "\n",
    "plt.figure(figsize=(20,10))\n",
    "plt.style.use(\"dark_background\")\n",
    "\n",
    "chart = sns.lineplot(x='Day',\n",
    "                     y='confirmed pct change',\n",
    "                     hue='Country',linestyle='-', marker='o',\n",
    "                     palette='bright', markeredgecolor=\"black\",   \n",
    "                     data=plotdata\n",
    "                    )\n",
    "\n",
    "chart.set_title('COVID-19 Confirmed percentage change')\n",
    "\n",
    "handles, labels = fix_legend(chart)\n",
    "plt.legend(handles, labels, frameon=False, loc=\"best\")\n",
    "\n",
    "plt.grid(color='grey', linestyle=':', linewidth=1, alpha=0.3, axis=\"x\")\n",
    "\n",
    "plt.show();"
   ]
  },
  {
   "cell_type": "code",
   "execution_count": null,
   "metadata": {},
   "outputs": [],
   "source": [
    "plotdata=new_df\n",
    "\n",
    "plt.figure(figsize=(20,10))\n",
    "plt.style.use(\"dark_background\")\n",
    "\n",
    "chart = sns.lineplot(x='Day',\n",
    "                     y='rolling confirmed pct change',\n",
    "                     hue='Country',linestyle='-', marker='o',\n",
    "                     palette='bright', markeredgecolor=\"black\",   \n",
    "                     data=plotdata\n",
    "                    )\n",
    "\n",
    "chart.set_title('COVID-19 Confirmed percentage change daily rolling average over %d days' % ROLL)\n",
    "\n",
    "handles, labels = fix_legend(chart)\n",
    "plt.legend(handles, labels, frameon=False, loc=\"best\")\n",
    "\n",
    "plt.show();"
   ]
  },
  {
   "cell_type": "code",
   "execution_count": null,
   "metadata": {},
   "outputs": [],
   "source": [
    "plotdata=new_df\n",
    "\n",
    "plt.figure(figsize=(20,10))\n",
    "plt.style.use(\"dark_background\")\n",
    "\n",
    "chart = sns.lineplot(x='Day',\n",
    "                     y='deaths pct change',\n",
    "                     hue='Country',linestyle='-', marker='o',\n",
    "                     palette='bright', markeredgecolor=\"black\",   \n",
    "                     data=plotdata\n",
    "                    )\n",
    "\n",
    "chart.set_title('COVID-19 Deaths change in pct daily')\n",
    "\n",
    "handles, labels = fix_legend(chart)\n",
    "plt.legend(handles, labels, frameon=False, loc=\"best\")\n",
    "\n",
    "plt.grid(color='grey', linestyle=':', linewidth=1, alpha=0.3, axis=\"x\")\n",
    "\n",
    "plt.show();"
   ]
  },
  {
   "cell_type": "code",
   "execution_count": null,
   "metadata": {},
   "outputs": [],
   "source": [
    "plotdata=new_df\n",
    "\n",
    "plt.figure(figsize=(20,10))\n",
    "plt.style.use(\"dark_background\")\n",
    "\n",
    "chart = sns.lineplot(x='Day',\n",
    "                     y='rolling deaths pct change',\n",
    "                     hue='Country',linestyle='-', marker='o',\n",
    "                     palette='bright', markeredgecolor=\"black\",   \n",
    "                     data=plotdata\n",
    "                    )\n",
    "\n",
    "chart.set_title('COVID-19 deaths change in pct daily rolling average over %d days' % ROLL)\n",
    "\n",
    "handles, labels = fix_legend(chart)\n",
    "plt.legend(handles, labels, frameon=False, loc=\"best\")\n",
    "\n",
    "\n",
    "plt.show();"
   ]
  },
  {
   "cell_type": "code",
   "execution_count": null,
   "metadata": {},
   "outputs": [],
   "source": [
    "plotdata=new_df\n",
    "\n",
    "plt.figure(figsize=(20,10))\n",
    "plt.style.use(\"dark_background\")\n",
    "\n",
    "chart = sns.lineplot(x='Day',\n",
    "                     y='deaths change',\n",
    "                     hue='Country',linestyle='-', marker='s',\n",
    "                     palette='bright', markeredgecolor=\"black\",   \n",
    "                     data=plotdata\n",
    "                    )\n",
    "\n",
    "chart.set_title('COVID-19 Daily Deaths')\n",
    "\n",
    "handles, labels = fix_legend(chart, marker=\"s\")\n",
    "plt.legend(handles, labels, frameon=False, loc=\"best\")\n",
    "\n",
    "plt.grid(color='grey', linestyle=':', linewidth=1, alpha=0.3, axis=\"y\")\n",
    "\n",
    "plt.show();"
   ]
  },
  {
   "cell_type": "code",
   "execution_count": null,
   "metadata": {},
   "outputs": [],
   "source": [
    "plotdata=new_df\n",
    "\n",
    "plt.figure(figsize=(20,10))\n",
    "plt.style.use(\"dark_background\")\n",
    "\n",
    "chart = sns.lineplot(x='Day',\n",
    "                     y='rolling deaths change',\n",
    "                     hue='Country',linestyle='-', marker='s',\n",
    "                     palette='bright', markeredgecolor=\"black\",   \n",
    "                     data=plotdata\n",
    "                    )\n",
    "\n",
    "chart.set_title('COVID-19 Daily Deaths Rolling average over %d days' % ROLL)\n",
    "\n",
    "handles, labels = fix_legend(chart, marker='s')\n",
    "plt.legend(handles, labels, frameon=False, loc=\"best\")\n",
    "\n",
    "plt.show();"
   ]
  },
  {
   "cell_type": "markdown",
   "metadata": {},
   "source": [
    "## Zmiana wymiaru _X_"
   ]
  },
  {
   "cell_type": "code",
   "execution_count": null,
   "metadata": {},
   "outputs": [],
   "source": [
    "plt.figure(figsize=(20,10))\n",
    "plt.style.use(\"dark_background\")\n",
    "plt.xscale(\"log\")\n",
    "plt.yscale(\"log\")\n",
    "\n",
    "chart = sns.lineplot(x='Confirmed',\n",
    "                     y='Deaths', \n",
    "                     hue='Country',linestyle='-', marker='o',\n",
    "                     palette='bright', markeredgecolor=\"black\",   \n",
    "                     alpha=0.5,\n",
    "                     data=df\n",
    "                    )\n",
    "\n",
    "chart.set_title('COVID-19 Mortality')\n",
    "\n",
    "handles, labels = fix_legend(chart)\n",
    "plt.legend(handles, labels, frameon=False, loc=\"best\")\n",
    "\n",
    "plt.show();"
   ]
  },
  {
   "cell_type": "markdown",
   "metadata": {},
   "source": [
    "---"
   ]
  }
 ],
 "metadata": {
  "kernelspec": {
   "display_name": "Python 3",
   "language": "python",
   "name": "python3"
  },
  "language_info": {
   "codemirror_mode": {
    "name": "ipython",
    "version": 3
   },
   "file_extension": ".py",
   "mimetype": "text/x-python",
   "name": "python",
   "nbconvert_exporter": "python",
   "pygments_lexer": "ipython3",
   "version": "3.7.5"
  }
 },
 "nbformat": 4,
 "nbformat_minor": 4
}
